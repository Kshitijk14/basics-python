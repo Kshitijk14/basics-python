{
 "cells": [
  {
   "cell_type": "markdown",
   "metadata": {},
   "source": [
    "# python programming"
   ]
  },
  {
   "cell_type": "markdown",
   "metadata": {},
   "source": [
    "[Python](https://fr.wikipedia.org/wiki/Python_(langage)) is a programming language that is widely spread nowadays. It is used in many different domains thanks to its versatility. \n",
    "\n",
    "\n",
    "It is an interpreted language meaning that the code is not compiled but *translated* by a running Python engine."
   ]
  },
  {
   "cell_type": "markdown",
   "metadata": {},
   "source": [
    "## Installation\n",
    "\n",
    "See https://www.python.org/about/gettingstarted/ for how to install Python (but it is probably already installed).\n",
    "\n",
    "\n",
    "In Data Science, it is common to use [Anaconda](https://www.anaconda.com/products/individual-d) to download and install Python and its environment. (see also the [quickstart](https://docs.anaconda.com/anaconda/user-guide/getting-started/).\n"
   ]
  },
  {
   "cell_type": "markdown",
   "metadata": {},
   "source": [
    "### In the python shell \n",
    "\n",
    "\n",
    "The python shell can be launched by typing the command `python` in a terminal (this works on Linux, Mac, and Windows with PowerShell). To exit it, type `exit()`.\n",
    "\n",
    "\n",
    "\n",
    "\n"
   ]
  },
  {
   "cell_type": "markdown",
   "metadata": {},
   "source": [
    "# 1- Numbers and Variables\n",
    "\n",
    "\n",
    "## Variables\n"
   ]
  },
  {
   "cell_type": "code",
   "execution_count": 31,
   "metadata": {
    "collapsed": true,
    "jupyter": {
     "outputs_hidden": true
    }
   },
   "outputs": [
    {
     "data": {
      "text/plain": [
       "5"
      ]
     },
     "execution_count": 31,
     "metadata": {},
     "output_type": "execute_result"
    }
   ],
   "source": [
    "2 + 2 + 1 # comment"
   ]
  },
  {
   "cell_type": "code",
   "execution_count": null,
   "metadata": {},
   "outputs": [],
   "source": [
    "a = 4\n",
    "print(a)\n",
    "print(type(a))"
   ]
  },
  {
   "cell_type": "code",
   "execution_count": null,
   "metadata": {},
   "outputs": [],
   "source": [
    "a,x = 4, 9000\n",
    "print(a)\n",
    "print(x)"
   ]
  },
  {
   "cell_type": "markdown",
   "metadata": {},
   "source": [
    "Variables names can contain `a-z`, `A-Z`, `0-9` and some special character as `_` but must always begin by a letter. By convention, variables names are smallcase. \n",
    "\n",
    "\n",
    "## Types\n",
    "\n",
    "Variables, their type is deduced from the context: the initialization or the types of the variables used for its computation. Observe the following example."
   ]
  },
  {
   "cell_type": "code",
   "execution_count": 1,
   "metadata": {},
   "outputs": [
    {
     "name": "stdout",
     "output_type": "stream",
     "text": [
      "Integer\n",
      "5 <class 'int'>\n",
      "\n",
      "Float\n",
      "17.2 <class 'float'>\n",
      "\n",
      "Complex\n",
      "(3.14+2j) <class 'complex'>\n",
      "3.14 <class 'float'>\n",
      "2.0 <class 'float'>\n"
     ]
    }
   ],
   "source": [
    "print(\"Integer\")\n",
    "a = 5\n",
    "print(a,type(a))\n",
    "\n",
    "print(\"\\nFloat\")\n",
    "b = 17.2\n",
    "print(b,type(b))\n",
    "\n",
    "print(\"\\nComplex\")\n",
    "c = 3.14 + 2j\n",
    "print(c,type(c))\n",
    "print(c.real,type(c.real))\n",
    "print(c.imag,type(c.imag))"
   ]
  },
  {
   "cell_type": "markdown",
   "metadata": {},
   "source": [
    "## Operation on numbers\n",
    "\n",
    "The usual operations are \n",
    "* Multiplication and Division with respecively `*` and `/`\n",
    "* Modulo with(for remainder) `%`"
   ]
  },
  {
   "cell_type": "code",
   "execution_count": 1,
   "metadata": {},
   "outputs": [
    {
     "name": "stdout",
     "output_type": "stream",
     "text": [
      "24.0 <class 'float'>\n"
     ]
    }
   ],
   "source": [
    "print(8 * 3., type(8 * 3.))  "
   ]
  },
  {
   "cell_type": "code",
   "execution_count": 2,
   "metadata": {},
   "outputs": [
    {
     "name": "stdout",
     "output_type": "stream",
     "text": [
      "2.5 <class 'float'>\n"
     ]
    }
   ],
   "source": [
    "print(5/2, type(5/2))  "
   ]
  },
  {
   "cell_type": "code",
   "execution_count": 3,
   "metadata": {},
   "outputs": [
    {
     "name": "stdout",
     "output_type": "stream",
     "text": [
      "1024 <class 'int'>\n"
     ]
    }
   ],
   "source": [
    "print(2**10, type(2**10))  "
   ]
  },
  {
   "cell_type": "code",
   "execution_count": 4,
   "metadata": {},
   "outputs": [
    {
     "name": "stdout",
     "output_type": "stream",
     "text": [
      "0 <class 'int'>\n"
     ]
    }
   ],
   "source": [
    "print(8%2, type(8%2))  "
   ]
  },
  {
   "cell_type": "markdown",
   "metadata": {},
   "source": [
    "## Booleans \n",
    "\n",
    "Boolean is the type of a variable `True` or `False` and thus are extremely useful when coding. \n",
    "* They can be obtained by comparisons  `>`, `>=` (greater, greater or égal), `<`, `<=` (smaller, smaller or equal) or membership `==` , `!=` (equality, different).\n",
    "* They can be manipulated by the logical operations `and`, `not`, `or`. "
   ]
  },
  {
   "cell_type": "code",
   "execution_count": 7,
   "metadata": {},
   "outputs": [
    {
     "name": "stdout",
     "output_type": "stream",
     "text": [
      "2 > 1  True\n",
      "2 > 2  False\n",
      "2 >= 2  True\n",
      "2 == 2  True\n",
      "2 == 2.0  True\n",
      "2 != 1.9  True\n"
     ]
    }
   ],
   "source": [
    "print('2 > 1 ', 2 > 1)   \n",
    "print('2 > 2 ', 2 > 2) \n",
    "print('2 >= 2 ',2 >= 2) \n",
    "print('2 == 2 ',2 == 2) \n",
    "print('2 == 2.0 ',2 == 2.0) \n",
    "print('2 != 1.9 ',2 != 1.9) "
   ]
  },
  {
   "cell_type": "markdown",
   "metadata": {},
   "source": [
    "## Lists \n",
    "\n",
    "Lists are the base element for sequences of variables in python, they are themselves a variable type. \n",
    "* The syntax to write them is `[ ... , ... ]`\n",
    "* The types of the elements may not be all the same\n",
    "* The indices begin at $0$ (`l[0]` is the first element of `l`)\n",
    "* Lists can be nested (lists of lists of ...)\n",
    "\n",
    "\n",
    "Another type called *tuple* with the syntax `( ... , ... )` exists in Python. It has almost the same structure than list to the notable exceptions that one cannot add or remove elements from a tuple. We will see them briefly later "
   ]
  },
  {
   "cell_type": "code",
   "execution_count": 9,
   "metadata": {},
   "outputs": [
    {
     "name": "stdout",
     "output_type": "stream",
     "text": [
      "[1, 2, 3, [4, 8], True, 2.3] <class 'list'>\n"
     ]
    }
   ],
   "source": [
    "l = [1, 2, 3, [4,8] , True , 2.3]\n",
    "print(l, type(l))"
   ]
  },
  {
   "cell_type": "code",
   "execution_count": 10,
   "metadata": {},
   "outputs": [
    {
     "name": "stdout",
     "output_type": "stream",
     "text": [
      "1 <class 'int'>\n",
      "[4, 8] <class 'list'>\n",
      "8 <class 'int'>\n"
     ]
    }
   ],
   "source": [
    "print(l[0],type(l[0]))\n",
    "print(l[3],type(l[3]))\n",
    "print(l[3][1],type(l[3][1]))"
   ]
  },
  {
   "cell_type": "code",
   "execution_count": 11,
   "metadata": {},
   "outputs": [
    {
     "name": "stdout",
     "output_type": "stream",
     "text": [
      "[1, 2, 3, [4, 8], True, 2.3]\n",
      "[True, 2.3]\n",
      "[1, 2, 3, [4, 8], True]\n",
      "[True]\n",
      "[2, [4, 8], 2.3]\n",
      "[2.3, True, [4, 8], 3, 2, 1]\n",
      "2.3\n"
     ]
    }
   ],
   "source": [
    "print(l)\n",
    "print(l[4:]) # l[4:] is l from the position 4 (included)\n",
    "print(l[:5]) # l[:5] is l up to position 5 (excluded)\n",
    "print(l[4:5]) # l[4:5] is l between 4 (included) and 5 (excluded) so just 4\n",
    "print(l[1:6:2])  # l[1:6:2] is l between 1 (included) and 6 (excluded) by steps of 2 thus 1,3,5\n",
    "print(l[::-1]) # reversed order\n",
    "print(l[-1]) # last element"
   ]
  },
  {
   "cell_type": "markdown",
   "metadata": {},
   "source": [
    "### Operations on lists \n",
    "\n",
    "One can add, insert, remove, count, or test if a element is in a list easily"
   ]
  },
  {
   "cell_type": "code",
   "execution_count": 12,
   "metadata": {},
   "outputs": [
    {
     "name": "stdout",
     "output_type": "stream",
     "text": [
      "[1, 2, 3, [4, 8], True, 2.3, 10]\n"
     ]
    }
   ],
   "source": [
    "l.append(10)   # Add an element to l (the list is not copied, it is actually l that is modified)\n",
    "print(l)"
   ]
  },
  {
   "cell_type": "code",
   "execution_count": 13,
   "metadata": {},
   "outputs": [
    {
     "data": {
      "text/plain": [
       "[1, 'u', 2, 3, [4, 8], True, 2.3, 10]"
      ]
     },
     "execution_count": 13,
     "metadata": {},
     "output_type": "execute_result"
    }
   ],
   "source": [
    "l.insert(1,'u') # Insert an element at position 1 in l \n",
    "l"
   ]
  },
  {
   "cell_type": "code",
   "execution_count": 14,
   "metadata": {},
   "outputs": [
    {
     "name": "stdout",
     "output_type": "stream",
     "text": [
      "[1, 'u', 2, 3, [4, 8], True, 2.3]\n"
     ]
    }
   ],
   "source": [
    "l.remove(10) # Remove the first element 10 of l \n",
    "print(l)"
   ]
  },
  {
   "cell_type": "code",
   "execution_count": 15,
   "metadata": {},
   "outputs": [
    {
     "name": "stdout",
     "output_type": "stream",
     "text": [
      "7\n"
     ]
    }
   ],
   "source": [
    "print(len(l)) # length of a list"
   ]
  },
  {
   "cell_type": "markdown",
   "metadata": {},
   "source": [
    "### Handling lists\n",
    "\n",
    "Lists are *pointer*-like types. Meaning that if you write `l2=l`, you *do not copy* `l` to `l2` but rather copy the pointer so modifying one, will modify the other.\n",
    "\n",
    "The proper way to copy list is to use the dedicated `copy` method for list variables. "
   ]
  },
  {
   "cell_type": "code",
   "execution_count": 3,
   "metadata": {},
   "outputs": [
    {
     "name": "stdout",
     "output_type": "stream",
     "text": [
      "[1, 2, 3, [4, 8], True, 2.3, 'Something'] [1, 2, 3, [4, 8], True, 2.3, 'Something']\n"
     ]
    }
   ],
   "source": [
    "l2 = l \n",
    "l.append('Something')\n",
    "print(l,l2)"
   ]
  },
  {
   "cell_type": "code",
   "execution_count": null,
   "metadata": {},
   "outputs": [],
   "source": [
    "l3 = list(l) # l.copy() works in Python 3 \n",
    "l.remove('Something')\n",
    "print(l,l3)"
   ]
  },
  {
   "cell_type": "markdown",
   "metadata": {},
   "source": [
    "## Tuples, Dictionaries [*]\n",
    "\n",
    "\n",
    "* Tuples are similar to list but are created with `(...,...)` or simply comas. They cannot be changed once created.\n"
   ]
  },
  {
   "cell_type": "code",
   "execution_count": null,
   "metadata": {},
   "outputs": [],
   "source": [
    "t = (1,'b',876876.908)\n",
    "print(t,type(t))\n",
    "print(t[0])"
   ]
  },
  {
   "cell_type": "code",
   "execution_count": null,
   "metadata": {},
   "outputs": [],
   "source": [
    "a,b = 12,[987,98987]\n",
    "u = a,b\n",
    "print(a,b,u)"
   ]
  },
  {
   "cell_type": "markdown",
   "metadata": {},
   "source": [
    "##Dictionaries[*]\n",
    "* Dictionaries are aimed at storing values of the form *key-value* with the syntax `{key1 : value1, ...}`\n",
    "\n",
    "This type is often used as a return type in librairies."
   ]
  },
  {
   "cell_type": "code",
   "execution_count": 1,
   "metadata": {},
   "outputs": [
    {
     "name": "stdout",
     "output_type": "stream",
     "text": [
      "{'param1': 1.0, 'param2': True, 'param3': 'red'} <class 'dict'>\n"
     ]
    }
   ],
   "source": [
    "d = {\"param1\" : 1.0, \"param2\" : True, \"param3\" : \"red\"}\n",
    "print(d,type(d))"
   ]
  },
  {
   "cell_type": "code",
   "execution_count": 2,
   "metadata": {},
   "outputs": [
    {
     "name": "stdout",
     "output_type": "stream",
     "text": [
      "1.0\n",
      "{'param1': 2.4, 'param2': True, 'param3': 'red'}\n"
     ]
    }
   ],
   "source": [
    "print(d[\"param1\"])\n",
    "d[\"param1\"] = 2.4\n",
    "print(d)"
   ]
  },
  {
   "cell_type": "markdown",
   "metadata": {},
   "source": [
    "## Strings and text formatting\n",
    "\n",
    "\n",
    "* Strings are delimited with (double) quotes. They can be handled globally the same way as lists (see above).\n",
    "* <tt>print</tt> displays (tuples of) variables (not necessarily strings).\n",
    "* To include variable into string, it is preferable to use the <tt>format</tt> method.\n",
    "\n"
   ]
  },
  {
   "cell_type": "code",
   "execution_count": 17,
   "metadata": {},
   "outputs": [
    {
     "name": "stdout",
     "output_type": "stream",
     "text": [
      "test <class 'str'>\n"
     ]
    }
   ],
   "source": [
    "s = \"test\"\n",
    "print(s,type(s))"
   ]
  },
  {
   "cell_type": "code",
   "execution_count": null,
   "metadata": {},
   "outputs": [],
   "source": [
    "print(s[0])\n",
    "print(s + \"42\")"
   ]
  },
  {
   "cell_type": "code",
   "execution_count": null,
   "metadata": {},
   "outputs": [],
   "source": [
    "print(s,42)\n",
    "print(s+\"42\")"
   ]
  },
  {
   "cell_type": "markdown",
   "metadata": {},
   "source": [
    "The `format` method"
   ]
  },
  {
   "cell_type": "code",
   "execution_count": null,
   "metadata": {},
   "outputs": [],
   "source": [
    "print( \"test {}\".format(42) )"
   ]
  },
  {
   "cell_type": "code",
   "execution_count": 18,
   "metadata": {},
   "outputs": [
    {
     "name": "stdout",
     "output_type": "stream",
     "text": [
      "today is your test\n"
     ]
    }
   ],
   "source": [
    "print(f\"today is your {s}\")"
   ]
  },
  {
   "cell_type": "markdown",
   "metadata": {},
   "source": [
    "# 2- Branching and Loops\n",
    "\n",
    "\n",
    "## If, Elif, Else \n",
    "\n",
    "In Python, the formulation for branching is the  `if:` condition (mind the `:`) followed by an indentation of *one tab* that represents what is executed if the condition is true. **The indentation is primordial and at the core of Python.**  \n",
    "\n"
   ]
  },
  {
   "cell_type": "code",
   "execution_count": null,
   "metadata": {},
   "outputs": [],
   "source": [
    "# if :- It is use for decsion making.\n",
    "\n",
    "a = 5\n",
    "\n",
    "if a>3:\n",
    "    print(\"okay\")\n"
   ]
  },
  {
   "cell_type": "code",
   "execution_count": null,
   "metadata": {},
   "outputs": [],
   "source": [
    "# else \n",
    "\n",
    "a = 5\n",
    "b = 13\n",
    "\n",
    "if a>b:\n",
    "    print(\"A is largest\")\n",
    "else:\n",
    "    print(\"B is largest\")"
   ]
  },
  {
   "cell_type": "code",
   "execution_count": null,
   "metadata": {},
   "outputs": [],
   "source": [
    "#elif is else and  if branchinng\n",
    "weekday = int(input('enter days number'))\n",
    "\n",
    "if weekday == 1:\n",
    "    print(\"Monday\")\n",
    "elif weekday == 2:\n",
    "    print(\"Tuesday\")\n",
    "elif weekday == 3:\n",
    "    print(\"Wednesday\")\n",
    "elif weekday == 4:\n",
    "    print(\"Thrusday\")\n",
    "elif weekday == 5:\n",
    "    print('friday')\n",
    "else:\n",
    "    print('Wrong entry')"
   ]
  },
  {
   "cell_type": "markdown",
   "metadata": {},
   "source": [
    "## For loop\n",
    "\n",
    "The syntax of `for` loops is `for x in something:` followed by an indentation of one tab which represents what will be executed. \n",
    "\n",
    "The `something` above can be of different nature: list, dictionary, etc."
   ]
  },
  {
   "cell_type": "code",
   "execution_count": null,
   "metadata": {},
   "outputs": [],
   "source": [
    "for x in [1, 2, 3]:\n",
    "    print(x)"
   ]
  },
  {
   "cell_type": "code",
   "execution_count": null,
   "metadata": {},
   "outputs": [],
   "source": [
    "sentence = \"\"\n",
    "for word in [\"Python\", \"for\", \"data\", \"Science\"]:\n",
    "    sentence = sentence + word + \" \"\n",
    "print(sentence)"
   ]
  },
  {
   "cell_type": "markdown",
   "metadata": {},
   "source": [
    "A useful function is <tt>range</tt> which generated sequences of numbers that can be used in loops."
   ]
  },
  {
   "cell_type": "code",
   "execution_count": null,
   "metadata": {},
   "outputs": [],
   "source": [
    "print(\"Range (from 0) to 4 (excluded) \")\n",
    "for x in range(4): \n",
    "    print(x)   \n",
    "\n",
    "print(\"Range from 2 (included) to 6 (excluded) \")\n",
    "for x in range(2,6): \n",
    "    print(x)\n",
    "\n",
    "print(\"Range from 1 (included) to 12 (excluded) by steps of 3 \")\n",
    "for x in range(1,12,3): \n",
    "    print(x)"
   ]
  },
  {
   "cell_type": "markdown",
   "metadata": {},
   "source": [
    "If the index is needed along with the value, the function `enumerate` is useful."
   ]
  },
  {
   "cell_type": "code",
   "execution_count": 4,
   "metadata": {},
   "outputs": [
    {
     "name": "stdout",
     "output_type": "stream",
     "text": [
      "0 -3\n",
      "1 -2\n",
      "2 -1\n",
      "3 0\n",
      "4 1\n",
      "5 2\n"
     ]
    }
   ],
   "source": [
    "for idx, x in enumerate(range(-3,3)):\n",
    "    print(idx, x)"
   ]
  },
  {
   "cell_type": "markdown",
   "metadata": {},
   "source": [
    "## While loop\n",
    "\n",
    "Similarly to `for` loops, the syntax is`while condition:` followed by an indentation of one tab which represents what will be executed. "
   ]
  },
  {
   "cell_type": "code",
   "execution_count": null,
   "metadata": {},
   "outputs": [],
   "source": [
    "i = 0\n",
    "\n",
    "while i<5:\n",
    "    print(i)\n",
    "    i+=1"
   ]
  },
  {
   "cell_type": "markdown",
   "metadata": {},
   "source": [
    "\n",
    "\n",
    "> \n",
    "> The code snippet below enable the user to enter a number. Check if this number is odd or even. Optionnaly, handle bad inputs (character, float, signs, etc)\n"
   ]
  },
  {
   "cell_type": "code",
   "execution_count": null,
   "metadata": {},
   "outputs": [],
   "source": [
    "num = int(input(\"Enter a number: \"))\n",
    "print(num)\n",
    "if num%2 == 0:\n",
    "    print('even number')\n",
    "else:\n",
    "    print('odd')"
   ]
  },
  {
   "cell_type": "markdown",
   "metadata": {},
   "source": [
    "---"
   ]
  },
  {
   "cell_type": "markdown",
   "metadata": {},
   "source": [
    "> **Exercise 2:**  Fibonacci \n",
    ">\n",
    "> The Fibonacci seqence is a sequence of numbers where the next number in the sequence is the sum of the previous two numbers in the sequence. The sequence looks like this: 1, 1, 2, 3, 5, 8, 13. Write a function that generate a given number of elements of the Fibonacci sequence.\n"
   ]
  },
  {
   "cell_type": "code",
   "execution_count": 16,
   "metadata": {
    "scrolled": true
   },
   "outputs": [
    {
     "name": "stdout",
     "output_type": "stream",
     "text": [
      "33\n"
     ]
    }
   ],
   "source": [
    "l=[1 ,1 ,2, 3, 5, 8, 13]\n",
    "res=0\n",
    "for x in l:\n",
    "    res = res + x\n",
    "    \n",
    "print(res)"
   ]
  },
  {
   "cell_type": "markdown",
   "metadata": {},
   "source": [
    "---"
   ]
  },
  {
   "cell_type": "code",
   "execution_count": 30,
   "metadata": {},
   "outputs": [
    {
     "name": "stdout",
     "output_type": "stream",
     "text": [
      "* * * * * \n",
      "* * * * \n",
      "* * * \n",
      "* * \n",
      "* \n"
     ]
    }
   ],
   "source": [
    "for i in range(5):\n",
    "    for j in range(i,5):\n",
    "        print(end=\"* \")\n",
    "    print()\n",
    "\n",
    "        "
   ]
  },
  {
   "cell_type": "code",
   "execution_count": 6,
   "metadata": {},
   "outputs": [
    {
     "name": "stdout",
     "output_type": "stream",
     "text": [
      "enter nunmber4\n",
      "24\n"
     ]
    }
   ],
   "source": [
    "f=1\n",
    "n=int(input(\"enter nunmber\"))\n",
    "for x in range(1,n+1):\n",
    "    f=f*x\n",
    "print(f)"
   ]
  },
  {
   "cell_type": "code",
   "execution_count": 16,
   "metadata": {},
   "outputs": [
    {
     "name": "stdout",
     "output_type": "stream",
     "text": [
      "a m\n"
     ]
    }
   ],
   "source": [
    "st=\"i am imanshu\"\n",
    "x=slice(2,7,2)\n",
    "print(st[x])"
   ]
  },
  {
   "cell_type": "code",
   "execution_count": null,
   "metadata": {},
   "outputs": [],
   "source": []
  }
 ],
 "metadata": {
  "kernelspec": {
   "display_name": "Python 3 (ipykernel)",
   "language": "python",
   "name": "python3"
  },
  "language_info": {
   "codemirror_mode": {
    "name": "ipython",
    "version": 3
   },
   "file_extension": ".py",
   "mimetype": "text/x-python",
   "name": "python",
   "nbconvert_exporter": "python",
   "pygments_lexer": "ipython3",
   "version": "3.11.3"
  },
  "varInspector": {
   "cols": {
    "lenName": 16,
    "lenType": 16,
    "lenVar": 40
   },
   "kernels_config": {
    "python": {
     "delete_cmd_postfix": "",
     "delete_cmd_prefix": "del ",
     "library": "var_list.py",
     "varRefreshCmd": "print(var_dic_list())"
    },
    "r": {
     "delete_cmd_postfix": ") ",
     "delete_cmd_prefix": "rm(",
     "library": "var_list.r",
     "varRefreshCmd": "cat(var_dic_list()) "
    }
   },
   "types_to_exclude": [
    "module",
    "function",
    "builtin_function_or_method",
    "instance",
    "_Feature"
   ],
   "window_display": false
  }
 },
 "nbformat": 4,
 "nbformat_minor": 4
}
