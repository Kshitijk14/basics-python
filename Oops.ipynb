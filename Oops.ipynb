{
 "cells": [
  {
   "cell_type": "markdown",
   "metadata": {},
   "source": [
    "# **OOPS**"
   ]
  },
  {
   "cell_type": "markdown",
   "metadata": {},
   "source": [
    "Idea: to use classes and objects to represent real-world concepts & entities"
   ]
  },
  {
   "cell_type": "markdown",
   "metadata": {},
   "source": [
    "## Class\n",
    "\n",
    "* blueprint for creating objects, providing initial values for state (member vars. or attributes), & implementatons of behaviour (member funcs. or methods). The user defined objects are created using class keyword. \n",
    "\n",
    "* collection of objects\n",
    "* blueprint/prototype/template from which the objects are created\n",
    "* it defines props. & methods that an object of foll. class will have\n",
    "\n",
    "\n",
    "1. Properties: data/stae of an object &\n",
    "   Methods:    action/behaviour that an object can perform\n",
    "2. Attributes: var. that belong to a class,\n",
    "    they are always public and can be accessed by \".\""
   ]
  },
  {
   "cell_type": "code",
   "execution_count": null,
   "metadata": {},
   "outputs": [],
   "source": [
    "class Dog:\n",
    "    pass"
   ]
  },
  {
   "cell_type": "markdown",
   "metadata": {},
   "source": [
    "## Objects\n",
    "\n",
    "* instance of class, containing its own data & methods\n",
    "* its an entity -> having state & behaviour associated with it\n",
    "\n",
    "Objects consists:\n",
    "* State:\n",
    "1. represented by attributes of an object\n",
    "2. reflects the props. of an object\n",
    "* Behaviour:\n",
    "1. represented by methods of an object\n",
    "2. reflects response of an object to other\n",
    "* Identity:\n",
    "1. gives a unique no.\n",
    "2. enables 1 object to interact with other\n"
   ]
  },
  {
   "cell_type": "markdown",
   "metadata": {},
   "source": [
    "* identity: name of dog\n",
    "* state/attributes: breed, age, or color\n",
    "* behaviour: whether the dog is eating or sleeping"
   ]
  },
  {
   "cell_type": "code",
   "execution_count": null,
   "metadata": {},
   "outputs": [],
   "source": [
    "obj = Dog()"
   ]
  },
  {
   "cell_type": "markdown",
   "metadata": {},
   "source": [
    "### __init__ Method\n",
    "\n",
    "* similar to constructor in c++ & java"
   ]
  },
  {
   "cell_type": "code",
   "execution_count": 1,
   "metadata": {},
   "outputs": [
    {
     "name": "stdout",
     "output_type": "stream",
     "text": [
      "Rodger is a mammal\n",
      "Tommy is also a mammal\n",
      "My name is Rodger\n",
      "My name is Tommy\n"
     ]
    }
   ],
   "source": [
    "class Dog:\n",
    "\n",
    "\t# class attribute\n",
    "\tattr1 = \"mammal\"\n",
    "\n",
    "\t# Instance attribute\n",
    "\tdef __init__(self, name):\n",
    "\t\tself.name = name\n",
    "\n",
    "# Driver code\n",
    "# Object instantiation\n",
    "Rodger = Dog(\"Rodger\")\n",
    "Tommy = Dog(\"Tommy\")\n",
    "\n",
    "# Accessing class attributes\n",
    "print(\"Rodger is a {}\".format(Rodger.__class__.attr1))\n",
    "print(\"Tommy is also a {}\".format(Tommy.__class__.attr1))\n",
    "\n",
    "# Accessing instance attributes\n",
    "print(\"My name is {}\".format(Rodger.name))\n",
    "print(\"My name is {}\".format(Tommy.name))"
   ]
  },
  {
   "cell_type": "code",
   "execution_count": 2,
   "metadata": {},
   "outputs": [
    {
     "name": "stdout",
     "output_type": "stream",
     "text": [
      "My name is Rodger\n",
      "My name is Tommy\n"
     ]
    }
   ],
   "source": [
    "class Dog:\n",
    "\n",
    "\t# class attribute\n",
    "\tattr1 = \"mammal\"\n",
    "\n",
    "\t# Instance attribute\n",
    "\tdef __init__(self, name):\n",
    "\t\tself.name = name\n",
    "\t\t\n",
    "\tdef speak(self):\n",
    "\t\tprint(\"My name is {}\".format(self.name))\n",
    "\n",
    "# Driver code\n",
    "# Object instantiation\n",
    "Rodger = Dog(\"Rodger\")\n",
    "Tommy = Dog(\"Tommy\")\n",
    "\n",
    "# Accessing class methods\n",
    "Rodger.speak()\n",
    "Tommy.speak()"
   ]
  },
  {
   "cell_type": "markdown",
   "metadata": {},
   "source": [
    "### Encapsulation\n",
    "\n",
    "* key features of oops\n",
    "* the internal state of an object is hiddern and can only be accessed or modified through the object's methods.\n",
    "* this helps to protect the object's data and prevent it from being modified in unexpected ways. "
   ]
  },
  {
   "cell_type": "markdown",
   "metadata": {},
   "source": [
    "### Inheritance \n",
    "\n",
    "* resuing the code\n",
    "* sub-classes i.e to extent"
   ]
  },
  {
   "cell_type": "markdown",
   "metadata": {},
   "source": [
    "### Polymorphism\n",
    "\n",
    "* write more flexible code\n"
   ]
  },
  {
   "cell_type": "markdown",
   "metadata": {},
   "source": [
    "### SELF\n",
    "\n",
    "* self parameter is a refrence to the current instance of the class\n",
    "* useed to access variables that belongs to the class"
   ]
  },
  {
   "cell_type": "code",
   "execution_count": 5,
   "metadata": {},
   "outputs": [
    {
     "name": "stdout",
     "output_type": "stream",
     "text": [
      "XYZ is SDE earning 10\n",
      "ABC is MLE earning 10\n"
     ]
    }
   ],
   "source": [
    "class Person:\n",
    "    name = \"XYZ\"\n",
    "    occupation = \"SDE\"\n",
    "    earning = 10\n",
    "    \n",
    "    def info(self):\n",
    "        print(f\"{self.name} is {self.occupation} earning {self.earning}\")\n",
    "\n",
    "a = Person()\n",
    "b = Person()\n",
    "\n",
    "b.name = \"ABC\"\n",
    "b.occupation = \"MLE\"\n",
    "\n",
    "a.info()\n",
    "b.info()"
   ]
  },
  {
   "cell_type": "markdown",
   "metadata": {},
   "source": [
    "## Constructors\n",
    "\n",
    "* special method in a class used to create and initialize an object of a class\n",
    "* it is invoked automatically when an object of a class is created \n",
    "\n",
    "* it is a unique func. that gets called automatically when an object is created of a class\n",
    "* main purpose => to initialize / assign values to the data members of that class \n",
    "* it cannot return any value other than None"
   ]
  },
  {
   "cell_type": "code",
   "execution_count": 9,
   "metadata": {},
   "outputs": [
    {
     "name": "stdout",
     "output_type": "stream",
     "text": [
      "Hey I am a Person.\n"
     ]
    }
   ],
   "source": [
    "class Person:\n",
    "    def __init__(self):\n",
    "        # initialization\n",
    "        print(\"Hey I am a Person.\")\n",
    "\n",
    "a = Person()"
   ]
  },
  {
   "cell_type": "markdown",
   "metadata": {},
   "source": [
    "#### init \n",
    "\n",
    "* it's one of the reserved funcs. in py\n",
    "* known as constructor \n",
    "* constructor can also be created by defining the func. name with the same class name"
   ]
  },
  {
   "cell_type": "code",
   "execution_count": 8,
   "metadata": {},
   "outputs": [
    {
     "name": "stdout",
     "output_type": "stream",
     "text": [
      "Hey I am a Person.\n",
      "Hey I am a Person.\n",
      "Name is Occupation\n",
      "ABC is SDE\n"
     ]
    }
   ],
   "source": [
    "class Person:\n",
    "    def __init__(self, n, o):\n",
    "        print(\"Hey I am a Person.\")\n",
    "        self.name = n\n",
    "        self.occ = o\n",
    "    \n",
    "    def info(self):\n",
    "        print(f\"{self.name} is {self.occ}\")\n",
    "\n",
    "a = Person(\"Name\", \"Occupation\")\n",
    "b = Person(\"ABC\", \"SDE\")\n",
    "\n",
    "a.info()\n",
    "b.info()"
   ]
  },
  {
   "cell_type": "markdown",
   "metadata": {},
   "source": [
    "* where: Name, Occupation, ABC, SDE => are arguments"
   ]
  },
  {
   "cell_type": "code",
   "execution_count": 10,
   "metadata": {},
   "outputs": [
    {
     "ename": "TypeError",
     "evalue": "Person.__init__() takes 3 positional arguments but 4 were given",
     "output_type": "error",
     "traceback": [
      "\u001b[1;31m---------------------------------------------------------------------------\u001b[0m",
      "\u001b[1;31mTypeError\u001b[0m                                 Traceback (most recent call last)",
      "Cell \u001b[1;32mIn[10], line 10\u001b[0m\n\u001b[0;32m      7\u001b[0m     \u001b[39mdef\u001b[39;00m \u001b[39minfo\u001b[39m(\u001b[39mself\u001b[39m):\n\u001b[0;32m      8\u001b[0m         \u001b[39mprint\u001b[39m(\u001b[39mf\u001b[39m\u001b[39m\"\u001b[39m\u001b[39m{\u001b[39;00m\u001b[39mself\u001b[39m\u001b[39m.\u001b[39mname\u001b[39m}\u001b[39;00m\u001b[39m is \u001b[39m\u001b[39m{\u001b[39;00m\u001b[39mself\u001b[39m\u001b[39m.\u001b[39mocc\u001b[39m}\u001b[39;00m\u001b[39m\"\u001b[39m)\n\u001b[1;32m---> 10\u001b[0m a \u001b[39m=\u001b[39m Person(\u001b[39m1\u001b[39;49m, \u001b[39m2\u001b[39;49m, \u001b[39m3\u001b[39;49m)\n\u001b[0;32m     12\u001b[0m a\u001b[39m.\u001b[39minfo()\n",
      "\u001b[1;31mTypeError\u001b[0m: Person.__init__() takes 3 positional arguments but 4 were given"
     ]
    }
   ],
   "source": [
    "class Person:\n",
    "    def __init__(self, n, o):\n",
    "        print(\"Hey I am a Person.\")\n",
    "        self.name = n\n",
    "        self.occ = o\n",
    "    \n",
    "    def info(self):\n",
    "        print(f\"{self.name} is {self.occ}\")\n",
    "\n",
    "a = Person(1, 2, 3)\n",
    "\n",
    "a.info()"
   ]
  },
  {
   "cell_type": "markdown",
   "metadata": {},
   "source": [
    "* due to self \"a\" gets passed in \"Person()\" as an initial argument\n",
    "* that is why when we pass 3 arguments of our own in \"Person()\", it shows we passed 4 as \"self\" gets auto passed, i.e. shoing an error"
   ]
  },
  {
   "cell_type": "markdown",
   "metadata": {},
   "source": [
    "### Types of Constructors\n",
    "\n",
    "1. Parameterized\n",
    "2. Default\n",
    "\n",
    "#### Parameterized Constructor\n",
    "\n",
    "* when the constructor accepts arguments along with self\n",
    "* these arguments can be used inside a class to assign the values to the data members"
   ]
  },
  {
   "cell_type": "code",
   "execution_count": 13,
   "metadata": {},
   "outputs": [
    {
     "name": "stdout",
     "output_type": "stream",
     "text": [
      "Whale is a Mamel\n"
     ]
    }
   ],
   "source": [
    "class Details:\n",
    "    def __init__(self, a, g) -> None:\n",
    "        self.animal = a\n",
    "        self.group = g\n",
    "    \n",
    "obj1 = Details(\"Whale\", \"Mamel\")\n",
    "print(f\"{obj1.animal} is a {obj1.group}\")"
   ]
  },
  {
   "cell_type": "markdown",
   "metadata": {},
   "source": [
    "#### Default Constructor\n",
    "\n",
    "* When the constructor dosen't accept any arguments from the object & has only 1 arg. i.e. self in the constructor"
   ]
  },
  {
   "cell_type": "code",
   "execution_count": 15,
   "metadata": {},
   "outputs": [
    {
     "name": "stdout",
     "output_type": "stream",
     "text": [
      "Something something something, something soemthing\n"
     ]
    }
   ],
   "source": [
    "class Details:\n",
    "    def __init__(self) -> None:\n",
    "        print(\"Something something something, something soemthing\")\n",
    "\n",
    "obj1 = Details()"
   ]
  },
  {
   "cell_type": "markdown",
   "metadata": {},
   "source": [
    "## py Decorators\n",
    "\n",
    "* it is a func. that takes another func. as an arg. and returns a new func. that modifies the behaviour of the original func.\n",
    "* the new func. is now referred as \"decorated\" func."
   ]
  },
  {
   "cell_type": "code",
   "execution_count": 16,
   "metadata": {},
   "outputs": [
    {
     "name": "stdout",
     "output_type": "stream",
     "text": [
      "Good Morning\n",
      "Hello World\n",
      "Thanks for using this func.\n"
     ]
    }
   ],
   "source": [
    "def greet(fx):\n",
    "    def mfx():\n",
    "        print(\"Good Morning\")\n",
    "        fx()\n",
    "        print(\"Thanks for using this func.\")\n",
    "    return mfx\n",
    "\n",
    "@greet\n",
    "def hello():\n",
    "    print(\"Hello World\")\n",
    "\n",
    "hello()"
   ]
  },
  {
   "cell_type": "code",
   "execution_count": 20,
   "metadata": {},
   "outputs": [
    {
     "name": "stdout",
     "output_type": "stream",
     "text": [
      "Good Morning\n",
      "Hello World\n",
      "Thanks for using this func.\n"
     ]
    }
   ],
   "source": [
    "def greet(fx):\n",
    "    def mfx():\n",
    "        print(\"Good Morning\")\n",
    "        fx()\n",
    "        print(\"Thanks for using this func.\")\n",
    "    return mfx\n",
    "\n",
    "def hello():\n",
    "    print(\"Hello World\")\n",
    "\n",
    "# hello = greet(hello)\n",
    "# hello(\n",
    "greet(hello)()"
   ]
  },
  {
   "cell_type": "code",
   "execution_count": 25,
   "metadata": {},
   "outputs": [
    {
     "name": "stdout",
     "output_type": "stream",
     "text": [
      "Good Morning\n",
      "3\n",
      "Thanks for using this func.\n"
     ]
    }
   ],
   "source": [
    "def greet(fx):\n",
    "    def mfx(*args, **kwargs):\n",
    "        print(\"Good Morning\")\n",
    "        fx(*args, **kwargs)\n",
    "        print(\"Thanks for using this func.\")\n",
    "    return mfx\n",
    "\n",
    "@greet\n",
    "def add(a, b):\n",
    "    print(a + b)\n",
    "\n",
    "add(1, 2)"
   ]
  },
  {
   "cell_type": "markdown",
   "metadata": {},
   "source": [
    "* \"*args\" => is a way to write all the args. as tupple\n",
    "* \"**kwargs\" => is a waty to write all the args. as dictionary"
   ]
  },
  {
   "cell_type": "code",
   "execution_count": 28,
   "metadata": {},
   "outputs": [
    {
     "data": {
      "text/plain": [
       "5"
      ]
     },
     "execution_count": 28,
     "metadata": {},
     "output_type": "execute_result"
    }
   ],
   "source": [
    "import logging\n",
    "\n",
    "def logFuncCall(func):\n",
    "    def decorated(*args, **kwargs):\n",
    "        logging.info(f\"Calling {func.__name__} with args={args}, kwargs={kwargs}\")\n",
    "        result = func(*args, **kwargs)\n",
    "        logging.info(f\"{func.__name__} returned {result}\")\n",
    "        return result\n",
    "    return decorated\n",
    "\n",
    "@logFuncCall\n",
    "def myFunc(a, b):\n",
    "    return (a + b)\n",
    "\n",
    "myFunc(2, 3)\n",
    "\n",
    "# here, the logFuncCall decorator takes a func. as an arg. & returns a new func. that log the func. call before & after the orginal func. is called"
   ]
  },
  {
   "cell_type": "markdown",
   "metadata": {},
   "source": [
    "## Getters & Setters\n",
    "\n",
    "#### Getters: \n",
    "\n",
    "* Methods that are used to access the values of an object's property\n",
    "* used to return the value of a specific property\n",
    "* typically defined using \"@property\" decorators\n",
    "\n",
    "#### Setters:\n",
    "\n",
    "* getters don't take any parameters & we can't set the value through getter method\n",
    "* for that we need setter method, which can be added by decoratin method with \"@property_name.setter \""
   ]
  },
  {
   "cell_type": "code",
   "execution_count": 65,
   "metadata": {},
   "outputs": [
    {
     "name": "stdout",
     "output_type": "stream",
     "text": [
      "20\n",
      "Value => 20\n"
     ]
    }
   ],
   "source": [
    "class MyClass:\n",
    "    def __init__(self, value) -> None:\n",
    "        self._value = value\n",
    "    \n",
    "    def show(self):\n",
    "        print(f\"Value => {self._value}\")\n",
    "    \n",
    "    @property  \n",
    "    def value(self):\n",
    "        return self._value\n",
    "    \n",
    "obj = MyClass(20)\n",
    "print(obj._value)\n",
    "obj.show()"
   ]
  },
  {
   "cell_type": "code",
   "execution_count": 70,
   "metadata": {},
   "outputs": [
    {
     "name": "stdout",
     "output_type": "stream",
     "text": [
      "20\n",
      "200\n",
      "Value => 20\n"
     ]
    }
   ],
   "source": [
    "class MyClass:\n",
    "    def __init__(self, value) -> None:\n",
    "        self._value = value\n",
    "    \n",
    "    def show(self):\n",
    "        print(f\"Value => {self._value}\")\n",
    "    \n",
    "    @property  \n",
    "    def ten_value(self):\n",
    "        return(10 * self._value)\n",
    "    \n",
    "obj = MyClass(20)\n",
    "print(obj._value)\n",
    "print(obj.ten_value)\n",
    "obj.show()"
   ]
  },
  {
   "cell_type": "code",
   "execution_count": 55,
   "metadata": {},
   "outputs": [
    {
     "name": "stdout",
     "output_type": "stream",
     "text": [
      "67.0\n",
      "Value => 6.7\n"
     ]
    }
   ],
   "source": [
    "class MyClass:\n",
    "    def __init__(self, value) -> None:\n",
    "        self.value = value\n",
    "    \n",
    "    def show(self):\n",
    "        print(f\"Value => {self._value}\")\n",
    "    \n",
    "    @property  \n",
    "    def ten_value(self):\n",
    "        return(10 * self._value)\n",
    "    \n",
    "    @ten_value.setter\n",
    "    def ten_value(self, new_value):\n",
    "        self._value = new_value / 10\n",
    "    \n",
    "obj = MyClass(20)\n",
    "obj.ten_value = 67\n",
    "print(obj.ten_value)\n",
    "obj.show()"
   ]
  },
  {
   "cell_type": "markdown",
   "metadata": {},
   "source": [
    "* getters are a convienent way to access the values of an object's props., while keeping the internal representation of the prop. hidden\n",
    "* this can be useful for encapsulation and data vaidation"
   ]
  }
 ],
 "metadata": {
  "kernelspec": {
   "display_name": "Python 3",
   "language": "python",
   "name": "python3"
  },
  "language_info": {
   "codemirror_mode": {
    "name": "ipython",
    "version": 3
   },
   "file_extension": ".py",
   "mimetype": "text/x-python",
   "name": "python",
   "nbconvert_exporter": "python",
   "pygments_lexer": "ipython3",
   "version": "3.11.4"
  },
  "orig_nbformat": 4
 },
 "nbformat": 4,
 "nbformat_minor": 2
}
