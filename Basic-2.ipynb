{
 "cells": [
  {
   "cell_type": "markdown",
   "metadata": {},
   "source": [
    "# if-else"
   ]
  },
  {
   "cell_type": "code",
   "execution_count": 1,
   "metadata": {},
   "outputs": [
    {
     "name": "stdout",
     "output_type": "stream",
     "text": [
      "a is not equal to 10\n"
     ]
    }
   ],
   "source": [
    "a=20\n",
    "if(a==10):\n",
    "    print(\"a is equal to 10\")\n",
    "else:\n",
    "    print(\"a is not equal to 10\")"
   ]
  },
  {
   "cell_type": "code",
   "execution_count": 2,
   "metadata": {},
   "outputs": [
    {
     "name": "stdout",
     "output_type": "stream",
     "text": [
      "not eligible\n"
     ]
    }
   ],
   "source": [
    "age=int(input(\"enter your age: \"))\n",
    "if age<18:\n",
    "    print(\"not eligible\")\n",
    "else:\n",
    "    print(\"eligible for voting\")"
   ]
  },
  {
   "cell_type": "code",
   "execution_count": 116,
   "metadata": {},
   "outputs": [
    {
     "name": "stdout",
     "output_type": "stream",
     "text": [
      "It is Monday\n"
     ]
    }
   ],
   "source": [
    "day=input(\"enter a day: \")\n",
    "\n",
    "if day.lower() == \"monday\":\n",
    "    print(\"It is Monday\")\n",
    "elif day.lower() == \"tuesday\":\n",
    "    print(\"It is Tuesday\")\n",
    "elif day.lower() == \"wednesday\":\n",
    "    print(\"It is Wednesday\")\n",
    "elif day.lower() == \"thursday\":\n",
    "    print(\"It is Thursday\")\n",
    "elif day.lower() == \"friday\":\n",
    "    print(\"It is Friday\")\n",
    "else:\n",
    "    print(\"Its a Weekend\")"
   ]
  },
  {
   "cell_type": "code",
   "execution_count": 115,
   "metadata": {},
   "outputs": [
    {
     "name": "stdout",
     "output_type": "stream",
     "text": [
      "Outside A\n"
     ]
    }
   ],
   "source": [
    "a=10\n",
    "b=20\n",
    "if(a==30):\n",
    "    if(b==20):\n",
    "        print(\"Inside B\")\n",
    "    else:\n",
    "        print(\"Outside B\")\n",
    "else:\n",
    "    print(\"Outside A\")"
   ]
  },
  {
   "cell_type": "code",
   "execution_count": 114,
   "metadata": {},
   "outputs": [
    {
     "name": "stdout",
     "output_type": "stream",
     "text": [
      "both can't go\n"
     ]
    }
   ],
   "source": [
    "a=int(input(\"enter age of A: \"))\n",
    "b=int(input(\"enter age of B: \"))\n",
    "if b > 13:\n",
    "    if a < 13:\n",
    "        print(\"only b go\")\n",
    "    else:\n",
    "        print(\"both will go\")\n",
    "else:\n",
    "    if a < 13:\n",
    "        print(\"both can't go\")\n",
    "    else:\n",
    "        print(\"only a will go\")"
   ]
  },
  {
   "cell_type": "code",
   "execution_count": 113,
   "metadata": {},
   "outputs": [
    {
     "name": "stdout",
     "output_type": "stream",
     "text": [
      "range(0, 5)\n"
     ]
    }
   ],
   "source": [
    "x=range(5)\n",
    "print(x)"
   ]
  },
  {
   "cell_type": "markdown",
   "metadata": {},
   "source": [
    "# Loops"
   ]
  },
  {
   "cell_type": "code",
   "execution_count": 125,
   "metadata": {},
   "outputs": [
    {
     "name": "stdout",
     "output_type": "stream",
     "text": [
      "0\n",
      "1\n",
      "2\n",
      "3\n",
      "4\n"
     ]
    }
   ],
   "source": [
    "x = range(5)\n",
    "for i in x:\n",
    "    print(i)"
   ]
  },
  {
   "cell_type": "code",
   "execution_count": 124,
   "metadata": {},
   "outputs": [
    {
     "name": "stdout",
     "output_type": "stream",
     "text": [
      "1\n",
      "3\n",
      "5\n",
      "7\n",
      "9\n"
     ]
    }
   ],
   "source": [
    "# range(initial, final, step change)\n",
    "for i in range(1, 10, 2):\n",
    "    print(i)"
   ]
  },
  {
   "cell_type": "code",
   "execution_count": 123,
   "metadata": {},
   "outputs": [
    {
     "name": "stdout",
     "output_type": "stream",
     "text": [
      "0\n",
      "1\n",
      "2\n",
      "3\n",
      "4\n",
      "5\n",
      "6\n",
      "7\n",
      "8\n",
      "9\n"
     ]
    }
   ],
   "source": [
    "count = 0\n",
    "while count < 10:\n",
    "    print(count)\n",
    "    count += 1"
   ]
  },
  {
   "cell_type": "code",
   "execution_count": 122,
   "metadata": {},
   "outputs": [
    {
     "name": "stdout",
     "output_type": "stream",
     "text": [
      "achaa\n",
      "achaa\n",
      "achaa\n",
      "achaa\n",
      "oki ji\n"
     ]
    }
   ],
   "source": [
    "i=0\n",
    "for i in range(1,10):\n",
    "    if i == 5:\n",
    "        break\n",
    "    print(\"achaa\")\n",
    "print(\"oki ji\")"
   ]
  },
  {
   "cell_type": "code",
   "execution_count": 121,
   "metadata": {},
   "outputs": [
    {
     "name": "stdout",
     "output_type": "stream",
     "text": [
      "10\n",
      "9\n",
      "8\n",
      "7\n",
      "6\n",
      "5\n",
      "4\n",
      "3\n",
      "2\n",
      "1\n"
     ]
    }
   ],
   "source": [
    "x = 10\n",
    "while x > 0:\n",
    "    print(x)\n",
    "    x -= 1"
   ]
  },
  {
   "cell_type": "code",
   "execution_count": 120,
   "metadata": {},
   "outputs": [
    {
     "name": "stdout",
     "output_type": "stream",
     "text": [
      "120\n"
     ]
    }
   ],
   "source": [
    "f=1\n",
    "n = int(input(\"enter num: \"))\n",
    "for x in range(1, n+1):\n",
    "    f = f*x\n",
    "print(f)"
   ]
  },
  {
   "cell_type": "code",
   "execution_count": 119,
   "metadata": {},
   "outputs": [
    {
     "name": "stdout",
     "output_type": "stream",
     "text": [
      "not eligible\n"
     ]
    }
   ],
   "source": [
    "def voting(age):\n",
    "    if age > 18:\n",
    "        return \"eligible\"\n",
    "    else:\n",
    "        return \"not eligible\"\n",
    "age= int(input(\"Enter your age: \"))\n",
    "print(voting(age))"
   ]
  },
  {
   "cell_type": "markdown",
   "metadata": {},
   "source": [
    "### enumerate / ranking"
   ]
  },
  {
   "cell_type": "code",
   "execution_count": 4,
   "metadata": {},
   "outputs": [
    {
     "name": "stdout",
     "output_type": "stream",
     "text": [
      "0 -3\n",
      "1 -2\n",
      "2 -1\n",
      "3 0\n",
      "4 1\n",
      "5 2\n"
     ]
    }
   ],
   "source": [
    "for j, i in enumerate(range(-3,3)):\n",
    "    print(j, i)"
   ]
  },
  {
   "cell_type": "markdown",
   "metadata": {},
   "source": [
    "### try-except"
   ]
  },
  {
   "cell_type": "code",
   "execution_count": 2,
   "metadata": {},
   "outputs": [
    {
     "name": "stdout",
     "output_type": "stream",
     "text": [
      "command ok\n",
      "[1, 2, 3]\n",
      "error\n",
      "[1, 2, 3]\n"
     ]
    }
   ],
   "source": [
    "a=[1, 2, 3]\n",
    "try:\n",
    "    a[1] = 2\n",
    "    print(\"command ok\")\n",
    "except:\n",
    "    print(\"error\")\n",
    "print(a)\n",
    "\n",
    "try:\n",
    "    a[6] = 3\n",
    "    print(\"command ok\")\n",
    "except:\n",
    "    print(\"error\")\n",
    "print(a)"
   ]
  },
  {
   "cell_type": "markdown",
   "metadata": {},
   "source": [
    "## ques"
   ]
  },
  {
   "cell_type": "code",
   "execution_count": 4,
   "metadata": {},
   "outputs": [
    {
     "name": "stdout",
     "output_type": "stream",
     "text": [
      "* * * * * \n",
      "* * * * \n",
      "* * * \n",
      "* * \n",
      "* \n"
     ]
    }
   ],
   "source": [
    "for i in range(5):\n",
    "    for j in range(i, 5):\n",
    "        print(end=\"* \")\n",
    "    print()"
   ]
  },
  {
   "cell_type": "code",
   "execution_count": 11,
   "metadata": {},
   "outputs": [
    {
     "name": "stdout",
     "output_type": "stream",
     "text": [
      "* \n",
      "* * \n",
      "* * * \n",
      "* * * * \n",
      "* * * * * \n"
     ]
    }
   ],
   "source": [
    "for i in range(5):\n",
    "    for j in range(0, i+1):\n",
    "        print(end=\"* \")\n",
    "    print()"
   ]
  },
  {
   "cell_type": "markdown",
   "metadata": {},
   "source": [
    "Factorial"
   ]
  },
  {
   "cell_type": "code",
   "execution_count": 43,
   "metadata": {},
   "outputs": [
    {
     "name": "stdout",
     "output_type": "stream",
     "text": [
      "6\n"
     ]
    }
   ],
   "source": [
    "f=1\n",
    "n = int(input(\"enter num: \"))\n",
    "for x in range(1, n+1):\n",
    "    f = f*x\n",
    "print(f)"
   ]
  },
  {
   "cell_type": "code",
   "execution_count": 18,
   "metadata": {},
   "outputs": [
    {
     "name": "stdout",
     "output_type": "stream",
     "text": [
      "lou\n"
     ]
    }
   ],
   "source": [
    "s = \"hello user\"\n",
    "x = slice(2, 7, 2)\n",
    "print(s[x])\n"
   ]
  },
  {
   "cell_type": "code",
   "execution_count": 19,
   "metadata": {},
   "outputs": [
    {
     "name": "stdout",
     "output_type": "stream",
     "text": [
      "today is your test\n"
     ]
    }
   ],
   "source": [
    "s = \"test\"\n",
    "print(f\"today is your {s}\")"
   ]
  },
  {
   "cell_type": "markdown",
   "metadata": {},
   "source": [
    "# Functions"
   ]
  },
  {
   "cell_type": "code",
   "execution_count": 24,
   "metadata": {},
   "outputs": [
    {
     "name": "stdout",
     "output_type": "stream",
     "text": [
      "\"fun0\" just prints\n"
     ]
    }
   ],
   "source": [
    "def fun0():\n",
    "    print(\"\\\"fun0\\\" just prints\")\n",
    "fun0()"
   ]
  },
  {
   "cell_type": "code",
   "execution_count": 26,
   "metadata": {},
   "outputs": [
    {
     "ename": "SyntaxError",
     "evalue": "invalid syntax (3750483224.py, line 2)",
     "output_type": "error",
     "traceback": [
      "\u001b[1;36m  Cell \u001b[1;32mIn[26], line 2\u001b[1;36m\u001b[0m\n\u001b[1;33m    ***\u001b[0m\n\u001b[1;37m    ^\u001b[0m\n\u001b[1;31mSyntaxError\u001b[0m\u001b[1;31m:\u001b[0m invalid syntax\n"
     ]
    }
   ],
   "source": [
    "def fun0():\n",
    "    ***\n",
    "    this func just prints\n",
    "    ***\n",
    "\n",
    "    print(\"\\\"fun0\\\" just prints\")\n",
    "fun0()"
   ]
  },
  {
   "cell_type": "code",
   "execution_count": 43,
   "metadata": {},
   "outputs": [
    {
     "name": "stdout",
     "output_type": "stream",
     "text": [
      "[1, 'abcd', True] is of length 3\n"
     ]
    }
   ],
   "source": [
    "def fun1(l):\n",
    "    print(l, \"is of length\", len(l))\n",
    "fun1([1, \"abcd\", True])"
   ]
  },
  {
   "cell_type": "code",
   "execution_count": 41,
   "metadata": {},
   "outputs": [
    {
     "name": "stdout",
     "output_type": "stream",
     "text": [
      "3\n"
     ]
    }
   ],
   "source": [
    "def add(num1, num2):\n",
    "    sum = num1 + num2\n",
    "    print(sum)\n",
    "add(1,2)"
   ]
  },
  {
   "cell_type": "code",
   "execution_count": 45,
   "metadata": {},
   "outputs": [
    {
     "name": "stdout",
     "output_type": "stream",
     "text": [
      "(16, 64, 256) <class 'tuple'>\n"
     ]
    }
   ],
   "source": [
    "def powers(x):\n",
    "    return x ** 2, x ** 3, x ** 4\n",
    "res = powers(4)\n",
    "print(res, type(res))"
   ]
  },
  {
   "cell_type": "code",
   "execution_count": 47,
   "metadata": {},
   "outputs": [
    {
     "name": "stdout",
     "output_type": "stream",
     "text": [
      "{'add': 6, 'sub': 2, 'multi': 8} <class 'dict'>\n"
     ]
    }
   ],
   "source": [
    "def powers_dict(x, y):\n",
    "    return {\"add\": x+y, \"sub\": x-y, \"multi\": x*y}\n",
    "res = powers_dict(4,2)\n",
    "print(res, type(res))"
   ]
  },
  {
   "cell_type": "code",
   "execution_count": 58,
   "metadata": {},
   "outputs": [
    {
     "data": {
      "text/plain": [
       "'eligible'"
      ]
     },
     "execution_count": 58,
     "metadata": {},
     "output_type": "execute_result"
    }
   ],
   "source": [
    "def voting(age):\n",
    "    if age > 18:\n",
    "        return \"eligible\"\n",
    "    else:\n",
    "        return \"not eligible\"\n",
    "voting(19)"
   ]
  },
  {
   "cell_type": "code",
   "execution_count": null,
   "metadata": {},
   "outputs": [],
   "source": [
    "def fancy_power():\n",
    "    print(\"\\\"fancy_power\\\" \")"
   ]
  },
  {
   "cell_type": "markdown",
   "metadata": {},
   "source": [
    "# **OOPS** - (object oriented programming)\n",
    "\n",
    "### Class, Object, Method"
   ]
  },
  {
   "cell_type": "code",
   "execution_count": 31,
   "metadata": {},
   "outputs": [
    {
     "name": "stdout",
     "output_type": "stream",
     "text": [
      "Dogs bark\n",
      "Animals have a tail\n",
      "Cat catches mouse\n",
      "Animals have 4 legs\n"
     ]
    }
   ],
   "source": [
    "class animals:\n",
    "    def four_legs(self):\n",
    "        print(\"Animals have 4 legs\")\n",
    "    def tail(self):\n",
    "        print(\"Animals have a tail\")\n",
    "\n",
    "\n",
    "class cats(animals):\n",
    "    def wiskers(self):\n",
    "        print(\"Cat has Wiskers\")\n",
    "    def mouse(self):\n",
    "        print(\"Cat catches mouse\")\n",
    "\n",
    "class dogs(animals):\n",
    "    def bark(self):\n",
    "        print(\"Dogs bark\")\n",
    "    def faithfull(self):\n",
    "        print(\"Dogs are faithfull\")\n",
    "    \n",
    "\n",
    "c = cats()\n",
    "d = dogs()\n",
    "\n",
    "\n",
    "d.bark()\n",
    "d.tail()\n",
    "\n",
    "c.mouse()\n",
    "c.four_legs()"
   ]
  },
  {
   "cell_type": "markdown",
   "metadata": {},
   "source": [
    "1. Animals, cats & dogs are class\n",
    "2. four_legs, tail, wiskers, mouse, bark & faithfull are methods\n",
    "3. c & d are objects\n",
    "4. cats & animals are sub class for animals i.e inheritence"
   ]
  },
  {
   "cell_type": "code",
   "execution_count": 48,
   "metadata": {},
   "outputs": [
    {
     "name": "stdout",
     "output_type": "stream",
     "text": [
      "5\n",
      "1\n"
     ]
    }
   ],
   "source": [
    "class var:\n",
    "    def input(self, x, y):\n",
    "        self.x = x\n",
    "        self.y = y\n",
    "\n",
    "class operate(var):\n",
    "    def add(self):\n",
    "        print(self.x + self.y)\n",
    "    def sub(self):\n",
    "        print(self.x - self.y)\n",
    "\n",
    "o = operate()\n",
    "\n",
    "o.input(3,2)\n",
    "\n",
    "o.add()\n",
    "o.sub()"
   ]
  },
  {
   "cell_type": "code",
   "execution_count": 22,
   "metadata": {},
   "outputs": [
    {
     "name": "stdout",
     "output_type": "stream",
     "text": [
      "1\n",
      "22\n",
      "333\n",
      "4444\n",
      "55555\n",
      "666666\n",
      "7777777\n",
      "88888888\n"
     ]
    }
   ],
   "source": [
    "for i in range(1,9):\n",
    "    print(str(i)*i)"
   ]
  },
  {
   "cell_type": "markdown",
   "metadata": {},
   "source": [
    "### Q. Print table of a num"
   ]
  },
  {
   "cell_type": "code",
   "execution_count": 95,
   "metadata": {},
   "outputs": [
    {
     "name": "stdout",
     "output_type": "stream",
     "text": [
      "13 x 1 = 13\n",
      "13 x 2 = 26\n",
      "13 x 3 = 39\n",
      "13 x 4 = 52\n",
      "13 x 5 = 65\n",
      "13 x 6 = 78\n",
      "13 x 7 = 91\n",
      "13 x 8 = 104\n",
      "13 x 9 = 117\n",
      "13 x 10 = 130\n"
     ]
    }
   ],
   "source": [
    "n = int(input(\"Enter the number: \"))\n",
    "for i in range(1,11):\n",
    "    print(n,\"x\",i,\"=\",n*i)    "
   ]
  },
  {
   "cell_type": "markdown",
   "metadata": {},
   "source": [
    "### Q. Leap year"
   ]
  },
  {
   "cell_type": "code",
   "execution_count": 96,
   "metadata": {},
   "outputs": [
    {
     "name": "stdout",
     "output_type": "stream",
     "text": [
      "Not a Leap Year\n"
     ]
    }
   ],
   "source": [
    "n = int(input(\"enter number: \"))\n",
    "if n % 4 == 0:\n",
    "    print(\"Leap Year\")\n",
    "else:\n",
    "    print(\"Not a Leap Year\")"
   ]
  },
  {
   "cell_type": "markdown",
   "metadata": {},
   "source": [
    "### Q. odd or even num"
   ]
  },
  {
   "cell_type": "code",
   "execution_count": 127,
   "metadata": {},
   "outputs": [
    {
     "name": "stdout",
     "output_type": "stream",
     "text": [
      "6\n",
      "Even\n"
     ]
    }
   ],
   "source": [
    "n = int(input(\"Enter num: \"))\n",
    "print(n)\n",
    "\n",
    "if (n % 2 == 0):\n",
    "    print(\"Even\")\n",
    "else: \n",
    "    print(\"Odd\")"
   ]
  },
  {
   "cell_type": "markdown",
   "metadata": {},
   "source": [
    "### Q. print fibonacci series\n",
    "    0, 1, 1, 2, 3, 5, 8, 13,.....\n",
    "\n",
    "    logic: 0+1, 1+1, 1+2, 2+3, .....\n",
    "    \n",
    "        Fn = Fn-1 + Fn-2 (with seed values : F0 = 0 and F1 = 1)"
   ]
  },
  {
   "cell_type": "code",
   "execution_count": 236,
   "metadata": {},
   "outputs": [
    {
     "name": "stdout",
     "output_type": "stream",
     "text": [
      "8\n",
      "[0, 1, 1, 2, 3, 5, 8, 13]\n"
     ]
    }
   ],
   "source": [
    "n = int(input(\"Enter num: \"))\n",
    "print(n)\n",
    "\n",
    "list = [0]\n",
    "f0 = 0\n",
    "f1 = 1\n",
    "\n",
    "if n-1<=0:\n",
    "    print(list)\n",
    "else:\n",
    "    list.append(f1)\n",
    "    for x in range(1,n-1):\n",
    "        f2 = f0 + f1                          \n",
    "        list.append(f2)\n",
    "        f0 = f1\n",
    "        f1 = f2\n",
    "    print(list)"
   ]
  },
  {
   "cell_type": "markdown",
   "metadata": {},
   "source": [
    "### lambda func\n",
    "    annonymous func, i.e with no name\n",
    "    can also be included in multiple statements"
   ]
  },
  {
   "cell_type": "code",
   "execution_count": 6,
   "metadata": {},
   "outputs": [
    {
     "name": "stdout",
     "output_type": "stream",
     "text": [
      "25\n",
      "2.5\n"
     ]
    }
   ],
   "source": [
    "# def sq(x):\n",
    "#     return(x**2)\n",
    "\n",
    "sq = lambda x : (x**2)\n",
    "\n",
    "print(sq(5))\n",
    "\n",
    "avg = lambda x, y : (x + y)/2\n",
    "print(avg(2,3))"
   ]
  },
  {
   "cell_type": "markdown",
   "metadata": {},
   "source": [
    "pass function to function"
   ]
  },
  {
   "cell_type": "code",
   "execution_count": 7,
   "metadata": {},
   "outputs": [
    {
     "name": "stdout",
     "output_type": "stream",
     "text": [
      "14\n"
     ]
    }
   ],
   "source": [
    "def apply(fx, value):\n",
    "    return (6 + (fx(value)))\n",
    "cube = lambda x : (x*x*x)\n",
    "\n",
    "print(apply(cube, 2))"
   ]
  },
  {
   "cell_type": "markdown",
   "metadata": {},
   "source": [
    "## map, filter and reduce:\n",
    "    higher order func\n",
    "    map => func takes func as an argument"
   ]
  },
  {
   "cell_type": "code",
   "execution_count": 31,
   "metadata": {},
   "outputs": [
    {
     "name": "stdout",
     "output_type": "stream",
     "text": [
      "<class 'map'>\n",
      "<class 'list'>\n",
      "[1, 8, 27, 125, 216, 343, 39304, 729]\n"
     ]
    }
   ],
   "source": [
    "def cube(x):\n",
    "    return(x*x*x)\n",
    "\n",
    "myList = [1, 2, 3, 5, 6, 7, 34, 9]\n",
    "\n",
    "# option 1: using a simple for loop\n",
    "# newList = []\n",
    "# for i in list:\n",
    "#     newList.append(cube(i))\n",
    "\n",
    "# print(newList)\n",
    "\n",
    "\n",
    "# option 2: using a map and converting to a list\n",
    "newList = map(cube, myList)\n",
    "print(type(newList))\n",
    "\n",
    "newNewList = []\n",
    "newNewList.extend(newList)\n",
    "print(type(newNewList))\n",
    "\n",
    "print(newNewList)"
   ]
  },
  {
   "cell_type": "code",
   "execution_count": 29,
   "metadata": {},
   "outputs": [
    {
     "name": "stdout",
     "output_type": "stream",
     "text": [
      "<class 'filter'>\n",
      "<class 'list'>\n",
      "[5, 6, 7, 34, 9]\n"
     ]
    }
   ],
   "source": [
    "def cube(x):\n",
    "    return(x*x*x)\n",
    "\n",
    "myList = [1, 2, 3, 5, 6, 7, 34, 9]\n",
    "\n",
    "def filterFunc(a):\n",
    "    return a > 4\n",
    "newList = filter(filterFunc, myList)\n",
    "print(type(newList))\n",
    "\n",
    "newNewList = []\n",
    "newNewList.extend(newList)\n",
    "print(type(newNewList))\n",
    "\n",
    "print(newNewList)"
   ]
  },
  {
   "cell_type": "code",
   "execution_count": 1,
   "metadata": {},
   "outputs": [
    {
     "name": "stdout",
     "output_type": "stream",
     "text": [
      "15\n"
     ]
    }
   ],
   "source": [
    "from functools import reduce\n",
    "\n",
    "num = [1, 2, 3, 4, 5]\n",
    "\n",
    "def sum(x, y):\n",
    "    return x + y\n",
    "\n",
    "result = reduce(sum, num)\n",
    "\n",
    "print(result)"
   ]
  },
  {
   "cell_type": "markdown",
   "metadata": {},
   "source": [
    "extend(): It is a method is used to iterate over an iterable (string, tuple, list, set, or dictionary) and then add each element of the iterable to the end of the current list. The length of the list increases by the number of elements present in the iterable."
   ]
  },
  {
   "cell_type": "code",
   "execution_count": 4,
   "metadata": {},
   "outputs": [
    {
     "name": "stdout",
     "output_type": "stream",
     "text": [
      "[1, 2, 3, 4, 5, 6]\n"
     ]
    }
   ],
   "source": [
    "# Example 1: Using extend() with lists\n",
    "list1 = [1, 2, 3]\n",
    "list2 = [4, 5, 6]\n",
    "\n",
    "list1.extend(list2)\n",
    "print(list1)"
   ]
  },
  {
   "cell_type": "code",
   "execution_count": 2,
   "metadata": {},
   "outputs": [
    {
     "name": "stdout",
     "output_type": "stream",
     "text": [
      "[1, 2, 3, 4, 5, 6]\n"
     ]
    }
   ],
   "source": [
    "# Example 2: Using extend() with tuples\n",
    "list1 = [1, 2, 3]\n",
    "tuple1 = (4, 5, 6)\n",
    "\n",
    "list1.extend(tuple1)\n",
    "print(list1)"
   ]
  },
  {
   "cell_type": "code",
   "execution_count": 3,
   "metadata": {},
   "outputs": [
    {
     "name": "stdout",
     "output_type": "stream",
     "text": [
      "[1, 2, 3, 'h', 'e', 'l', 'l', 'o']\n"
     ]
    }
   ],
   "source": [
    "# Example 3: Using extend() with strings\n",
    "list1 = [1, 2, 3]\n",
    "string1 = \"hello\"\n",
    "\n",
    "list1.extend(string1)\n",
    "print(list1)"
   ]
  },
  {
   "cell_type": "markdown",
   "metadata": {},
   "source": [
    "The extend() method in Python is primarily designed for use with lists. It is a built-in method for lists and modifies the list in place. It doesn't directly work with other types such as tuples, sets, or strings. However, you can still use the extend() method with other iterables, but you need to convert them to a list first."
   ]
  },
  {
   "cell_type": "markdown",
   "metadata": {},
   "source": [
    "## Type of Triangle using oops"
   ]
  },
  {
   "cell_type": "code",
   "execution_count": 222,
   "metadata": {},
   "outputs": [
    {
     "name": "stdout",
     "output_type": "stream",
     "text": [
      "Equilateral: False\n",
      "Isoscles: False\n",
      "Scalene: True\n",
      "Right: True\n"
     ]
    }
   ],
   "source": [
    "class sides:\n",
    "    def input(self, a, b, c):\n",
    "        self.a = a\n",
    "        self.b = b\n",
    "        self.c = c\n",
    "\n",
    "class trianlge(sides):\n",
    "    def equi(self):\n",
    "        if(self.a == self.b == self.c):\n",
    "            print(\"Equilateral: True\")\n",
    "        else:\n",
    "            print(\"Equilateral: False\")\n",
    "    def iso(self):\n",
    "        if((self.a == self.b) or (self.a == self.c) or (self.c == self.b)):\n",
    "            print(\"Isoscles: True\")\n",
    "        else:\n",
    "            print(\"Isoscles: False\")\n",
    "    def scal(self):\n",
    "        if(self.a != self.b != self.c):\n",
    "            print(\"Scalene: True\")\n",
    "        else:\n",
    "            print(\"Scalene: False\")\n",
    "    def right(self):\n",
    "        sa = self.a**2\n",
    "        sb = self.b**2\n",
    "        sc = self.c**2\n",
    "        if(((sa + sb) == sc) or ((sa + sc) == sb) or ((sb + sc) == sa)):\n",
    "            print(\"Right: True\")\n",
    "        else:\n",
    "            print(\"Right: False\")\n",
    "\n",
    "\n",
    "t = trianlge()\n",
    "t.input(3,4,5)\n",
    "\n",
    "t.equi()\n",
    "t.iso()\n",
    "t.scal()\n",
    "t.right()"
   ]
  },
  {
   "cell_type": "code",
   "execution_count": 234,
   "metadata": {},
   "outputs": [
    {
     "name": "stdout",
     "output_type": "stream",
     "text": [
      "The sides are:  3 4 5\n",
      "Scalene, Rightangled\n"
     ]
    },
    {
     "data": {
      "text/plain": [
       "True"
      ]
     },
     "execution_count": 234,
     "metadata": {},
     "output_type": "execute_result"
    }
   ],
   "source": [
    "class sides:\n",
    "    def input(self, a, b, c):\n",
    "        self.a = a\n",
    "        self.b = b\n",
    "        self.c = c\n",
    "\n",
    "class trianlge(sides):\n",
    "    def equi(self):\n",
    "        if(self.a == self.b == self.c):\n",
    "            return True\n",
    "        else:\n",
    "            return False\n",
    "    def iso(self):\n",
    "        if((self.a == self.b) or (self.a == self.c) or (self.c == self.b)):\n",
    "            return True\n",
    "        else:\n",
    "            return False\n",
    "    def scal(self):\n",
    "        if(self.a != self.b != self.c):\n",
    "            return True\n",
    "        else:\n",
    "            return False\n",
    "    def right(self):\n",
    "        sa = self.a**2\n",
    "        sb = self.b**2\n",
    "        sc = self.c**2\n",
    "        if(((sa + sb) == sc) or ((sa + sc) == sb) or ((sb + sc) == sa)):\n",
    "            return True\n",
    "        else:\n",
    "            return False\n",
    "            \n",
    "    def typeOfTriangle(self):\n",
    "        if self.equi():\n",
    "           print(\"Equilateral\") \n",
    "        elif self.iso():\n",
    "            if self.right():\n",
    "                print(\"Isosceles, Rightangled\")\n",
    "            else:\n",
    "                print(\"Isoceles\")\n",
    "        elif self.scal():\n",
    "            if self.right():\n",
    "                print(\"Scalene, Rightangled\")\n",
    "            else:\n",
    "                print(\"Scalene\")\n",
    "        else:\n",
    "            print(\"Idk\")\n",
    "\n",
    "t = trianlge()\n",
    "\n",
    "x = int(input(\"Enter side 1: \"))\n",
    "y = int(input(\"Enter side 2: \"))\n",
    "z = int(input(\"Enter side 3: \"))\n",
    "\n",
    "t.input(x, y, z)\n",
    "print(\"The sides are: \", x, y, z)\n",
    "\n",
    "t.typeOfTriangle()\n",
    "\n",
    "t.equi() or t.scal()"
   ]
  },
  {
   "cell_type": "markdown",
   "metadata": {},
   "source": [
    "## Choosing Shapes and Finding its Property using oops"
   ]
  },
  {
   "cell_type": "code",
   "execution_count": 3,
   "metadata": {},
   "outputs": [
    {
     "name": "stdout",
     "output_type": "stream",
     "text": [
      "Area: 225\n"
     ]
    }
   ],
   "source": [
    "class shape:\n",
    "    def inputRect(self):\n",
    "        self.l = int(input(\"Enter length: \"))\n",
    "        self.b = int(input(\"Enter breadth: \"))\n",
    "    def inputSq(self):\n",
    "        self.s = int(input(\"Enter side: \"))\n",
    "\n",
    "class rect(shape):\n",
    "    def area(self):\n",
    "        print(f\"Area: {self.l * self.b}\")\n",
    "    def peri(self):\n",
    "        print(f\"Perimeter: {2 * (self.l + self.b)}\")\n",
    "class sq(shape):\n",
    "    def area(self):\n",
    "        print(f\"Area: {self.s ** 2}\")\n",
    "    def peri(self):\n",
    "        print(f\"Perimeter: {4 * self.s}\")\n",
    "\n",
    "R = rect()\n",
    "S = sq()\n",
    "\n",
    "user = input(\"Enter the name of shape (rectangle/square): \")\n",
    "prop = input(\"Enter the property need to be found (area/perimeter): \")\n",
    "\n",
    "newUser = user.lower()\n",
    "newProp = prop.lower()\n",
    "\n",
    "if (newUser == \"rectangle\"):\n",
    "    if (newProp == \"area\"):\n",
    "        R.inputRect()\n",
    "        R.area()\n",
    "    elif (newProp == \"perimeter\"):\n",
    "        R.inputRect()\n",
    "        R.peri()\n",
    "    else:\n",
    "        print(\"Invalid\")\n",
    "elif (newUser == \"square\"):\n",
    "    if (newProp == \"area\"):\n",
    "        S.inputSq()\n",
    "        S.area()\n",
    "    elif (newProp == \"perimeter\"):\n",
    "        S.inputSq()\n",
    "        S.peri()\n",
    "    else:\n",
    "        print(\"Invalid\")\n",
    "else:\n",
    "    print(\"Invalid\")"
   ]
  },
  {
   "cell_type": "markdown",
   "metadata": {},
   "source": [
    "## mobile no. in textual form"
   ]
  },
  {
   "cell_type": "code",
   "execution_count": 16,
   "metadata": {},
   "outputs": [
    {
     "name": "stdout",
     "output_type": "stream",
     "text": [
      "['9', '8', '7']\n",
      "nine eight seven "
     ]
    }
   ],
   "source": [
    "numToText = {\n",
    "    \"0\": \"zero\",\n",
    "    \"1\": \"one\",\n",
    "    \"2\": \"two\",\n",
    "    \"3\": \"three\",\n",
    "    \"4\": \"four\",\n",
    "    \"5\": \"five\",\n",
    "    \"6\": \"six\",\n",
    "    \"7\": \"seven\",\n",
    "    \"8\": \"eight\",\n",
    "    \"9\": \"nine\"\n",
    "}\n",
    "\n",
    "num = input(\"Enter your mobile no.: \")\n",
    "\n",
    "numList = []\n",
    "numList.extend(num)\n",
    "print(numList)\n",
    "\n",
    "for x in numList:\n",
    "    if x in numToText:\n",
    "        print(numToText[x], end=\" \")\n",
    "    else:\n",
    "        print(\"Invalid\")\n"
   ]
  },
  {
   "cell_type": "markdown",
   "metadata": {},
   "source": [
    "### WAP to create a class representing a Circle. Include methods to calculate its area and perimeter."
   ]
  },
  {
   "cell_type": "code",
   "execution_count": 19,
   "metadata": {},
   "outputs": [
    {
     "name": "stdout",
     "output_type": "stream",
     "text": [
      "Area: 78.57142857142857\n"
     ]
    }
   ],
   "source": [
    "class circle:\n",
    "    def takeInpC(self):\n",
    "        self.r = int(input(\"Enter the radius: \"))\n",
    "        \n",
    "class circleProps(circle):\n",
    "    def area(self):\n",
    "        print(f\"Area: {(22/7) * (self.r ** 2)}\" )\n",
    "    def peri(self):\n",
    "        print(f\"Perimeter: {2 * (22/7) * self.r}\")\n",
    "    \n",
    "C = circleProps()\n",
    "\n",
    "user = input(\"Enter the property: \")\n",
    "newUser = user.lower()\n",
    "\n",
    "if (newUser == \"area\"):\n",
    "    C.takeInpC()\n",
    "    C.area()\n",
    "elif (newUser == \"perimeter\"):\n",
    "    C.takeInpC()\n",
    "    C.peri()\n",
    "else:\n",
    "    print(\"Invalid\")"
   ]
  },
  {
   "cell_type": "markdown",
   "metadata": {},
   "source": [
    "### WAP to create a person class. Include attributes like name, country and date of birth. Implement a method to determine the person's age."
   ]
  },
  {
   "cell_type": "code",
   "execution_count": 31,
   "metadata": {},
   "outputs": [
    {
     "name": "stdout",
     "output_type": "stream",
     "text": [
      "Your name is: Trijal\n",
      "You live in: India\n",
      "You were born on: 2007-08-10\n",
      "Today is: 2023-08-08\n",
      "Your current age is: 16\n"
     ]
    }
   ],
   "source": [
    "from datetime import datetime\n",
    "\n",
    "class person:\n",
    "    def name(self):\n",
    "        self.n = input(\"Name?: \")\n",
    "        print(f\"Your name is: {self.n}\")\n",
    "    def country(self):\n",
    "        self.c = input(\"Country?: \")\n",
    "        print(f\"You live in: {self.c}\")\n",
    "    def dob(self):\n",
    "        self.year = int(input(\"Enter your year (YYYY): \"))\n",
    "        self.month = int(input(\"Enter your month (MM): \"))\n",
    "        self.date = int(input(\"Enter your day (DD): \"))\n",
    "        dob = datetime(self.year, self.month, self.date).date()\n",
    "        print(f\"You were born on: {dob}\")\n",
    "    def today(self):\n",
    "        self.today = datetime.today().date()\n",
    "        print(f\"Today is: {self.today}\")\n",
    "        self.todayYear = self.today.year\n",
    "\n",
    "class findAge(person):\n",
    "    def age(self):\n",
    "        current = (self.todayYear - self.year)\n",
    "        print(f\"Your current age is: {current}\")\n",
    "\n",
    "A = findAge()\n",
    "\n",
    "A.name()\n",
    "A.country()\n",
    "A.dob()\n",
    "A.today()\n",
    "A.age()"
   ]
  },
  {
   "cell_type": "markdown",
   "metadata": {},
   "source": [
    "### WAP to create a class representing a shopping cart. Include methods for adding and removing items, and calculating the total price."
   ]
  },
  {
   "cell_type": "code",
   "execution_count": 73,
   "metadata": {},
   "outputs": [
    {
     "name": "stdout",
     "output_type": "stream",
     "text": [
      "Total: 37\n"
     ]
    }
   ],
   "source": [
    "class cart:\n",
    "    def initItems(self):\n",
    "        self.d = { \n",
    "            \"item1\": 10,\n",
    "            \"item2\": 12,\n",
    "            \"item3\": 15\n",
    "        }\n",
    "        \n",
    "class items(cart):\n",
    "    def viewCart(self):\n",
    "        print(self.d)\n",
    "\n",
    "    def add(self):\n",
    "        self.newName = input(\"Enter the name of new item: \")\n",
    "        self.newPrice = int(input(\"Enter the price of the foll. item: \"))\n",
    "        self.d[self.newName] = self.newPrice\n",
    "        print(self.d)\n",
    "\n",
    "    def remove(self):\n",
    "        self.name = input(\"Enter the name of item you want to remove: \")\n",
    "        del self.d[self.name]\n",
    "        print(self.d)\n",
    "\n",
    "    def totalPrice(self):\n",
    "        self.t = 0\n",
    "        for value in self.d.values():\n",
    "            if isinstance(value, int):\n",
    "                self.t += value\n",
    "        print(\"Total:\", self.t)\n",
    "        \n",
    "\n",
    "I = items()\n",
    "\n",
    "I.initItems()\n",
    "\n",
    "user = input(\"What would you like to do? (view cart/ add item/ remove item/ total price): \").lower()\n",
    "\n",
    "if user in [\"view cart\", \"view\", \"cart\"]:\n",
    "    I.viewCart()\n",
    "elif user in [\"add item\", \"add\", \"add new item\"]:\n",
    "    I.add()\n",
    "elif user in [\"remove item\", \"remove\"]:\n",
    "    I.remove()\n",
    "elif user in [\"total price\", \"total\", \"price\"]:\n",
    "    I.totalPrice()\n",
    "else:\n",
    "    print(\"See you again\")"
   ]
  },
  {
   "cell_type": "code",
   "execution_count": 80,
   "metadata": {},
   "outputs": [
    {
     "name": "stdout",
     "output_type": "stream",
     "text": [
      "{'item1': 10, 'item2': 12, 'item3': 15}\n",
      "Total Price: 37\n",
      "{'item1': 10, 'item2': 12, 'item3': 15, 'a': 1}\n",
      "{'item1': 10, 'item2': 12, 'item3': 15, 'a': 1, 'b': 2}\n",
      "Ok, you don't wanna add more items!\n",
      "{'item1': 10, 'item2': 12, 'item3': 15, 'a': 1}\n",
      "Ok, you don't wanna remove more items!\n",
      "Total Price: 38\n",
      "Quitting the program.\n"
     ]
    }
   ],
   "source": [
    "class cart:\n",
    "    def initItems(self):\n",
    "        self.d = { \n",
    "            \"item1\": 10,\n",
    "            \"item2\": 12,\n",
    "            \"item3\": 15\n",
    "        }\n",
    "        \n",
    "class items(cart):\n",
    "    def viewCart(self):\n",
    "        print(self.d)\n",
    "\n",
    "    def add(self):\n",
    "        self.newName = input(\"Enter the name of new item: \")\n",
    "        self.newPrice = int(input(\"Enter the price of the foll. item: \"))\n",
    "        self.d[self.newName] = self.newPrice\n",
    "        print(self.d)\n",
    "    def addMore(self):\n",
    "        while True:\n",
    "            self.qA = input(\"Do you want to add more items? (yes/no): \").lower()\n",
    "            if self.qA in [\"yes\", \"y\"]:\n",
    "                self.add()\n",
    "            elif self.qA in [\"no\", \"n\"]:\n",
    "                print(\"Ok, you don't wanna add more items!\")\n",
    "                break\n",
    "            else:\n",
    "                print(\"Invalid\")\n",
    "\n",
    "    def remove(self):\n",
    "        self.name = input(\"Enter the name of item you want to remove: \")\n",
    "        del self.d[self.name]\n",
    "        print(self.d)\n",
    "    def removeMore(self):\n",
    "        while True:\n",
    "            self.qR = input(\"Do you want to remove more items? (yes/no): \").lower()\n",
    "            if self.qR in [\"yes\", \"y\"]:\n",
    "                self.remove()\n",
    "            elif self.qR in [\"no\", \"n\"]:\n",
    "                print(\"Ok, you don't wanna remove more items!\")\n",
    "                break\n",
    "            else:\n",
    "                print(\"Invalid\")\n",
    "\n",
    "    def totalPrice(self):\n",
    "        self.t = 0\n",
    "        for value in self.d.values():\n",
    "            if isinstance(value, int):\n",
    "                self.t += value\n",
    "        print(\"Total Price:\", self.t)     \n",
    "\n",
    "I = items()\n",
    "\n",
    "I.initItems()\n",
    "\n",
    "while True:\n",
    "    user = input(\"What would you like to do? (view cart/ add item/ remove item/ total price/ quit): \").lower()\n",
    "\n",
    "    if user in [\"view cart\", \"view\", \"cart\", \"v\", \"c\"]:\n",
    "        I.viewCart()\n",
    "    elif user in [\"add item\", \"add\", \"add new item\", \"a\"]:\n",
    "        I.add()\n",
    "        I.addMore()\n",
    "    elif user in [\"remove item\", \"remove\", \"r\"]:\n",
    "        I.remove()\n",
    "        I.removeMore()\n",
    "    elif user in [\"total price\", \"total\", \"price\", \"t\", \"p\"]:\n",
    "        I.totalPrice()\n",
    "    elif user in [\"quit\", \"q\", \"thankyou\"]:\n",
    "        print(\"Quitting the program.\")\n",
    "        break\n",
    "    else:\n",
    "        print(\"Invalid choice. Please try again.\")"
   ]
  },
  {
   "cell_type": "markdown",
   "metadata": {},
   "source": [
    "### WAP to create a calculator class. Include methods for basic arithmetic operations."
   ]
  },
  {
   "cell_type": "code",
   "execution_count": 3,
   "metadata": {},
   "outputs": [
    {
     "name": "stdout",
     "output_type": "stream",
     "text": [
      "45\n",
      "Tan(a): 1.6197751905438615\n"
     ]
    }
   ],
   "source": [
    "import math\n",
    "\n",
    "class calc:\n",
    "    def take2(self, x, y):\n",
    "        self.x = x\n",
    "        self.y = y\n",
    "    def take1(self, a):\n",
    "        self.a = a\n",
    "\n",
    "class operations(calc):\n",
    "    def add(self):\n",
    "        print(f\"Sum: {self.x + self.y}\")\n",
    "    \n",
    "    def sub(self):\n",
    "        print(f\"Diff: {self.x - self.y}\")\n",
    "    \n",
    "    def multiply(self):\n",
    "        print(f\"Product: {self.x * self.y}\")\n",
    "    \n",
    "    def divide(self):\n",
    "        if (self.y == 0):\n",
    "            print(\"Not Defined\")\n",
    "        else:\n",
    "            print(f\"Quotient: {self.x / self.y}\")\n",
    "        \n",
    "    def remainder(self):\n",
    "        print(f\"Remainder: {self.x % self.y}\")\n",
    "    \n",
    "    def sq(self):\n",
    "        print(f\"Square: {math.sqrt(self.a)}\")\n",
    "    \n",
    "    def power(self):\n",
    "        print(f\"Power: {math.pow(self.x, self.y)}\")\n",
    "\n",
    "    def sin(self):\n",
    "        print(f\"Sin(a): {math.sin(self.a)}\")\n",
    "\n",
    "    def cos(self):\n",
    "        print(f\"Cos(a): {math.cos(self.a)}\")\n",
    "    \n",
    "    def tan(self):\n",
    "        print(f\"Tan(a): {math.tan(self.a)}\")\n",
    "    \n",
    "    def log(self):\n",
    "        print(f\"Log(a): {math.log(self.a)}\")\n",
    "    \n",
    "    def antilog(self):\n",
    "        print(f\"Antilog(a): {math.exp(self.a)}\")\n",
    "    \n",
    "\n",
    "O = operations()\n",
    "\n",
    "userVar = int(input(\"Enter the number of vars. to do opes. on (1/2): \"))\n",
    "\n",
    "if (userVar == 1):\n",
    "    var = int(input(\"Enter num: \"))\n",
    "    O.take1(var)\n",
    "    print(var)\n",
    "\n",
    "    user1 = input(\"Enter opes: \").lower()\n",
    "\n",
    "    if (user1 in [\"sq\", \"square\", \"**2\"]):\n",
    "        O.sq()\n",
    "    elif (user1 in [\"sin\"]):\n",
    "        O.sin()\n",
    "    elif (user1 in [\"cos\"]):\n",
    "        O.cos()\n",
    "    elif (user1 in [\"tan\"]):\n",
    "        O.tan()\n",
    "    elif (user1 in [\"log\", \"ln\"]):\n",
    "        O.log()\n",
    "    elif (user1 in [\"antilog\", \"log inv\"]):\n",
    "        O.antilog()\n",
    "    else:\n",
    "        print(\"Not supported for now\")\n",
    "\n",
    "elif (userVar == 2):\n",
    "    var1 = int(input(\"Enter first num: \"))\n",
    "    var2 = int(input(\"Enter second num: \"))\n",
    "    O.take2(var1, var2)\n",
    "    print(var1, var2)\n",
    "\n",
    "    user2 = input(\"Enter the opes: \").lower()\n",
    "\n",
    "    if (user2 in [\"add\", \"addition\", \"+\", \"sum\" ]):\n",
    "        O.add()\n",
    "    elif (user2 in [\"sub\", \"subtract\", \"-\", \"diff\" ]):\n",
    "        O.sub()\n",
    "    elif (user2 in [\"multiply\", \"product\", \"*\" ]):\n",
    "        O.multiply()\n",
    "    elif (user2 in [\"divide\", \"/\" ]):\n",
    "        O.divide()\n",
    "    elif (user2 in [\"remainder\", \"%\" ]):\n",
    "        O.remainder()\n",
    "    elif (user2 in [\"pow\", \"power\" ]):\n",
    "        O.power()\n",
    "    else:\n",
    "        print(\"Not supported for now\")\n",
    "        \n",
    "else:\n",
    "    print(\"Invalid\")"
   ]
  }
 ],
 "metadata": {
  "kernelspec": {
   "display_name": "Python 3",
   "language": "python",
   "name": "python3"
  },
  "language_info": {
   "codemirror_mode": {
    "name": "ipython",
    "version": 3
   },
   "file_extension": ".py",
   "mimetype": "text/x-python",
   "name": "python",
   "nbconvert_exporter": "python",
   "pygments_lexer": "ipython3",
   "version": "3.11.4"
  },
  "orig_nbformat": 4
 },
 "nbformat": 4,
 "nbformat_minor": 2
}
