{
  "cells": [
    {
      "cell_type": "code",
      "execution_count": 1,
      "metadata": {
        "id": "57MeyqlqOQ7I"
      },
      "outputs": [],
      "source": [
        "# Importing Libraries\n",
        "import yfinance as yf\n",
        "import pandas as pd\n",
        "import plotly.graph_objects as go\n",
        "import sklearn\n",
        "import numpy as np"
      ]
    },
    {
      "cell_type": "code",
      "execution_count": 2,
      "metadata": {
        "id": "VTKg7B3nOZ10"
      },
      "outputs": [],
      "source": [
        "NSE = yf.Ticker('^NSEI')"
      ]
    },
    {
      "cell_type": "code",
      "execution_count": 3,
      "metadata": {
        "id": "fZQjirugOjT5"
      },
      "outputs": [],
      "source": [
        "NSE = NSE.history(period = \"max\")"
      ]
    },
    {
      "cell_type": "code",
      "execution_count": 4,
      "metadata": {
        "colab": {
          "base_uri": "https://localhost:8080/",
          "height": 455
        },
        "id": "7R-l68U8Orwa",
        "outputId": "e697bbae-7f92-49ac-b410-1a8cbefcaae8"
      },
      "outputs": [
        {
          "data": {
            "text/html": [
              "<div>\n",
              "<style scoped>\n",
              "    .dataframe tbody tr th:only-of-type {\n",
              "        vertical-align: middle;\n",
              "    }\n",
              "\n",
              "    .dataframe tbody tr th {\n",
              "        vertical-align: top;\n",
              "    }\n",
              "\n",
              "    .dataframe thead th {\n",
              "        text-align: right;\n",
              "    }\n",
              "</style>\n",
              "<table border=\"1\" class=\"dataframe\">\n",
              "  <thead>\n",
              "    <tr style=\"text-align: right;\">\n",
              "      <th></th>\n",
              "      <th>Open</th>\n",
              "      <th>High</th>\n",
              "      <th>Low</th>\n",
              "      <th>Close</th>\n",
              "      <th>Volume</th>\n",
              "      <th>Dividends</th>\n",
              "      <th>Stock Splits</th>\n",
              "    </tr>\n",
              "    <tr>\n",
              "      <th>Date</th>\n",
              "      <th></th>\n",
              "      <th></th>\n",
              "      <th></th>\n",
              "      <th></th>\n",
              "      <th></th>\n",
              "      <th></th>\n",
              "      <th></th>\n",
              "    </tr>\n",
              "  </thead>\n",
              "  <tbody>\n",
              "    <tr>\n",
              "      <th>2007-09-17 00:00:00+05:30</th>\n",
              "      <td>4518.450195</td>\n",
              "      <td>4549.049805</td>\n",
              "      <td>4482.850098</td>\n",
              "      <td>4494.649902</td>\n",
              "      <td>0</td>\n",
              "      <td>0.0</td>\n",
              "      <td>0.0</td>\n",
              "    </tr>\n",
              "    <tr>\n",
              "      <th>2007-09-18 00:00:00+05:30</th>\n",
              "      <td>4494.100098</td>\n",
              "      <td>4551.799805</td>\n",
              "      <td>4481.549805</td>\n",
              "      <td>4546.200195</td>\n",
              "      <td>0</td>\n",
              "      <td>0.0</td>\n",
              "      <td>0.0</td>\n",
              "    </tr>\n",
              "    <tr>\n",
              "      <th>2007-09-19 00:00:00+05:30</th>\n",
              "      <td>4550.250000</td>\n",
              "      <td>4739.000000</td>\n",
              "      <td>4550.250000</td>\n",
              "      <td>4732.350098</td>\n",
              "      <td>0</td>\n",
              "      <td>0.0</td>\n",
              "      <td>0.0</td>\n",
              "    </tr>\n",
              "    <tr>\n",
              "      <th>2007-09-20 00:00:00+05:30</th>\n",
              "      <td>4734.850098</td>\n",
              "      <td>4760.850098</td>\n",
              "      <td>4721.149902</td>\n",
              "      <td>4747.549805</td>\n",
              "      <td>0</td>\n",
              "      <td>0.0</td>\n",
              "      <td>0.0</td>\n",
              "    </tr>\n",
              "    <tr>\n",
              "      <th>2007-09-21 00:00:00+05:30</th>\n",
              "      <td>4752.950195</td>\n",
              "      <td>4855.700195</td>\n",
              "      <td>4733.700195</td>\n",
              "      <td>4837.549805</td>\n",
              "      <td>0</td>\n",
              "      <td>0.0</td>\n",
              "      <td>0.0</td>\n",
              "    </tr>\n",
              "    <tr>\n",
              "      <th>...</th>\n",
              "      <td>...</td>\n",
              "      <td>...</td>\n",
              "      <td>...</td>\n",
              "      <td>...</td>\n",
              "      <td>...</td>\n",
              "      <td>...</td>\n",
              "      <td>...</td>\n",
              "    </tr>\n",
              "    <tr>\n",
              "      <th>2023-08-28 00:00:00+05:30</th>\n",
              "      <td>19298.349609</td>\n",
              "      <td>19366.849609</td>\n",
              "      <td>19249.699219</td>\n",
              "      <td>19306.050781</td>\n",
              "      <td>248200</td>\n",
              "      <td>0.0</td>\n",
              "      <td>0.0</td>\n",
              "    </tr>\n",
              "    <tr>\n",
              "      <th>2023-08-29 00:00:00+05:30</th>\n",
              "      <td>19374.849609</td>\n",
              "      <td>19377.900391</td>\n",
              "      <td>19309.099609</td>\n",
              "      <td>19342.650391</td>\n",
              "      <td>307400</td>\n",
              "      <td>0.0</td>\n",
              "      <td>0.0</td>\n",
              "    </tr>\n",
              "    <tr>\n",
              "      <th>2023-08-30 00:00:00+05:30</th>\n",
              "      <td>19433.449219</td>\n",
              "      <td>19452.800781</td>\n",
              "      <td>19334.750000</td>\n",
              "      <td>19347.449219</td>\n",
              "      <td>233000</td>\n",
              "      <td>0.0</td>\n",
              "      <td>0.0</td>\n",
              "    </tr>\n",
              "    <tr>\n",
              "      <th>2023-08-31 00:00:00+05:30</th>\n",
              "      <td>19375.550781</td>\n",
              "      <td>19388.199219</td>\n",
              "      <td>19223.650391</td>\n",
              "      <td>19253.800781</td>\n",
              "      <td>562600</td>\n",
              "      <td>0.0</td>\n",
              "      <td>0.0</td>\n",
              "    </tr>\n",
              "    <tr>\n",
              "      <th>2023-09-01 00:00:00+05:30</th>\n",
              "      <td>19258.150391</td>\n",
              "      <td>19458.550781</td>\n",
              "      <td>19255.699219</td>\n",
              "      <td>19435.300781</td>\n",
              "      <td>0</td>\n",
              "      <td>0.0</td>\n",
              "      <td>0.0</td>\n",
              "    </tr>\n",
              "  </tbody>\n",
              "</table>\n",
              "<p>3913 rows × 7 columns</p>\n",
              "</div>"
            ],
            "text/plain": [
              "                                   Open          High           Low  \\\n",
              "Date                                                                  \n",
              "2007-09-17 00:00:00+05:30   4518.450195   4549.049805   4482.850098   \n",
              "2007-09-18 00:00:00+05:30   4494.100098   4551.799805   4481.549805   \n",
              "2007-09-19 00:00:00+05:30   4550.250000   4739.000000   4550.250000   \n",
              "2007-09-20 00:00:00+05:30   4734.850098   4760.850098   4721.149902   \n",
              "2007-09-21 00:00:00+05:30   4752.950195   4855.700195   4733.700195   \n",
              "...                                 ...           ...           ...   \n",
              "2023-08-28 00:00:00+05:30  19298.349609  19366.849609  19249.699219   \n",
              "2023-08-29 00:00:00+05:30  19374.849609  19377.900391  19309.099609   \n",
              "2023-08-30 00:00:00+05:30  19433.449219  19452.800781  19334.750000   \n",
              "2023-08-31 00:00:00+05:30  19375.550781  19388.199219  19223.650391   \n",
              "2023-09-01 00:00:00+05:30  19258.150391  19458.550781  19255.699219   \n",
              "\n",
              "                                  Close  Volume  Dividends  Stock Splits  \n",
              "Date                                                                      \n",
              "2007-09-17 00:00:00+05:30   4494.649902       0        0.0           0.0  \n",
              "2007-09-18 00:00:00+05:30   4546.200195       0        0.0           0.0  \n",
              "2007-09-19 00:00:00+05:30   4732.350098       0        0.0           0.0  \n",
              "2007-09-20 00:00:00+05:30   4747.549805       0        0.0           0.0  \n",
              "2007-09-21 00:00:00+05:30   4837.549805       0        0.0           0.0  \n",
              "...                                 ...     ...        ...           ...  \n",
              "2023-08-28 00:00:00+05:30  19306.050781  248200        0.0           0.0  \n",
              "2023-08-29 00:00:00+05:30  19342.650391  307400        0.0           0.0  \n",
              "2023-08-30 00:00:00+05:30  19347.449219  233000        0.0           0.0  \n",
              "2023-08-31 00:00:00+05:30  19253.800781  562600        0.0           0.0  \n",
              "2023-09-01 00:00:00+05:30  19435.300781       0        0.0           0.0  \n",
              "\n",
              "[3913 rows x 7 columns]"
            ]
          },
          "execution_count": 4,
          "metadata": {},
          "output_type": "execute_result"
        }
      ],
      "source": [
        "NSE"
      ]
    },
    {
      "cell_type": "code",
      "execution_count": 5,
      "metadata": {
        "colab": {
          "base_uri": "https://localhost:8080/"
        },
        "id": "_l_7CmSIQFMJ",
        "outputId": "30c88d43-04e7-4988-ffc7-afe0763a3e05"
      },
      "outputs": [
        {
          "data": {
            "text/plain": [
              "DatetimeIndex(['2007-09-17 00:00:00+05:30', '2007-09-18 00:00:00+05:30',\n",
              "               '2007-09-19 00:00:00+05:30', '2007-09-20 00:00:00+05:30',\n",
              "               '2007-09-21 00:00:00+05:30', '2007-09-24 00:00:00+05:30',\n",
              "               '2007-09-25 00:00:00+05:30', '2007-09-26 00:00:00+05:30',\n",
              "               '2007-09-27 00:00:00+05:30', '2007-09-28 00:00:00+05:30',\n",
              "               ...\n",
              "               '2023-08-21 00:00:00+05:30', '2023-08-22 00:00:00+05:30',\n",
              "               '2023-08-23 00:00:00+05:30', '2023-08-24 00:00:00+05:30',\n",
              "               '2023-08-25 00:00:00+05:30', '2023-08-28 00:00:00+05:30',\n",
              "               '2023-08-29 00:00:00+05:30', '2023-08-30 00:00:00+05:30',\n",
              "               '2023-08-31 00:00:00+05:30', '2023-09-01 00:00:00+05:30'],\n",
              "              dtype='datetime64[ns, Asia/Kolkata]', name='Date', length=3913, freq=None)"
            ]
          },
          "execution_count": 5,
          "metadata": {},
          "output_type": "execute_result"
        }
      ],
      "source": [
        "NSE.index"
      ]
    },
    {
      "cell_type": "code",
      "execution_count": 6,
      "metadata": {
        "colab": {
          "base_uri": "https://localhost:8080/",
          "height": 440
        },
        "id": "_4xy4_sWQJOP",
        "outputId": "79c09627-94f7-40e8-b0a7-088db5118b56"
      },
      "outputs": [
        {
          "data": {
            "text/plain": [
              "<Axes: xlabel='Date'>"
            ]
          },
          "execution_count": 6,
          "metadata": {},
          "output_type": "execute_result"
        },
        {
          "data": {
            "image/png": "[encoded data removed]",
            "text/plain": [
              "<Figure size 640x480 with 1 Axes>"
            ]
          },
          "metadata": {},
          "output_type": "display_data"
        }
      ],
      "source": [
        "NSE.plot.line(y=\"Close\", use_index = True)"
      ]
    },
    {
      "cell_type": "code",
      "execution_count": 7,
      "metadata": {
        "id": "W61j8Q06SnFu"
      },
      "outputs": [],
      "source": [
        "del NSE[\"Dividends\"]\n",
        "del NSE[\"Stock Splits\"]"
      ]
    },
    {
      "cell_type": "code",
      "execution_count": 8,
      "metadata": {
        "id": "Y60ZXcg_S2ff"
      },
      "outputs": [],
      "source": [
        "NSE[\"Tomorrow\"] = NSE[\"Close\"].shift(-1)"
      ]
    },
    {
      "cell_type": "code",
      "execution_count": 9,
      "metadata": {
        "colab": {
          "base_uri": "https://localhost:8080/",
          "height": 455
        },
        "id": "-fFRKZm2TIpE",
        "outputId": "33b327c5-5bfc-4352-b656-8349798e578d"
      },
      "outputs": [
        {
          "data": {
            "text/html": [
              "<div>\n",
              "<style scoped>\n",
              "    .dataframe tbody tr th:only-of-type {\n",
              "        vertical-align: middle;\n",
              "    }\n",
              "\n",
              "    .dataframe tbody tr th {\n",
              "        vertical-align: top;\n",
              "    }\n",
              "\n",
              "    .dataframe thead th {\n",
              "        text-align: right;\n",
              "    }\n",
              "</style>\n",
              "<table border=\"1\" class=\"dataframe\">\n",
              "  <thead>\n",
              "    <tr style=\"text-align: right;\">\n",
              "      <th></th>\n",
              "      <th>Open</th>\n",
              "      <th>High</th>\n",
              "      <th>Low</th>\n",
              "      <th>Close</th>\n",
              "      <th>Volume</th>\n",
              "      <th>Tomorrow</th>\n",
              "    </tr>\n",
              "    <tr>\n",
              "      <th>Date</th>\n",
              "      <th></th>\n",
              "      <th></th>\n",
              "      <th></th>\n",
              "      <th></th>\n",
              "      <th></th>\n",
              "      <th></th>\n",
              "    </tr>\n",
              "  </thead>\n",
              "  <tbody>\n",
              "    <tr>\n",
              "      <th>2007-09-17 00:00:00+05:30</th>\n",
              "      <td>4518.450195</td>\n",
              "      <td>4549.049805</td>\n",
              "      <td>4482.850098</td>\n",
              "      <td>4494.649902</td>\n",
              "      <td>0</td>\n",
              "      <td>4546.200195</td>\n",
              "    </tr>\n",
              "    <tr>\n",
              "      <th>2007-09-18 00:00:00+05:30</th>\n",
              "      <td>4494.100098</td>\n",
              "      <td>4551.799805</td>\n",
              "      <td>4481.549805</td>\n",
              "      <td>4546.200195</td>\n",
              "      <td>0</td>\n",
              "      <td>4732.350098</td>\n",
              "    </tr>\n",
              "    <tr>\n",
              "      <th>2007-09-19 00:00:00+05:30</th>\n",
              "      <td>4550.250000</td>\n",
              "      <td>4739.000000</td>\n",
              "      <td>4550.250000</td>\n",
              "      <td>4732.350098</td>\n",
              "      <td>0</td>\n",
              "      <td>4747.549805</td>\n",
              "    </tr>\n",
              "    <tr>\n",
              "      <th>2007-09-20 00:00:00+05:30</th>\n",
              "      <td>4734.850098</td>\n",
              "      <td>4760.850098</td>\n",
              "      <td>4721.149902</td>\n",
              "      <td>4747.549805</td>\n",
              "      <td>0</td>\n",
              "      <td>4837.549805</td>\n",
              "    </tr>\n",
              "    <tr>\n",
              "      <th>2007-09-21 00:00:00+05:30</th>\n",
              "      <td>4752.950195</td>\n",
              "      <td>4855.700195</td>\n",
              "      <td>4733.700195</td>\n",
              "      <td>4837.549805</td>\n",
              "      <td>0</td>\n",
              "      <td>4932.200195</td>\n",
              "    </tr>\n",
              "    <tr>\n",
              "      <th>...</th>\n",
              "      <td>...</td>\n",
              "      <td>...</td>\n",
              "      <td>...</td>\n",
              "      <td>...</td>\n",
              "      <td>...</td>\n",
              "      <td>...</td>\n",
              "    </tr>\n",
              "    <tr>\n",
              "      <th>2023-08-28 00:00:00+05:30</th>\n",
              "      <td>19298.349609</td>\n",
              "      <td>19366.849609</td>\n",
              "      <td>19249.699219</td>\n",
              "      <td>19306.050781</td>\n",
              "      <td>248200</td>\n",
              "      <td>19342.650391</td>\n",
              "    </tr>\n",
              "    <tr>\n",
              "      <th>2023-08-29 00:00:00+05:30</th>\n",
              "      <td>19374.849609</td>\n",
              "      <td>19377.900391</td>\n",
              "      <td>19309.099609</td>\n",
              "      <td>19342.650391</td>\n",
              "      <td>307400</td>\n",
              "      <td>19347.449219</td>\n",
              "    </tr>\n",
              "    <tr>\n",
              "      <th>2023-08-30 00:00:00+05:30</th>\n",
              "      <td>19433.449219</td>\n",
              "      <td>19452.800781</td>\n",
              "      <td>19334.750000</td>\n",
              "      <td>19347.449219</td>\n",
              "      <td>233000</td>\n",
              "      <td>19253.800781</td>\n",
              "    </tr>\n",
              "    <tr>\n",
              "      <th>2023-08-31 00:00:00+05:30</th>\n",
              "      <td>19375.550781</td>\n",
              "      <td>19388.199219</td>\n",
              "      <td>19223.650391</td>\n",
              "      <td>19253.800781</td>\n",
              "      <td>562600</td>\n",
              "      <td>19435.300781</td>\n",
              "    </tr>\n",
              "    <tr>\n",
              "      <th>2023-09-01 00:00:00+05:30</th>\n",
              "      <td>19258.150391</td>\n",
              "      <td>19458.550781</td>\n",
              "      <td>19255.699219</td>\n",
              "      <td>19435.300781</td>\n",
              "      <td>0</td>\n",
              "      <td>NaN</td>\n",
              "    </tr>\n",
              "  </tbody>\n",
              "</table>\n",
              "<p>3913 rows × 6 columns</p>\n",
              "</div>"
            ],
            "text/plain": [
              "                                   Open          High           Low  \\\n",
              "Date                                                                  \n",
              "2007-09-17 00:00:00+05:30   4518.450195   4549.049805   4482.850098   \n",
              "2007-09-18 00:00:00+05:30   4494.100098   4551.799805   4481.549805   \n",
              "2007-09-19 00:00:00+05:30   4550.250000   4739.000000   4550.250000   \n",
              "2007-09-20 00:00:00+05:30   4734.850098   4760.850098   4721.149902   \n",
              "2007-09-21 00:00:00+05:30   4752.950195   4855.700195   4733.700195   \n",
              "...                                 ...           ...           ...   \n",
              "2023-08-28 00:00:00+05:30  19298.349609  19366.849609  19249.699219   \n",
              "2023-08-29 00:00:00+05:30  19374.849609  19377.900391  19309.099609   \n",
              "2023-08-30 00:00:00+05:30  19433.449219  19452.800781  19334.750000   \n",
              "2023-08-31 00:00:00+05:30  19375.550781  19388.199219  19223.650391   \n",
              "2023-09-01 00:00:00+05:30  19258.150391  19458.550781  19255.699219   \n",
              "\n",
              "                                  Close  Volume      Tomorrow  \n",
              "Date                                                           \n",
              "2007-09-17 00:00:00+05:30   4494.649902       0   4546.200195  \n",
              "2007-09-18 00:00:00+05:30   4546.200195       0   4732.350098  \n",
              "2007-09-19 00:00:00+05:30   4732.350098       0   4747.549805  \n",
              "2007-09-20 00:00:00+05:30   4747.549805       0   4837.549805  \n",
              "2007-09-21 00:00:00+05:30   4837.549805       0   4932.200195  \n",
              "...                                 ...     ...           ...  \n",
              "2023-08-28 00:00:00+05:30  19306.050781  248200  19342.650391  \n",
              "2023-08-29 00:00:00+05:30  19342.650391  307400  19347.449219  \n",
              "2023-08-30 00:00:00+05:30  19347.449219  233000  19253.800781  \n",
              "2023-08-31 00:00:00+05:30  19253.800781  562600  19435.300781  \n",
              "2023-09-01 00:00:00+05:30  19435.300781       0           NaN  \n",
              "\n",
              "[3913 rows x 6 columns]"
            ]
          },
          "execution_count": 9,
          "metadata": {},
          "output_type": "execute_result"
        }
      ],
      "source": [
        "NSE"
      ]
    },
    {
      "cell_type": "code",
      "execution_count": 10,
      "metadata": {
        "id": "OvF7R9qRTrvF"
      },
      "outputs": [],
      "source": [
        "NSE[\"Target\"] = (NSE[\"Tomorrow\"] > NSE['Close']).astype(int)"
      ]
    },
    {
      "cell_type": "code",
      "execution_count": 11,
      "metadata": {
        "colab": {
          "base_uri": "https://localhost:8080/",
          "height": 455
        },
        "id": "baKpLy-2U_gp",
        "outputId": "5386aed4-f83e-41c6-ab7d-7072d713e330"
      },
      "outputs": [
        {
          "data": {
            "text/html": [
              "<div>\n",
              "<style scoped>\n",
              "    .dataframe tbody tr th:only-of-type {\n",
              "        vertical-align: middle;\n",
              "    }\n",
              "\n",
              "    .dataframe tbody tr th {\n",
              "        vertical-align: top;\n",
              "    }\n",
              "\n",
              "    .dataframe thead th {\n",
              "        text-align: right;\n",
              "    }\n",
              "</style>\n",
              "<table border=\"1\" class=\"dataframe\">\n",
              "  <thead>\n",
              "    <tr style=\"text-align: right;\">\n",
              "      <th></th>\n",
              "      <th>Open</th>\n",
              "      <th>High</th>\n",
              "      <th>Low</th>\n",
              "      <th>Close</th>\n",
              "      <th>Volume</th>\n",
              "      <th>Tomorrow</th>\n",
              "      <th>Target</th>\n",
              "    </tr>\n",
              "    <tr>\n",
              "      <th>Date</th>\n",
              "      <th></th>\n",
              "      <th></th>\n",
              "      <th></th>\n",
              "      <th></th>\n",
              "      <th></th>\n",
              "      <th></th>\n",
              "      <th></th>\n",
              "    </tr>\n",
              "  </thead>\n",
              "  <tbody>\n",
              "    <tr>\n",
              "      <th>2007-09-17 00:00:00+05:30</th>\n",
              "      <td>4518.450195</td>\n",
              "      <td>4549.049805</td>\n",
              "      <td>4482.850098</td>\n",
              "      <td>4494.649902</td>\n",
              "      <td>0</td>\n",
              "      <td>4546.200195</td>\n",
              "      <td>1</td>\n",
              "    </tr>\n",
              "    <tr>\n",
              "      <th>2007-09-18 00:00:00+05:30</th>\n",
              "      <td>4494.100098</td>\n",
              "      <td>4551.799805</td>\n",
              "      <td>4481.549805</td>\n",
              "      <td>4546.200195</td>\n",
              "      <td>0</td>\n",
              "      <td>4732.350098</td>\n",
              "      <td>1</td>\n",
              "    </tr>\n",
              "    <tr>\n",
              "      <th>2007-09-19 00:00:00+05:30</th>\n",
              "      <td>4550.250000</td>\n",
              "      <td>4739.000000</td>\n",
              "      <td>4550.250000</td>\n",
              "      <td>4732.350098</td>\n",
              "      <td>0</td>\n",
              "      <td>4747.549805</td>\n",
              "      <td>1</td>\n",
              "    </tr>\n",
              "    <tr>\n",
              "      <th>2007-09-20 00:00:00+05:30</th>\n",
              "      <td>4734.850098</td>\n",
              "      <td>4760.850098</td>\n",
              "      <td>4721.149902</td>\n",
              "      <td>4747.549805</td>\n",
              "      <td>0</td>\n",
              "      <td>4837.549805</td>\n",
              "      <td>1</td>\n",
              "    </tr>\n",
              "    <tr>\n",
              "      <th>2007-09-21 00:00:00+05:30</th>\n",
              "      <td>4752.950195</td>\n",
              "      <td>4855.700195</td>\n",
              "      <td>4733.700195</td>\n",
              "      <td>4837.549805</td>\n",
              "      <td>0</td>\n",
              "      <td>4932.200195</td>\n",
              "      <td>1</td>\n",
              "    </tr>\n",
              "    <tr>\n",
              "      <th>...</th>\n",
              "      <td>...</td>\n",
              "      <td>...</td>\n",
              "      <td>...</td>\n",
              "      <td>...</td>\n",
              "      <td>...</td>\n",
              "      <td>...</td>\n",
              "      <td>...</td>\n",
              "    </tr>\n",
              "    <tr>\n",
              "      <th>2023-08-28 00:00:00+05:30</th>\n",
              "      <td>19298.349609</td>\n",
              "      <td>19366.849609</td>\n",
              "      <td>19249.699219</td>\n",
              "      <td>19306.050781</td>\n",
              "      <td>248200</td>\n",
              "      <td>19342.650391</td>\n",
              "      <td>1</td>\n",
              "    </tr>\n",
              "    <tr>\n",
              "      <th>2023-08-29 00:00:00+05:30</th>\n",
              "      <td>19374.849609</td>\n",
              "      <td>19377.900391</td>\n",
              "      <td>19309.099609</td>\n",
              "      <td>19342.650391</td>\n",
              "      <td>307400</td>\n",
              "      <td>19347.449219</td>\n",
              "      <td>1</td>\n",
              "    </tr>\n",
              "    <tr>\n",
              "      <th>2023-08-30 00:00:00+05:30</th>\n",
              "      <td>19433.449219</td>\n",
              "      <td>19452.800781</td>\n",
              "      <td>19334.750000</td>\n",
              "      <td>19347.449219</td>\n",
              "      <td>233000</td>\n",
              "      <td>19253.800781</td>\n",
              "      <td>0</td>\n",
              "    </tr>\n",
              "    <tr>\n",
              "      <th>2023-08-31 00:00:00+05:30</th>\n",
              "      <td>19375.550781</td>\n",
              "      <td>19388.199219</td>\n",
              "      <td>19223.650391</td>\n",
              "      <td>19253.800781</td>\n",
              "      <td>562600</td>\n",
              "      <td>19435.300781</td>\n",
              "      <td>1</td>\n",
              "    </tr>\n",
              "    <tr>\n",
              "      <th>2023-09-01 00:00:00+05:30</th>\n",
              "      <td>19258.150391</td>\n",
              "      <td>19458.550781</td>\n",
              "      <td>19255.699219</td>\n",
              "      <td>19435.300781</td>\n",
              "      <td>0</td>\n",
              "      <td>NaN</td>\n",
              "      <td>0</td>\n",
              "    </tr>\n",
              "  </tbody>\n",
              "</table>\n",
              "<p>3913 rows × 7 columns</p>\n",
              "</div>"
            ],
            "text/plain": [
              "                                   Open          High           Low  \\\n",
              "Date                                                                  \n",
              "2007-09-17 00:00:00+05:30   4518.450195   4549.049805   4482.850098   \n",
              "2007-09-18 00:00:00+05:30   4494.100098   4551.799805   4481.549805   \n",
              "2007-09-19 00:00:00+05:30   4550.250000   4739.000000   4550.250000   \n",
              "2007-09-20 00:00:00+05:30   4734.850098   4760.850098   4721.149902   \n",
              "2007-09-21 00:00:00+05:30   4752.950195   4855.700195   4733.700195   \n",
              "...                                 ...           ...           ...   \n",
              "2023-08-28 00:00:00+05:30  19298.349609  19366.849609  19249.699219   \n",
              "2023-08-29 00:00:00+05:30  19374.849609  19377.900391  19309.099609   \n",
              "2023-08-30 00:00:00+05:30  19433.449219  19452.800781  19334.750000   \n",
              "2023-08-31 00:00:00+05:30  19375.550781  19388.199219  19223.650391   \n",
              "2023-09-01 00:00:00+05:30  19258.150391  19458.550781  19255.699219   \n",
              "\n",
              "                                  Close  Volume      Tomorrow  Target  \n",
              "Date                                                                   \n",
              "2007-09-17 00:00:00+05:30   4494.649902       0   4546.200195       1  \n",
              "2007-09-18 00:00:00+05:30   4546.200195       0   4732.350098       1  \n",
              "2007-09-19 00:00:00+05:30   4732.350098       0   4747.549805       1  \n",
              "2007-09-20 00:00:00+05:30   4747.549805       0   4837.549805       1  \n",
              "2007-09-21 00:00:00+05:30   4837.549805       0   4932.200195       1  \n",
              "...                                 ...     ...           ...     ...  \n",
              "2023-08-28 00:00:00+05:30  19306.050781  248200  19342.650391       1  \n",
              "2023-08-29 00:00:00+05:30  19342.650391  307400  19347.449219       1  \n",
              "2023-08-30 00:00:00+05:30  19347.449219  233000  19253.800781       0  \n",
              "2023-08-31 00:00:00+05:30  19253.800781  562600  19435.300781       1  \n",
              "2023-09-01 00:00:00+05:30  19435.300781       0           NaN       0  \n",
              "\n",
              "[3913 rows x 7 columns]"
            ]
          },
          "execution_count": 11,
          "metadata": {},
          "output_type": "execute_result"
        }
      ],
      "source": [
        "NSE"
      ]
    },
    {
      "cell_type": "code",
      "execution_count": 12,
      "metadata": {
        "colab": {
          "base_uri": "https://localhost:8080/"
        },
        "id": "NycgY3n5VaJG",
        "outputId": "4b5a296d-9ba8-4f8a-f5c6-05ce78c65e6e"
      },
      "outputs": [
        {
          "name": "stdout",
          "output_type": "stream",
          "text": [
            "[*********************100%%**********************]  1 of 1 completed\n",
            "                  Open        High         Low       Close   Adj Close  \\\n",
            "Date                                                                     \n",
            "2023-02-13  150.949997  154.259995  150.919998  153.850006  153.430313   \n",
            "2023-02-14  152.119995  153.770004  150.860001  153.199997  152.782074   \n",
            "2023-02-15  153.110001  155.500000  152.880005  155.330002  154.906265   \n",
            "2023-02-16  153.509995  156.330002  153.350006  153.710007  153.290680   \n",
            "2023-02-17  152.350006  153.000000  150.850006  152.550003  152.133850   \n",
            "...                ...         ...         ...         ...         ...   \n",
            "2023-08-25  177.380005  179.149994  175.820007  178.610001  178.610001   \n",
            "2023-08-28  180.089996  180.589996  178.550003  180.190002  180.190002   \n",
            "2023-08-29  179.699997  184.899994  179.500000  184.119995  184.119995   \n",
            "2023-08-30  184.940002  187.850006  184.740005  187.649994  187.649994   \n",
            "2023-08-31  187.839996  189.119995  187.479996  187.869995  187.869995   \n",
            "\n",
            "              Volume  \n",
            "Date                  \n",
            "2023-02-13  62199000  \n",
            "2023-02-14  61707600  \n",
            "2023-02-15  65573800  \n",
            "2023-02-16  68167900  \n",
            "2023-02-17  59144100  \n",
            "...              ...  \n",
            "2023-08-25  51418700  \n",
            "2023-08-28  43820700  \n",
            "2023-08-29  53003900  \n",
            "2023-08-30  60813900  \n",
            "2023-08-31  60794500  \n",
            "\n",
            "[139 rows x 6 columns]\n"
          ]
        }
      ],
      "source": [
        "#define ticker and fetch records\n",
        "stock = input(\"enter a Ticker\\n\")\n",
        "start_date = input(\"Enter start date to fetch records in yyyy-mm-dd format\")\n",
        "end_date = input(\"Enter end date to fetch records in yyyy-mm-dd format\")\n",
        "\n",
        "data = yf.download(stock, start = start_date , end = end_date)\n",
        "\n",
        "print(data)"
      ]
    },
    {
      "cell_type": "code",
      "execution_count": 13,
      "metadata": {
        "colab": {
          "base_uri": "https://localhost:8080/",
          "height": 455
        },
        "id": "VtXwJ0NCjYSw",
        "outputId": "25bffa1f-e269-45f0-e3ee-3d3e7c82ff9a"
      },
      "outputs": [
        {
          "data": {
            "text/html": [
              "<div>\n",
              "<style scoped>\n",
              "    .dataframe tbody tr th:only-of-type {\n",
              "        vertical-align: middle;\n",
              "    }\n",
              "\n",
              "    .dataframe tbody tr th {\n",
              "        vertical-align: top;\n",
              "    }\n",
              "\n",
              "    .dataframe thead th {\n",
              "        text-align: right;\n",
              "    }\n",
              "</style>\n",
              "<table border=\"1\" class=\"dataframe\">\n",
              "  <thead>\n",
              "    <tr style=\"text-align: right;\">\n",
              "      <th></th>\n",
              "      <th>Open</th>\n",
              "      <th>High</th>\n",
              "      <th>Low</th>\n",
              "      <th>Close</th>\n",
              "      <th>Adj Close</th>\n",
              "      <th>Volume</th>\n",
              "    </tr>\n",
              "    <tr>\n",
              "      <th>Date</th>\n",
              "      <th></th>\n",
              "      <th></th>\n",
              "      <th></th>\n",
              "      <th></th>\n",
              "      <th></th>\n",
              "      <th></th>\n",
              "    </tr>\n",
              "  </thead>\n",
              "  <tbody>\n",
              "    <tr>\n",
              "      <th>2023-02-13</th>\n",
              "      <td>150.949997</td>\n",
              "      <td>154.259995</td>\n",
              "      <td>150.919998</td>\n",
              "      <td>153.850006</td>\n",
              "      <td>153.430313</td>\n",
              "      <td>62199000</td>\n",
              "    </tr>\n",
              "    <tr>\n",
              "      <th>2023-02-14</th>\n",
              "      <td>152.119995</td>\n",
              "      <td>153.770004</td>\n",
              "      <td>150.860001</td>\n",
              "      <td>153.199997</td>\n",
              "      <td>152.782074</td>\n",
              "      <td>61707600</td>\n",
              "    </tr>\n",
              "    <tr>\n",
              "      <th>2023-02-15</th>\n",
              "      <td>153.110001</td>\n",
              "      <td>155.500000</td>\n",
              "      <td>152.880005</td>\n",
              "      <td>155.330002</td>\n",
              "      <td>154.906265</td>\n",
              "      <td>65573800</td>\n",
              "    </tr>\n",
              "    <tr>\n",
              "      <th>2023-02-16</th>\n",
              "      <td>153.509995</td>\n",
              "      <td>156.330002</td>\n",
              "      <td>153.350006</td>\n",
              "      <td>153.710007</td>\n",
              "      <td>153.290680</td>\n",
              "      <td>68167900</td>\n",
              "    </tr>\n",
              "    <tr>\n",
              "      <th>2023-02-17</th>\n",
              "      <td>152.350006</td>\n",
              "      <td>153.000000</td>\n",
              "      <td>150.850006</td>\n",
              "      <td>152.550003</td>\n",
              "      <td>152.133850</td>\n",
              "      <td>59144100</td>\n",
              "    </tr>\n",
              "    <tr>\n",
              "      <th>...</th>\n",
              "      <td>...</td>\n",
              "      <td>...</td>\n",
              "      <td>...</td>\n",
              "      <td>...</td>\n",
              "      <td>...</td>\n",
              "      <td>...</td>\n",
              "    </tr>\n",
              "    <tr>\n",
              "      <th>2023-08-25</th>\n",
              "      <td>177.380005</td>\n",
              "      <td>179.149994</td>\n",
              "      <td>175.820007</td>\n",
              "      <td>178.610001</td>\n",
              "      <td>178.610001</td>\n",
              "      <td>51418700</td>\n",
              "    </tr>\n",
              "    <tr>\n",
              "      <th>2023-08-28</th>\n",
              "      <td>180.089996</td>\n",
              "      <td>180.589996</td>\n",
              "      <td>178.550003</td>\n",
              "      <td>180.190002</td>\n",
              "      <td>180.190002</td>\n",
              "      <td>43820700</td>\n",
              "    </tr>\n",
              "    <tr>\n",
              "      <th>2023-08-29</th>\n",
              "      <td>179.699997</td>\n",
              "      <td>184.899994</td>\n",
              "      <td>179.500000</td>\n",
              "      <td>184.119995</td>\n",
              "      <td>184.119995</td>\n",
              "      <td>53003900</td>\n",
              "    </tr>\n",
              "    <tr>\n",
              "      <th>2023-08-30</th>\n",
              "      <td>184.940002</td>\n",
              "      <td>187.850006</td>\n",
              "      <td>184.740005</td>\n",
              "      <td>187.649994</td>\n",
              "      <td>187.649994</td>\n",
              "      <td>60813900</td>\n",
              "    </tr>\n",
              "    <tr>\n",
              "      <th>2023-08-31</th>\n",
              "      <td>187.839996</td>\n",
              "      <td>189.119995</td>\n",
              "      <td>187.479996</td>\n",
              "      <td>187.869995</td>\n",
              "      <td>187.869995</td>\n",
              "      <td>60794500</td>\n",
              "    </tr>\n",
              "  </tbody>\n",
              "</table>\n",
              "<p>139 rows × 6 columns</p>\n",
              "</div>"
            ],
            "text/plain": [
              "                  Open        High         Low       Close   Adj Close  \\\n",
              "Date                                                                     \n",
              "2023-02-13  150.949997  154.259995  150.919998  153.850006  153.430313   \n",
              "2023-02-14  152.119995  153.770004  150.860001  153.199997  152.782074   \n",
              "2023-02-15  153.110001  155.500000  152.880005  155.330002  154.906265   \n",
              "2023-02-16  153.509995  156.330002  153.350006  153.710007  153.290680   \n",
              "2023-02-17  152.350006  153.000000  150.850006  152.550003  152.133850   \n",
              "...                ...         ...         ...         ...         ...   \n",
              "2023-08-25  177.380005  179.149994  175.820007  178.610001  178.610001   \n",
              "2023-08-28  180.089996  180.589996  178.550003  180.190002  180.190002   \n",
              "2023-08-29  179.699997  184.899994  179.500000  184.119995  184.119995   \n",
              "2023-08-30  184.940002  187.850006  184.740005  187.649994  187.649994   \n",
              "2023-08-31  187.839996  189.119995  187.479996  187.869995  187.869995   \n",
              "\n",
              "              Volume  \n",
              "Date                  \n",
              "2023-02-13  62199000  \n",
              "2023-02-14  61707600  \n",
              "2023-02-15  65573800  \n",
              "2023-02-16  68167900  \n",
              "2023-02-17  59144100  \n",
              "...              ...  \n",
              "2023-08-25  51418700  \n",
              "2023-08-28  43820700  \n",
              "2023-08-29  53003900  \n",
              "2023-08-30  60813900  \n",
              "2023-08-31  60794500  \n",
              "\n",
              "[139 rows x 6 columns]"
            ]
          },
          "execution_count": 13,
          "metadata": {},
          "output_type": "execute_result"
        }
      ],
      "source": [
        "data"
      ]
    },
    {
      "cell_type": "code",
      "execution_count": 14,
      "metadata": {
        "id": "RkPlaJpBkaXo"
      },
      "outputs": [],
      "source": [
        "df = pd.DataFrame(data)"
      ]
    },
    {
      "cell_type": "code",
      "execution_count": 15,
      "metadata": {
        "colab": {
          "base_uri": "https://localhost:8080/",
          "height": 237
        },
        "id": "KKuBMY40lshN",
        "outputId": "e34a54b3-7a56-4572-be2f-4fcef0ed668b"
      },
      "outputs": [
        {
          "data": {
            "text/html": [
              "<div>\n",
              "<style scoped>\n",
              "    .dataframe tbody tr th:only-of-type {\n",
              "        vertical-align: middle;\n",
              "    }\n",
              "\n",
              "    .dataframe tbody tr th {\n",
              "        vertical-align: top;\n",
              "    }\n",
              "\n",
              "    .dataframe thead th {\n",
              "        text-align: right;\n",
              "    }\n",
              "</style>\n",
              "<table border=\"1\" class=\"dataframe\">\n",
              "  <thead>\n",
              "    <tr style=\"text-align: right;\">\n",
              "      <th></th>\n",
              "      <th>Open</th>\n",
              "      <th>High</th>\n",
              "      <th>Low</th>\n",
              "      <th>Close</th>\n",
              "      <th>Adj Close</th>\n",
              "      <th>Volume</th>\n",
              "    </tr>\n",
              "    <tr>\n",
              "      <th>Date</th>\n",
              "      <th></th>\n",
              "      <th></th>\n",
              "      <th></th>\n",
              "      <th></th>\n",
              "      <th></th>\n",
              "      <th></th>\n",
              "    </tr>\n",
              "  </thead>\n",
              "  <tbody>\n",
              "    <tr>\n",
              "      <th>2023-02-13</th>\n",
              "      <td>150.949997</td>\n",
              "      <td>154.259995</td>\n",
              "      <td>150.919998</td>\n",
              "      <td>153.850006</td>\n",
              "      <td>153.430313</td>\n",
              "      <td>62199000</td>\n",
              "    </tr>\n",
              "    <tr>\n",
              "      <th>2023-02-14</th>\n",
              "      <td>152.119995</td>\n",
              "      <td>153.770004</td>\n",
              "      <td>150.860001</td>\n",
              "      <td>153.199997</td>\n",
              "      <td>152.782074</td>\n",
              "      <td>61707600</td>\n",
              "    </tr>\n",
              "    <tr>\n",
              "      <th>2023-02-15</th>\n",
              "      <td>153.110001</td>\n",
              "      <td>155.500000</td>\n",
              "      <td>152.880005</td>\n",
              "      <td>155.330002</td>\n",
              "      <td>154.906265</td>\n",
              "      <td>65573800</td>\n",
              "    </tr>\n",
              "    <tr>\n",
              "      <th>2023-02-16</th>\n",
              "      <td>153.509995</td>\n",
              "      <td>156.330002</td>\n",
              "      <td>153.350006</td>\n",
              "      <td>153.710007</td>\n",
              "      <td>153.290680</td>\n",
              "      <td>68167900</td>\n",
              "    </tr>\n",
              "    <tr>\n",
              "      <th>2023-02-17</th>\n",
              "      <td>152.350006</td>\n",
              "      <td>153.000000</td>\n",
              "      <td>150.850006</td>\n",
              "      <td>152.550003</td>\n",
              "      <td>152.133850</td>\n",
              "      <td>59144100</td>\n",
              "    </tr>\n",
              "  </tbody>\n",
              "</table>\n",
              "</div>"
            ],
            "text/plain": [
              "                  Open        High         Low       Close   Adj Close  \\\n",
              "Date                                                                     \n",
              "2023-02-13  150.949997  154.259995  150.919998  153.850006  153.430313   \n",
              "2023-02-14  152.119995  153.770004  150.860001  153.199997  152.782074   \n",
              "2023-02-15  153.110001  155.500000  152.880005  155.330002  154.906265   \n",
              "2023-02-16  153.509995  156.330002  153.350006  153.710007  153.290680   \n",
              "2023-02-17  152.350006  153.000000  150.850006  152.550003  152.133850   \n",
              "\n",
              "              Volume  \n",
              "Date                  \n",
              "2023-02-13  62199000  \n",
              "2023-02-14  61707600  \n",
              "2023-02-15  65573800  \n",
              "2023-02-16  68167900  \n",
              "2023-02-17  59144100  "
            ]
          },
          "execution_count": 15,
          "metadata": {},
          "output_type": "execute_result"
        }
      ],
      "source": [
        "df.head()"
      ]
    },
    {
      "cell_type": "code",
      "execution_count": 16,
      "metadata": {
        "colab": {
          "base_uri": "https://localhost:8080/"
        },
        "id": "gD5FfLoglu8D",
        "outputId": "b02e95ec-ec2f-49ac-e816-753f45bccc8b"
      },
      "outputs": [
        {
          "name": "stdout",
          "output_type": "stream",
          "text": [
            "<class 'pandas.core.frame.DataFrame'>\n",
            "DatetimeIndex: 139 entries, 2023-02-13 to 2023-08-31\n",
            "Data columns (total 6 columns):\n",
            " #   Column     Non-Null Count  Dtype  \n",
            "---  ------     --------------  -----  \n",
            " 0   Open       139 non-null    float64\n",
            " 1   High       139 non-null    float64\n",
            " 2   Low        139 non-null    float64\n",
            " 3   Close      139 non-null    float64\n",
            " 4   Adj Close  139 non-null    float64\n",
            " 5   Volume     139 non-null    int64  \n",
            "dtypes: float64(5), int64(1)\n",
            "memory usage: 7.6 KB\n"
          ]
        }
      ],
      "source": [
        "df.info()"
      ]
    },
    {
      "cell_type": "code",
      "execution_count": 17,
      "metadata": {
        "id": "cIg_pJIcl8cj"
      },
      "outputs": [],
      "source": [
        "#Making date as a feature\n",
        "df['date'] = pd.to_datetime(df.index)"
      ]
    },
    {
      "cell_type": "code",
      "execution_count": 18,
      "metadata": {
        "colab": {
          "base_uri": "https://localhost:8080/",
          "height": 455
        },
        "id": "P2rBC923mTHx",
        "outputId": "e8fc090b-5431-43d4-b6b3-bca447502075"
      },
      "outputs": [
        {
          "data": {
            "text/html": [
              "<div>\n",
              "<style scoped>\n",
              "    .dataframe tbody tr th:only-of-type {\n",
              "        vertical-align: middle;\n",
              "    }\n",
              "\n",
              "    .dataframe tbody tr th {\n",
              "        vertical-align: top;\n",
              "    }\n",
              "\n",
              "    .dataframe thead th {\n",
              "        text-align: right;\n",
              "    }\n",
              "</style>\n",
              "<table border=\"1\" class=\"dataframe\">\n",
              "  <thead>\n",
              "    <tr style=\"text-align: right;\">\n",
              "      <th></th>\n",
              "      <th>Open</th>\n",
              "      <th>High</th>\n",
              "      <th>Low</th>\n",
              "      <th>Close</th>\n",
              "      <th>Adj Close</th>\n",
              "      <th>Volume</th>\n",
              "      <th>date</th>\n",
              "    </tr>\n",
              "    <tr>\n",
              "      <th>Date</th>\n",
              "      <th></th>\n",
              "      <th></th>\n",
              "      <th></th>\n",
              "      <th></th>\n",
              "      <th></th>\n",
              "      <th></th>\n",
              "      <th></th>\n",
              "    </tr>\n",
              "  </thead>\n",
              "  <tbody>\n",
              "    <tr>\n",
              "      <th>2023-02-13</th>\n",
              "      <td>150.949997</td>\n",
              "      <td>154.259995</td>\n",
              "      <td>150.919998</td>\n",
              "      <td>153.850006</td>\n",
              "      <td>153.430313</td>\n",
              "      <td>62199000</td>\n",
              "      <td>2023-02-13</td>\n",
              "    </tr>\n",
              "    <tr>\n",
              "      <th>2023-02-14</th>\n",
              "      <td>152.119995</td>\n",
              "      <td>153.770004</td>\n",
              "      <td>150.860001</td>\n",
              "      <td>153.199997</td>\n",
              "      <td>152.782074</td>\n",
              "      <td>61707600</td>\n",
              "      <td>2023-02-14</td>\n",
              "    </tr>\n",
              "    <tr>\n",
              "      <th>2023-02-15</th>\n",
              "      <td>153.110001</td>\n",
              "      <td>155.500000</td>\n",
              "      <td>152.880005</td>\n",
              "      <td>155.330002</td>\n",
              "      <td>154.906265</td>\n",
              "      <td>65573800</td>\n",
              "      <td>2023-02-15</td>\n",
              "    </tr>\n",
              "    <tr>\n",
              "      <th>2023-02-16</th>\n",
              "      <td>153.509995</td>\n",
              "      <td>156.330002</td>\n",
              "      <td>153.350006</td>\n",
              "      <td>153.710007</td>\n",
              "      <td>153.290680</td>\n",
              "      <td>68167900</td>\n",
              "      <td>2023-02-16</td>\n",
              "    </tr>\n",
              "    <tr>\n",
              "      <th>2023-02-17</th>\n",
              "      <td>152.350006</td>\n",
              "      <td>153.000000</td>\n",
              "      <td>150.850006</td>\n",
              "      <td>152.550003</td>\n",
              "      <td>152.133850</td>\n",
              "      <td>59144100</td>\n",
              "      <td>2023-02-17</td>\n",
              "    </tr>\n",
              "    <tr>\n",
              "      <th>...</th>\n",
              "      <td>...</td>\n",
              "      <td>...</td>\n",
              "      <td>...</td>\n",
              "      <td>...</td>\n",
              "      <td>...</td>\n",
              "      <td>...</td>\n",
              "      <td>...</td>\n",
              "    </tr>\n",
              "    <tr>\n",
              "      <th>2023-08-25</th>\n",
              "      <td>177.380005</td>\n",
              "      <td>179.149994</td>\n",
              "      <td>175.820007</td>\n",
              "      <td>178.610001</td>\n",
              "      <td>178.610001</td>\n",
              "      <td>51418700</td>\n",
              "      <td>2023-08-25</td>\n",
              "    </tr>\n",
              "    <tr>\n",
              "      <th>2023-08-28</th>\n",
              "      <td>180.089996</td>\n",
              "      <td>180.589996</td>\n",
              "      <td>178.550003</td>\n",
              "      <td>180.190002</td>\n",
              "      <td>180.190002</td>\n",
              "      <td>43820700</td>\n",
              "      <td>2023-08-28</td>\n",
              "    </tr>\n",
              "    <tr>\n",
              "      <th>2023-08-29</th>\n",
              "      <td>179.699997</td>\n",
              "      <td>184.899994</td>\n",
              "      <td>179.500000</td>\n",
              "      <td>184.119995</td>\n",
              "      <td>184.119995</td>\n",
              "      <td>53003900</td>\n",
              "      <td>2023-08-29</td>\n",
              "    </tr>\n",
              "    <tr>\n",
              "      <th>2023-08-30</th>\n",
              "      <td>184.940002</td>\n",
              "      <td>187.850006</td>\n",
              "      <td>184.740005</td>\n",
              "      <td>187.649994</td>\n",
              "      <td>187.649994</td>\n",
              "      <td>60813900</td>\n",
              "      <td>2023-08-30</td>\n",
              "    </tr>\n",
              "    <tr>\n",
              "      <th>2023-08-31</th>\n",
              "      <td>187.839996</td>\n",
              "      <td>189.119995</td>\n",
              "      <td>187.479996</td>\n",
              "      <td>187.869995</td>\n",
              "      <td>187.869995</td>\n",
              "      <td>60794500</td>\n",
              "      <td>2023-08-31</td>\n",
              "    </tr>\n",
              "  </tbody>\n",
              "</table>\n",
              "<p>139 rows × 7 columns</p>\n",
              "</div>"
            ],
            "text/plain": [
              "                  Open        High         Low       Close   Adj Close  \\\n",
              "Date                                                                     \n",
              "2023-02-13  150.949997  154.259995  150.919998  153.850006  153.430313   \n",
              "2023-02-14  152.119995  153.770004  150.860001  153.199997  152.782074   \n",
              "2023-02-15  153.110001  155.500000  152.880005  155.330002  154.906265   \n",
              "2023-02-16  153.509995  156.330002  153.350006  153.710007  153.290680   \n",
              "2023-02-17  152.350006  153.000000  150.850006  152.550003  152.133850   \n",
              "...                ...         ...         ...         ...         ...   \n",
              "2023-08-25  177.380005  179.149994  175.820007  178.610001  178.610001   \n",
              "2023-08-28  180.089996  180.589996  178.550003  180.190002  180.190002   \n",
              "2023-08-29  179.699997  184.899994  179.500000  184.119995  184.119995   \n",
              "2023-08-30  184.940002  187.850006  184.740005  187.649994  187.649994   \n",
              "2023-08-31  187.839996  189.119995  187.479996  187.869995  187.869995   \n",
              "\n",
              "              Volume       date  \n",
              "Date                             \n",
              "2023-02-13  62199000 2023-02-13  \n",
              "2023-02-14  61707600 2023-02-14  \n",
              "2023-02-15  65573800 2023-02-15  \n",
              "2023-02-16  68167900 2023-02-16  \n",
              "2023-02-17  59144100 2023-02-17  \n",
              "...              ...        ...  \n",
              "2023-08-25  51418700 2023-08-25  \n",
              "2023-08-28  43820700 2023-08-28  \n",
              "2023-08-29  53003900 2023-08-29  \n",
              "2023-08-30  60813900 2023-08-30  \n",
              "2023-08-31  60794500 2023-08-31  \n",
              "\n",
              "[139 rows x 7 columns]"
            ]
          },
          "execution_count": 18,
          "metadata": {},
          "output_type": "execute_result"
        }
      ],
      "source": [
        "df"
      ]
    },
    {
      "cell_type": "code",
      "execution_count": 19,
      "metadata": {
        "colab": {
          "base_uri": "https://localhost:8080/",
          "height": 237
        },
        "id": "-hduEAdBmV5R",
        "outputId": "8dc33c81-3024-4d69-af89-822deee82cf1"
      },
      "outputs": [
        {
          "data": {
            "text/html": [
              "<div>\n",
              "<style scoped>\n",
              "    .dataframe tbody tr th:only-of-type {\n",
              "        vertical-align: middle;\n",
              "    }\n",
              "\n",
              "    .dataframe tbody tr th {\n",
              "        vertical-align: top;\n",
              "    }\n",
              "\n",
              "    .dataframe thead th {\n",
              "        text-align: right;\n",
              "    }\n",
              "</style>\n",
              "<table border=\"1\" class=\"dataframe\">\n",
              "  <thead>\n",
              "    <tr style=\"text-align: right;\">\n",
              "      <th></th>\n",
              "      <th>Open</th>\n",
              "      <th>High</th>\n",
              "      <th>Low</th>\n",
              "      <th>Close</th>\n",
              "      <th>Adj Close</th>\n",
              "      <th>Volume</th>\n",
              "      <th>date</th>\n",
              "    </tr>\n",
              "    <tr>\n",
              "      <th>Date</th>\n",
              "      <th></th>\n",
              "      <th></th>\n",
              "      <th></th>\n",
              "      <th></th>\n",
              "      <th></th>\n",
              "      <th></th>\n",
              "      <th></th>\n",
              "    </tr>\n",
              "  </thead>\n",
              "  <tbody>\n",
              "    <tr>\n",
              "      <th>2023-02-13</th>\n",
              "      <td>150.949997</td>\n",
              "      <td>154.259995</td>\n",
              "      <td>150.919998</td>\n",
              "      <td>153.850006</td>\n",
              "      <td>153.430313</td>\n",
              "      <td>62199000</td>\n",
              "      <td>2023-02-13</td>\n",
              "    </tr>\n",
              "    <tr>\n",
              "      <th>2023-02-14</th>\n",
              "      <td>152.119995</td>\n",
              "      <td>153.770004</td>\n",
              "      <td>150.860001</td>\n",
              "      <td>153.199997</td>\n",
              "      <td>152.782074</td>\n",
              "      <td>61707600</td>\n",
              "      <td>2023-02-14</td>\n",
              "    </tr>\n",
              "    <tr>\n",
              "      <th>2023-02-15</th>\n",
              "      <td>153.110001</td>\n",
              "      <td>155.500000</td>\n",
              "      <td>152.880005</td>\n",
              "      <td>155.330002</td>\n",
              "      <td>154.906265</td>\n",
              "      <td>65573800</td>\n",
              "      <td>2023-02-15</td>\n",
              "    </tr>\n",
              "    <tr>\n",
              "      <th>2023-02-16</th>\n",
              "      <td>153.509995</td>\n",
              "      <td>156.330002</td>\n",
              "      <td>153.350006</td>\n",
              "      <td>153.710007</td>\n",
              "      <td>153.290680</td>\n",
              "      <td>68167900</td>\n",
              "      <td>2023-02-16</td>\n",
              "    </tr>\n",
              "    <tr>\n",
              "      <th>2023-02-17</th>\n",
              "      <td>152.350006</td>\n",
              "      <td>153.000000</td>\n",
              "      <td>150.850006</td>\n",
              "      <td>152.550003</td>\n",
              "      <td>152.133850</td>\n",
              "      <td>59144100</td>\n",
              "      <td>2023-02-17</td>\n",
              "    </tr>\n",
              "  </tbody>\n",
              "</table>\n",
              "</div>"
            ],
            "text/plain": [
              "                  Open        High         Low       Close   Adj Close  \\\n",
              "Date                                                                     \n",
              "2023-02-13  150.949997  154.259995  150.919998  153.850006  153.430313   \n",
              "2023-02-14  152.119995  153.770004  150.860001  153.199997  152.782074   \n",
              "2023-02-15  153.110001  155.500000  152.880005  155.330002  154.906265   \n",
              "2023-02-16  153.509995  156.330002  153.350006  153.710007  153.290680   \n",
              "2023-02-17  152.350006  153.000000  150.850006  152.550003  152.133850   \n",
              "\n",
              "              Volume       date  \n",
              "Date                             \n",
              "2023-02-13  62199000 2023-02-13  \n",
              "2023-02-14  61707600 2023-02-14  \n",
              "2023-02-15  65573800 2023-02-15  \n",
              "2023-02-16  68167900 2023-02-16  \n",
              "2023-02-17  59144100 2023-02-17  "
            ]
          },
          "execution_count": 19,
          "metadata": {},
          "output_type": "execute_result"
        }
      ],
      "source": [
        "df.head()"
      ]
    },
    {
      "cell_type": "code",
      "execution_count": 20,
      "metadata": {
        "colab": {
          "base_uri": "https://localhost:8080/",
          "height": 542
        },
        "id": "V0r2NVZ5nbTT",
        "outputId": "1b656211-254e-4a09-d93c-32d0cd75d18a"
      },
      "outputs": [
        {
          "data": {
            "application/vnd.plotly.v1+json": {
              "config": {
                "plotlyServerURL": "https://plot.ly"
              },
              "data": [
                {
                  "close": [
                    153.85000610351562,
                    153.1999969482422,
                    155.3300018310547,
                    153.7100067138672,
                    152.5500030517578,
                    148.47999572753906,
                    148.91000366210938,
                    149.39999389648438,
                    146.7100067138672,
                    147.9199981689453,
                    147.41000366210938,
                    145.30999755859375,
                    145.91000366210938,
                    151.02999877929688,
                    153.8300018310547,
                    151.60000610351562,
                    152.8699951171875,
                    150.58999633789062,
                    148.5,
                    150.47000122070312,
                    152.58999633789062,
                    152.99000549316406,
                    155.85000610351562,
                    155,
                    157.39999389648438,
                    159.27999877929688,
                    157.8300018310547,
                    158.92999267578125,
                    160.25,
                    158.27999877929688,
                    157.64999389648438,
                    160.77000427246094,
                    162.36000061035156,
                    164.89999389648438,
                    166.1699981689453,
                    165.6300048828125,
                    163.75999450683594,
                    164.66000366210938,
                    162.02999877929688,
                    160.8000030517578,
                    160.10000610351562,
                    165.55999755859375,
                    165.2100067138672,
                    165.22999572753906,
                    166.47000122070312,
                    167.6300048828125,
                    166.64999389648438,
                    165.02000427246094,
                    165.3300018310547,
                    163.77000427246094,
                    163.75999450683594,
                    168.41000366210938,
                    169.67999267578125,
                    169.58999633789062,
                    168.5399932861328,
                    167.4499969482422,
                    165.7899932861328,
                    173.57000732421875,
                    173.5,
                    171.77000427246094,
                    173.55999755859375,
                    173.75,
                    172.57000732421875,
                    172.07000732421875,
                    172.07000732421875,
                    172.69000244140625,
                    175.0500030517578,
                    175.16000366210938,
                    174.1999969482422,
                    171.55999755859375,
                    171.83999633789062,
                    172.99000549316406,
                    175.42999267578125,
                    177.3000030517578,
                    177.25,
                    180.08999633789062,
                    180.9499969482422,
                    179.5800018310547,
                    179.2100067138672,
                    177.82000732421875,
                    180.57000732421875,
                    180.9600067138672,
                    183.7899932861328,
                    183.30999755859375,
                    183.9499969482422,
                    186.00999450683594,
                    184.9199981689453,
                    185.00999450683594,
                    183.9600067138672,
                    187,
                    186.67999267578125,
                    185.27000427246094,
                    188.05999755859375,
                    189.25,
                    189.58999633789062,
                    193.97000122070312,
                    192.4600067138672,
                    191.3300018310547,
                    191.80999755859375,
                    190.67999267578125,
                    188.61000061035156,
                    188.0800018310547,
                    189.77000427246094,
                    190.5399932861328,
                    190.69000244140625,
                    193.99000549316406,
                    193.72999572753906,
                    195.10000610351562,
                    193.1300048828125,
                    191.94000244140625,
                    192.75,
                    193.6199951171875,
                    194.5,
                    193.22000122070312,
                    195.8300018310547,
                    196.4499969482422,
                    195.61000061035156,
                    192.5800018310547,
                    191.1699981689453,
                    181.99000549316406,
                    178.85000610351562,
                    179.8000030517578,
                    178.19000244140625,
                    177.97000122070312,
                    177.7899932861328,
                    179.4600067138672,
                    177.4499969482422,
                    176.57000732421875,
                    174,
                    174.49000549316406,
                    175.83999633789062,
                    177.22999572753906,
                    181.1199951171875,
                    176.3800048828125,
                    178.61000061035156,
                    180.19000244140625,
                    184.1199951171875,
                    187.64999389648438,
                    187.8699951171875
                  ],
                  "high": [
                    154.25999450683594,
                    153.77000427246094,
                    155.5,
                    156.3300018310547,
                    153,
                    151.3000030517578,
                    149.9499969482422,
                    150.33999633789062,
                    147.19000244140625,
                    149.1699981689453,
                    149.0800018310547,
                    147.22999572753906,
                    146.7100067138672,
                    151.11000061035156,
                    156.3000030517578,
                    154.02999877929688,
                    153.47000122070312,
                    154.5399932861328,
                    150.94000244140625,
                    153.13999938964844,
                    153.39999389648438,
                    153.25,
                    156.4600067138672,
                    156.74000549316406,
                    157.82000732421875,
                    159.39999389648438,
                    162.13999938964844,
                    161.5500030517578,
                    160.33999633789062,
                    160.77000427246094,
                    158.49000549316406,
                    161.0500030517578,
                    162.47000122070312,
                    165,
                    166.2899932861328,
                    166.83999633789062,
                    165.0500030517578,
                    164.9600067138672,
                    162.02999877929688,
                    162.36000061035156,
                    162.05999755859375,
                    165.8000030517578,
                    166.32000732421875,
                    165.38999938964844,
                    167.41000366210938,
                    168.16000366210938,
                    167.8699951171875,
                    166.4499969482422,
                    165.60000610351562,
                    166.30999755859375,
                    165.27999877929688,
                    168.55999755859375,
                    169.85000610351562,
                    170.4499969482422,
                    170.35000610351562,
                    170.9199981689453,
                    167.0399932861328,
                    174.3000030517578,
                    173.85000610351562,
                    173.5399932861328,
                    174.02999877929688,
                    174.58999633789062,
                    174.05999755859375,
                    173.2100067138672,
                    173.13999938964844,
                    172.92999267578125,
                    175.24000549316406,
                    176.38999938964844,
                    174.7100067138672,
                    173.3800048828125,
                    172.4199981689453,
                    173.89999389648438,
                    175.77000427246094,
                    178.99000549316406,
                    179.35000610351562,
                    180.1199951171875,
                    181.77999877929688,
                    184.9499969482422,
                    180.1199951171875,
                    181.2100067138672,
                    180.83999633789062,
                    182.22999572753906,
                    183.88999938964844,
                    184.14999389648438,
                    184.38999938964844,
                    186.52000427246094,
                    186.99000549316406,
                    186.10000610351562,
                    185.41000366210938,
                    187.0500030517578,
                    187.55999755859375,
                    188.0500030517578,
                    188.38999938964844,
                    189.89999389648438,
                    190.07000732421875,
                    194.47999572753906,
                    193.8800048828125,
                    192.97999572753906,
                    192.02000427246094,
                    192.6699981689453,
                    189.99000549316406,
                    189.3000030517578,
                    191.6999969482422,
                    191.19000244140625,
                    191.17999267578125,
                    194.32000732421875,
                    194.3300018310547,
                    198.22999572753906,
                    196.47000122070312,
                    194.97000122070312,
                    194.91000366210938,
                    194.44000244140625,
                    195.63999938964844,
                    197.1999969482422,
                    196.6300048828125,
                    196.49000549316406,
                    196.72999572753906,
                    195.17999267578125,
                    192.3699951171875,
                    187.3800048828125,
                    183.1300048828125,
                    180.27000427246094,
                    180.92999267578125,
                    180.75,
                    178.6199951171875,
                    179.69000244140625,
                    179.47999572753906,
                    178.5399932861328,
                    177.50999450683594,
                    175.10000610351562,
                    176.1300048828125,
                    177.67999267578125,
                    181.5500030517578,
                    181.10000610351562,
                    179.14999389648438,
                    180.58999633789062,
                    184.89999389648438,
                    187.85000610351562,
                    189.1199951171875
                  ],
                  "low": [
                    150.9199981689453,
                    150.86000061035156,
                    152.8800048828125,
                    153.35000610351562,
                    150.85000610351562,
                    148.41000366210938,
                    147.16000366210938,
                    147.24000549316406,
                    145.72000122070312,
                    147.4499969482422,
                    146.8300018310547,
                    145.00999450683594,
                    143.89999389648438,
                    147.3300018310547,
                    153.4600067138672,
                    151.1300048828125,
                    151.8300018310547,
                    150.22999572753906,
                    147.61000061035156,
                    147.6999969482422,
                    150.10000610351562,
                    149.9199981689453,
                    151.63999938964844,
                    154.27999877929688,
                    154.14999389648438,
                    156.5399932861328,
                    157.80999755859375,
                    157.67999267578125,
                    157.85000610351562,
                    157.8699951171875,
                    155.97999572753906,
                    159.35000610351562,
                    161.27000427246094,
                    161.91000366210938,
                    164.22000122070312,
                    165.11000061035156,
                    161.8000030517578,
                    162,
                    160.0800018310547,
                    160.50999450683594,
                    159.77999877929688,
                    161.4199981689453,
                    163.82000732421875,
                    164.02999877929688,
                    165.64999389648438,
                    165.5399932861328,
                    165.55999755859375,
                    164.49000549316406,
                    163.88999938964844,
                    163.72999572753906,
                    162.8000030517578,
                    165.19000244140625,
                    167.8800048828125,
                    168.63999938964844,
                    167.5399932861328,
                    167.16000366210938,
                    164.30999755859375,
                    170.75999450683594,
                    172.11000061035156,
                    171.60000610351562,
                    171.89999389648438,
                    172.1699981689453,
                    171,
                    171.47000122070312,
                    171.8000030517578,
                    170.4199981689453,
                    172.5800018310547,
                    174.94000244140625,
                    173.4499969482422,
                    171.27999877929688,
                    170.52000427246094,
                    171.69000244140625,
                    173.11000061035156,
                    176.57000732421875,
                    176.75999450683594,
                    176.92999267578125,
                    179.25999450683594,
                    178.0399932861328,
                    177.42999267578125,
                    177.32000732421875,
                    177.4600067138672,
                    180.6300048828125,
                    180.97000122070312,
                    182.44000244140625,
                    182.02000427246094,
                    183.77999877929688,
                    184.27000427246094,
                    184.41000366210938,
                    182.58999633789062,
                    183.6699981689453,
                    185.00999450683594,
                    185.22999572753906,
                    185.6699981689453,
                    187.60000610351562,
                    188.94000244140625,
                    191.25999450683594,
                    191.75999450683594,
                    190.6199951171875,
                    189.1999969482422,
                    190.24000549316406,
                    187.0399932861328,
                    186.60000610351562,
                    188.47000122070312,
                    189.77999877929688,
                    189.6300048828125,
                    191.80999755859375,
                    192.4199981689453,
                    192.64999389648438,
                    192.5,
                    191.22999572753906,
                    192.25,
                    192.9199981689453,
                    193.32000732421875,
                    192.5500030517578,
                    194.13999938964844,
                    195.25999450683594,
                    195.27999877929688,
                    191.85000610351562,
                    190.69000244140625,
                    181.9199981689453,
                    177.35000610351562,
                    177.5800018310547,
                    177.00999450683594,
                    177.60000610351562,
                    176.5500030517578,
                    177.30999755859375,
                    177.0500030517578,
                    176.5,
                    173.47999572753906,
                    171.9600067138672,
                    173.74000549316406,
                    176.25,
                    178.3300018310547,
                    176.00999450683594,
                    175.82000732421875,
                    178.5500030517578,
                    179.5,
                    184.74000549316406,
                    187.47999572753906
                  ],
                  "open": [
                    150.9499969482422,
                    152.1199951171875,
                    153.11000061035156,
                    153.50999450683594,
                    152.35000610351562,
                    150.1999969482422,
                    148.8699951171875,
                    150.08999633789062,
                    147.11000061035156,
                    147.7100067138672,
                    147.0500030517578,
                    146.8300018310547,
                    144.3800048828125,
                    148.0399932861328,
                    153.7899932861328,
                    153.6999969482422,
                    152.80999755859375,
                    153.55999755859375,
                    150.2100067138672,
                    147.80999755859375,
                    151.27999877929688,
                    151.19000244140625,
                    152.16000366210938,
                    156.0800018310547,
                    155.07000732421875,
                    157.32000732421875,
                    159.3000030517578,
                    158.8300018310547,
                    158.86000061035156,
                    159.94000244140625,
                    157.97000122070312,
                    159.3699951171875,
                    161.52999877929688,
                    162.44000244140625,
                    164.27000427246094,
                    166.60000610351562,
                    164.74000549316406,
                    162.42999267578125,
                    161.4199981689453,
                    162.35000610351562,
                    161.22000122070312,
                    161.6300048828125,
                    164.58999633789062,
                    165.08999633789062,
                    166.10000610351562,
                    165.8000030517578,
                    166.08999633789062,
                    165.0500030517578,
                    165,
                    165.19000244140625,
                    163.05999755859375,
                    165.19000244140625,
                    168.49000549316406,
                    169.27999877929688,
                    170.08999633789062,
                    169.5,
                    164.88999938964844,
                    170.97999572753906,
                    172.47999572753906,
                    173.0500030517578,
                    173.02000427246094,
                    173.85000610351562,
                    173.6199951171875,
                    173.16000366210938,
                    171.99000549316406,
                    171.7100067138672,
                    173,
                    176.38999938964844,
                    173.97999572753906,
                    173.1300048828125,
                    171.08999633789062,
                    172.41000366210938,
                    173.32000732421875,
                    176.9600067138672,
                    177.3300018310547,
                    177.6999969482422,
                    181.02999877929688,
                    182.6300048828125,
                    179.97000122070312,
                    178.44000244140625,
                    177.89999389648438,
                    181.5,
                    181.27000427246094,
                    182.8000030517578,
                    183.3699951171875,
                    183.9600067138672,
                    186.72999572753906,
                    184.41000366210938,
                    184.89999389648438,
                    183.74000549316406,
                    185.5500030517578,
                    186.8300018310547,
                    185.88999938964844,
                    187.92999267578125,
                    189.0800018310547,
                    191.6300048828125,
                    193.77999877929688,
                    191.57000732421875,
                    189.83999633789062,
                    191.41000366210938,
                    189.25999450683594,
                    189.16000366210938,
                    189.67999267578125,
                    190.5,
                    190.22999572753906,
                    191.89999389648438,
                    193.35000610351562,
                    193.10000610351562,
                    195.08999633789062,
                    194.10000610351562,
                    193.41000366210938,
                    193.3300018310547,
                    193.6699981689453,
                    196.02000427246094,
                    194.6699981689453,
                    196.05999755859375,
                    196.24000549316406,
                    195.0399932861328,
                    191.57000732421875,
                    185.52000427246094,
                    182.1300048828125,
                    179.69000244140625,
                    180.8699951171875,
                    179.47999572753906,
                    177.32000732421875,
                    177.97000122070312,
                    178.8800048828125,
                    177.1300048828125,
                    177.13999938964844,
                    172.3000030517578,
                    175.07000732421875,
                    177.05999755859375,
                    178.52000427246094,
                    180.6699981689453,
                    177.3800048828125,
                    180.08999633789062,
                    179.6999969482422,
                    184.94000244140625,
                    187.83999633789062
                  ],
                  "type": "candlestick",
                  "x": [
                    "2023-02-13T00:00:00",
                    "2023-02-14T00:00:00",
                    "2023-02-15T00:00:00",
                    "2023-02-16T00:00:00",
                    "2023-02-17T00:00:00",
                    "2023-02-21T00:00:00",
                    "2023-02-22T00:00:00",
                    "2023-02-23T00:00:00",
                    "2023-02-24T00:00:00",
                    "2023-02-27T00:00:00",
                    "2023-02-28T00:00:00",
                    "2023-03-01T00:00:00",
                    "2023-03-02T00:00:00",
                    "2023-03-03T00:00:00",
                    "2023-03-06T00:00:00",
                    "2023-03-07T00:00:00",
                    "2023-03-08T00:00:00",
                    "2023-03-09T00:00:00",
                    "2023-03-10T00:00:00",
                    "2023-03-13T00:00:00",
                    "2023-03-14T00:00:00",
                    "2023-03-15T00:00:00",
                    "2023-03-16T00:00:00",
                    "2023-03-17T00:00:00",
                    "2023-03-20T00:00:00",
                    "2023-03-21T00:00:00",
                    "2023-03-22T00:00:00",
                    "2023-03-23T00:00:00",
                    "2023-03-24T00:00:00",
                    "2023-03-27T00:00:00",
                    "2023-03-28T00:00:00",
                    "2023-03-29T00:00:00",
                    "2023-03-30T00:00:00",
                    "2023-03-31T00:00:00",
                    "2023-04-03T00:00:00",
                    "2023-04-04T00:00:00",
                    "2023-04-05T00:00:00",
                    "2023-04-06T00:00:00",
                    "2023-04-10T00:00:00",
                    "2023-04-11T00:00:00",
                    "2023-04-12T00:00:00",
                    "2023-04-13T00:00:00",
                    "2023-04-14T00:00:00",
                    "2023-04-17T00:00:00",
                    "2023-04-18T00:00:00",
                    "2023-04-19T00:00:00",
                    "2023-04-20T00:00:00",
                    "2023-04-21T00:00:00",
                    "2023-04-24T00:00:00",
                    "2023-04-25T00:00:00",
                    "2023-04-26T00:00:00",
                    "2023-04-27T00:00:00",
                    "2023-04-28T00:00:00",
                    "2023-05-01T00:00:00",
                    "2023-05-02T00:00:00",
                    "2023-05-03T00:00:00",
                    "2023-05-04T00:00:00",
                    "2023-05-05T00:00:00",
                    "2023-05-08T00:00:00",
                    "2023-05-09T00:00:00",
                    "2023-05-10T00:00:00",
                    "2023-05-11T00:00:00",
                    "2023-05-12T00:00:00",
                    "2023-05-15T00:00:00",
                    "2023-05-16T00:00:00",
                    "2023-05-17T00:00:00",
                    "2023-05-18T00:00:00",
                    "2023-05-19T00:00:00",
                    "2023-05-22T00:00:00",
                    "2023-05-23T00:00:00",
                    "2023-05-24T00:00:00",
                    "2023-05-25T00:00:00",
                    "2023-05-26T00:00:00",
                    "2023-05-30T00:00:00",
                    "2023-05-31T00:00:00",
                    "2023-06-01T00:00:00",
                    "2023-06-02T00:00:00",
                    "2023-06-05T00:00:00",
                    "2023-06-06T00:00:00",
                    "2023-06-07T00:00:00",
                    "2023-06-08T00:00:00",
                    "2023-06-09T00:00:00",
                    "2023-06-12T00:00:00",
                    "2023-06-13T00:00:00",
                    "2023-06-14T00:00:00",
                    "2023-06-15T00:00:00",
                    "2023-06-16T00:00:00",
                    "2023-06-20T00:00:00",
                    "2023-06-21T00:00:00",
                    "2023-06-22T00:00:00",
                    "2023-06-23T00:00:00",
                    "2023-06-26T00:00:00",
                    "2023-06-27T00:00:00",
                    "2023-06-28T00:00:00",
                    "2023-06-29T00:00:00",
                    "2023-06-30T00:00:00",
                    "2023-07-03T00:00:00",
                    "2023-07-05T00:00:00",
                    "2023-07-06T00:00:00",
                    "2023-07-07T00:00:00",
                    "2023-07-10T00:00:00",
                    "2023-07-11T00:00:00",
                    "2023-07-12T00:00:00",
                    "2023-07-13T00:00:00",
                    "2023-07-14T00:00:00",
                    "2023-07-17T00:00:00",
                    "2023-07-18T00:00:00",
                    "2023-07-19T00:00:00",
                    "2023-07-20T00:00:00",
                    "2023-07-21T00:00:00",
                    "2023-07-24T00:00:00",
                    "2023-07-25T00:00:00",
                    "2023-07-26T00:00:00",
                    "2023-07-27T00:00:00",
                    "2023-07-28T00:00:00",
                    "2023-07-31T00:00:00",
                    "2023-08-01T00:00:00",
                    "2023-08-02T00:00:00",
                    "2023-08-03T00:00:00",
                    "2023-08-04T00:00:00",
                    "2023-08-07T00:00:00",
                    "2023-08-08T00:00:00",
                    "2023-08-09T00:00:00",
                    "2023-08-10T00:00:00",
                    "2023-08-11T00:00:00",
                    "2023-08-14T00:00:00",
                    "2023-08-15T00:00:00",
                    "2023-08-16T00:00:00",
                    "2023-08-17T00:00:00",
                    "2023-08-18T00:00:00",
                    "2023-08-21T00:00:00",
                    "2023-08-22T00:00:00",
                    "2023-08-23T00:00:00",
                    "2023-08-24T00:00:00",
                    "2023-08-25T00:00:00",
                    "2023-08-28T00:00:00",
                    "2023-08-29T00:00:00",
                    "2023-08-30T00:00:00",
                    "2023-08-31T00:00:00"
                  ]
                }
              ],
              "layout": {
                "template": {
                  "data": {
                    "bar": [
                      {
                        "error_x": {
                          "color": "#2a3f5f"
                        },
                        "error_y": {
                          "color": "#2a3f5f"
                        },
                        "marker": {
                          "line": {
                            "color": "#E5ECF6",
                            "width": 0.5
                          },
                          "pattern": {
                            "fillmode": "overlay",
                            "size": 10,
                            "solidity": 0.2
                          }
                        },
                        "type": "bar"
                      }
                    ],
                    "barpolar": [
                      {
                        "marker": {
                          "line": {
                            "color": "#E5ECF6",
                            "width": 0.5
                          },
                          "pattern": {
                            "fillmode": "overlay",
                            "size": 10,
                            "solidity": 0.2
                          }
                        },
                        "type": "barpolar"
                      }
                    ],
                    "carpet": [
                      {
                        "aaxis": {
                          "endlinecolor": "#2a3f5f",
                          "gridcolor": "white",
                          "linecolor": "white",
                          "minorgridcolor": "white",
                          "startlinecolor": "#2a3f5f"
                        },
                        "baxis": {
                          "endlinecolor": "#2a3f5f",
                          "gridcolor": "white",
                          "linecolor": "white",
                          "minorgridcolor": "white",
                          "startlinecolor": "#2a3f5f"
                        },
                        "type": "carpet"
                      }
                    ],
                    "choropleth": [
                      {
                        "colorbar": {
                          "outlinewidth": 0,
                          "ticks": ""
                        },
                        "type": "choropleth"
                      }
                    ],
                    "contour": [
                      {
                        "colorbar": {
                          "outlinewidth": 0,
                          "ticks": ""
                        },
                        "colorscale": [
                          [
                            0,
                            "#0d0887"
                          ],
                          [
                            0.1111111111111111,
                            "#46039f"
                          ],
                          [
                            0.2222222222222222,
                            "#7201a8"
                          ],
                          [
                            0.3333333333333333,
                            "#9c179e"
                          ],
                          [
                            0.4444444444444444,
                            "#bd3786"
                          ],
                          [
                            0.5555555555555556,
                            "#d8576b"
                          ],
                          [
                            0.6666666666666666,
                            "#ed7953"
                          ],
                          [
                            0.7777777777777778,
                            "#fb9f3a"
                          ],
                          [
                            0.8888888888888888,
                            "#fdca26"
                          ],
                          [
                            1,
                            "#f0f921"
                          ]
                        ],
                        "type": "contour"
                      }
                    ],
                    "contourcarpet": [
                      {
                        "colorbar": {
                          "outlinewidth": 0,
                          "ticks": ""
                        },
                        "type": "contourcarpet"
                      }
                    ],
                    "heatmap": [
                      {
                        "colorbar": {
                          "outlinewidth": 0,
                          "ticks": ""
                        },
                        "colorscale": [
                          [
                            0,
                            "#0d0887"
                          ],
                          [
                            0.1111111111111111,
                            "#46039f"
                          ],
                          [
                            0.2222222222222222,
                            "#7201a8"
                          ],
                          [
                            0.3333333333333333,
                            "#9c179e"
                          ],
                          [
                            0.4444444444444444,
                            "#bd3786"
                          ],
                          [
                            0.5555555555555556,
                            "#d8576b"
                          ],
                          [
                            0.6666666666666666,
                            "#ed7953"
                          ],
                          [
                            0.7777777777777778,
                            "#fb9f3a"
                          ],
                          [
                            0.8888888888888888,
                            "#fdca26"
                          ],
                          [
                            1,
                            "#f0f921"
                          ]
                        ],
                        "type": "heatmap"
                      }
                    ],
                    "heatmapgl": [
                      {
                        "colorbar": {
                          "outlinewidth": 0,
                          "ticks": ""
                        },
                        "colorscale": [
                          [
                            0,
                            "#0d0887"
                          ],
                          [
                            0.1111111111111111,
                            "#46039f"
                          ],
                          [
                            0.2222222222222222,
                            "#7201a8"
                          ],
                          [
                            0.3333333333333333,
                            "#9c179e"
                          ],
                          [
                            0.4444444444444444,
                            "#bd3786"
                          ],
                          [
                            0.5555555555555556,
                            "#d8576b"
                          ],
                          [
                            0.6666666666666666,
                            "#ed7953"
                          ],
                          [
                            0.7777777777777778,
                            "#fb9f3a"
                          ],
                          [
                            0.8888888888888888,
                            "#fdca26"
                          ],
                          [
                            1,
                            "#f0f921"
                          ]
                        ],
                        "type": "heatmapgl"
                      }
                    ],
                    "histogram": [
                      {
                        "marker": {
                          "pattern": {
                            "fillmode": "overlay",
                            "size": 10,
                            "solidity": 0.2
                          }
                        },
                        "type": "histogram"
                      }
                    ],
                    "histogram2d": [
                      {
                        "colorbar": {
                          "outlinewidth": 0,
                          "ticks": ""
                        },
                        "colorscale": [
                          [
                            0,
                            "#0d0887"
                          ],
                          [
                            0.1111111111111111,
                            "#46039f"
                          ],
                          [
                            0.2222222222222222,
                            "#7201a8"
                          ],
                          [
                            0.3333333333333333,
                            "#9c179e"
                          ],
                          [
                            0.4444444444444444,
                            "#bd3786"
                          ],
                          [
                            0.5555555555555556,
                            "#d8576b"
                          ],
                          [
                            0.6666666666666666,
                            "#ed7953"
                          ],
                          [
                            0.7777777777777778,
                            "#fb9f3a"
                          ],
                          [
                            0.8888888888888888,
                            "#fdca26"
                          ],
                          [
                            1,
                            "#f0f921"
                          ]
                        ],
                        "type": "histogram2d"
                      }
                    ],
                    "histogram2dcontour": [
                      {
                        "colorbar": {
                          "outlinewidth": 0,
                          "ticks": ""
                        },
                        "colorscale": [
                          [
                            0,
                            "#0d0887"
                          ],
                          [
                            0.1111111111111111,
                            "#46039f"
                          ],
                          [
                            0.2222222222222222,
                            "#7201a8"
                          ],
                          [
                            0.3333333333333333,
                            "#9c179e"
                          ],
                          [
                            0.4444444444444444,
                            "#bd3786"
                          ],
                          [
                            0.5555555555555556,
                            "#d8576b"
                          ],
                          [
                            0.6666666666666666,
                            "#ed7953"
                          ],
                          [
                            0.7777777777777778,
                            "#fb9f3a"
                          ],
                          [
                            0.8888888888888888,
                            "#fdca26"
                          ],
                          [
                            1,
                            "#f0f921"
                          ]
                        ],
                        "type": "histogram2dcontour"
                      }
                    ],
                    "mesh3d": [
                      {
                        "colorbar": {
                          "outlinewidth": 0,
                          "ticks": ""
                        },
                        "type": "mesh3d"
                      }
                    ],
                    "parcoords": [
                      {
                        "line": {
                          "colorbar": {
                            "outlinewidth": 0,
                            "ticks": ""
                          }
                        },
                        "type": "parcoords"
                      }
                    ],
                    "pie": [
                      {
                        "automargin": true,
                        "type": "pie"
                      }
                    ],
                    "scatter": [
                      {
                        "fillpattern": {
                          "fillmode": "overlay",
                          "size": 10,
                          "solidity": 0.2
                        },
                        "type": "scatter"
                      }
                    ],
                    "scatter3d": [
                      {
                        "line": {
                          "colorbar": {
                            "outlinewidth": 0,
                            "ticks": ""
                          }
                        },
                        "marker": {
                          "colorbar": {
                            "outlinewidth": 0,
                            "ticks": ""
                          }
                        },
                        "type": "scatter3d"
                      }
                    ],
                    "scattercarpet": [
                      {
                        "marker": {
                          "colorbar": {
                            "outlinewidth": 0,
                            "ticks": ""
                          }
                        },
                        "type": "scattercarpet"
                      }
                    ],
                    "scattergeo": [
                      {
                        "marker": {
                          "colorbar": {
                            "outlinewidth": 0,
                            "ticks": ""
                          }
                        },
                        "type": "scattergeo"
                      }
                    ],
                    "scattergl": [
                      {
                        "marker": {
                          "colorbar": {
                            "outlinewidth": 0,
                            "ticks": ""
                          }
                        },
                        "type": "scattergl"
                      }
                    ],
                    "scattermapbox": [
                      {
                        "marker": {
                          "colorbar": {
                            "outlinewidth": 0,
                            "ticks": ""
                          }
                        },
                        "type": "scattermapbox"
                      }
                    ],
                    "scatterpolar": [
                      {
                        "marker": {
                          "colorbar": {
                            "outlinewidth": 0,
                            "ticks": ""
                          }
                        },
                        "type": "scatterpolar"
                      }
                    ],
                    "scatterpolargl": [
                      {
                        "marker": {
                          "colorbar": {
                            "outlinewidth": 0,
                            "ticks": ""
                          }
                        },
                        "type": "scatterpolargl"
                      }
                    ],
                    "scatterternary": [
                      {
                        "marker": {
                          "colorbar": {
                            "outlinewidth": 0,
                            "ticks": ""
                          }
                        },
                        "type": "scatterternary"
                      }
                    ],
                    "surface": [
                      {
                        "colorbar": {
                          "outlinewidth": 0,
                          "ticks": ""
                        },
                        "colorscale": [
                          [
                            0,
                            "#0d0887"
                          ],
                          [
                            0.1111111111111111,
                            "#46039f"
                          ],
                          [
                            0.2222222222222222,
                            "#7201a8"
                          ],
                          [
                            0.3333333333333333,
                            "#9c179e"
                          ],
                          [
                            0.4444444444444444,
                            "#bd3786"
                          ],
                          [
                            0.5555555555555556,
                            "#d8576b"
                          ],
                          [
                            0.6666666666666666,
                            "#ed7953"
                          ],
                          [
                            0.7777777777777778,
                            "#fb9f3a"
                          ],
                          [
                            0.8888888888888888,
                            "#fdca26"
                          ],
                          [
                            1,
                            "#f0f921"
                          ]
                        ],
                        "type": "surface"
                      }
                    ],
                    "table": [
                      {
                        "cells": {
                          "fill": {
                            "color": "#EBF0F8"
                          },
                          "line": {
                            "color": "white"
                          }
                        },
                        "header": {
                          "fill": {
                            "color": "#C8D4E3"
                          },
                          "line": {
                            "color": "white"
                          }
                        },
                        "type": "table"
                      }
                    ]
                  },
                  "layout": {
                    "annotationdefaults": {
                      "arrowcolor": "#2a3f5f",
                      "arrowhead": 0,
                      "arrowwidth": 1
                    },
                    "autotypenumbers": "strict",
                    "coloraxis": {
                      "colorbar": {
                        "outlinewidth": 0,
                        "ticks": ""
                      }
                    },
                    "colorscale": {
                      "diverging": [
                        [
                          0,
                          "#8e0152"
                        ],
                        [
                          0.1,
                          "#c51b7d"
                        ],
                        [
                          0.2,
                          "#de77ae"
                        ],
                        [
                          0.3,
                          "#f1b6da"
                        ],
                        [
                          0.4,
                          "#fde0ef"
                        ],
                        [
                          0.5,
                          "#f7f7f7"
                        ],
                        [
                          0.6,
                          "#e6f5d0"
                        ],
                        [
                          0.7,
                          "#b8e186"
                        ],
                        [
                          0.8,
                          "#7fbc41"
                        ],
                        [
                          0.9,
                          "#4d9221"
                        ],
                        [
                          1,
                          "#276419"
                        ]
                      ],
                      "sequential": [
                        [
                          0,
                          "#0d0887"
                        ],
                        [
                          0.1111111111111111,
                          "#46039f"
                        ],
                        [
                          0.2222222222222222,
                          "#7201a8"
                        ],
                        [
                          0.3333333333333333,
                          "#9c179e"
                        ],
                        [
                          0.4444444444444444,
                          "#bd3786"
                        ],
                        [
                          0.5555555555555556,
                          "#d8576b"
                        ],
                        [
                          0.6666666666666666,
                          "#ed7953"
                        ],
                        [
                          0.7777777777777778,
                          "#fb9f3a"
                        ],
                        [
                          0.8888888888888888,
                          "#fdca26"
                        ],
                        [
                          1,
                          "#f0f921"
                        ]
                      ],
                      "sequentialminus": [
                        [
                          0,
                          "#0d0887"
                        ],
                        [
                          0.1111111111111111,
                          "#46039f"
                        ],
                        [
                          0.2222222222222222,
                          "#7201a8"
                        ],
                        [
                          0.3333333333333333,
                          "#9c179e"
                        ],
                        [
                          0.4444444444444444,
                          "#bd3786"
                        ],
                        [
                          0.5555555555555556,
                          "#d8576b"
                        ],
                        [
                          0.6666666666666666,
                          "#ed7953"
                        ],
                        [
                          0.7777777777777778,
                          "#fb9f3a"
                        ],
                        [
                          0.8888888888888888,
                          "#fdca26"
                        ],
                        [
                          1,
                          "#f0f921"
                        ]
                      ]
                    },
                    "colorway": [
                      "#636efa",
                      "#EF553B",
                      "#00cc96",
                      "#ab63fa",
                      "#FFA15A",
                      "#19d3f3",
                      "#FF6692",
                      "#B6E880",
                      "#FF97FF",
                      "#FECB52"
                    ],
                    "font": {
                      "color": "#2a3f5f"
                    },
                    "geo": {
                      "bgcolor": "white",
                      "lakecolor": "white",
                      "landcolor": "#E5ECF6",
                      "showlakes": true,
                      "showland": true,
                      "subunitcolor": "white"
                    },
                    "hoverlabel": {
                      "align": "left"
                    },
                    "hovermode": "closest",
                    "mapbox": {
                      "style": "light"
                    },
                    "paper_bgcolor": "white",
                    "plot_bgcolor": "#E5ECF6",
                    "polar": {
                      "angularaxis": {
                        "gridcolor": "white",
                        "linecolor": "white",
                        "ticks": ""
                      },
                      "bgcolor": "#E5ECF6",
                      "radialaxis": {
                        "gridcolor": "white",
                        "linecolor": "white",
                        "ticks": ""
                      }
                    },
                    "scene": {
                      "xaxis": {
                        "backgroundcolor": "#E5ECF6",
                        "gridcolor": "white",
                        "gridwidth": 2,
                        "linecolor": "white",
                        "showbackground": true,
                        "ticks": "",
                        "zerolinecolor": "white"
                      },
                      "yaxis": {
                        "backgroundcolor": "#E5ECF6",
                        "gridcolor": "white",
                        "gridwidth": 2,
                        "linecolor": "white",
                        "showbackground": true,
                        "ticks": "",
                        "zerolinecolor": "white"
                      },
                      "zaxis": {
                        "backgroundcolor": "#E5ECF6",
                        "gridcolor": "white",
                        "gridwidth": 2,
                        "linecolor": "white",
                        "showbackground": true,
                        "ticks": "",
                        "zerolinecolor": "white"
                      }
                    },
                    "shapedefaults": {
                      "line": {
                        "color": "#2a3f5f"
                      }
                    },
                    "ternary": {
                      "aaxis": {
                        "gridcolor": "white",
                        "linecolor": "white",
                        "ticks": ""
                      },
                      "baxis": {
                        "gridcolor": "white",
                        "linecolor": "white",
                        "ticks": ""
                      },
                      "bgcolor": "#E5ECF6",
                      "caxis": {
                        "gridcolor": "white",
                        "linecolor": "white",
                        "ticks": ""
                      }
                    },
                    "title": {
                      "x": 0.05
                    },
                    "xaxis": {
                      "automargin": true,
                      "gridcolor": "white",
                      "linecolor": "white",
                      "ticks": "",
                      "title": {
                        "standoff": 15
                      },
                      "zerolinecolor": "white",
                      "zerolinewidth": 2
                    },
                    "yaxis": {
                      "automargin": true,
                      "gridcolor": "white",
                      "linecolor": "white",
                      "ticks": "",
                      "title": {
                        "standoff": 15
                      },
                      "zerolinecolor": "white",
                      "zerolinewidth": 2
                    }
                  }
                },
                "title": {
                  "text": "Stock Price Chart"
                },
                "xaxis": {
                  "rangeslider": {
                    "visible": false
                  }
                },
                "yaxis": {
                  "title": {
                    "text": "Price(rupees)"
                  }
                }
              }
            }
          },
          "metadata": {},
          "output_type": "display_data"
        }
      ],
      "source": [
        "# Making a Candlestick graph\n",
        "fig = go.Figure(data=[go.Candlestick(x=df['date'],\n",
        "                                     open= df['Open'],\n",
        "                                     high = df['High'],\n",
        "                                     low = df['Low'],\n",
        "                                     close = df['Close'])])\n",
        "# Updating the layout\n",
        "fig.update_layout(\n",
        "    title = 'Stock Price Chart',\n",
        "    yaxis_title = 'Price(rupees)',\n",
        "    xaxis_rangeslider_visible = False\n",
        ")\n",
        "\n",
        "\n",
        "fig.show()"
      ]
    },
    {
      "cell_type": "code",
      "execution_count": 21,
      "metadata": {
        "id": "2TMo4S1VuGN4"
      },
      "outputs": [],
      "source": [
        "# Dropping date and volume to make it less complex\n",
        "df.drop(['date', 'Volume'], axis = 1 , inplace = True)"
      ]
    },
    {
      "cell_type": "code",
      "execution_count": 22,
      "metadata": {
        "id": "PoxNRtPIv7zu"
      },
      "outputs": [],
      "source": [
        "df.reset_index(drop=True, inplace = True)"
      ]
    },
    {
      "cell_type": "code",
      "execution_count": 23,
      "metadata": {
        "colab": {
          "base_uri": "https://localhost:8080/",
          "height": 423
        },
        "id": "0sx6fVAZwCeU",
        "outputId": "0b3186a5-54a5-44fb-eda1-13179def186f"
      },
      "outputs": [
        {
          "data": {
            "text/html": [
              "<div>\n",
              "<style scoped>\n",
              "    .dataframe tbody tr th:only-of-type {\n",
              "        vertical-align: middle;\n",
              "    }\n",
              "\n",
              "    .dataframe tbody tr th {\n",
              "        vertical-align: top;\n",
              "    }\n",
              "\n",
              "    .dataframe thead th {\n",
              "        text-align: right;\n",
              "    }\n",
              "</style>\n",
              "<table border=\"1\" class=\"dataframe\">\n",
              "  <thead>\n",
              "    <tr style=\"text-align: right;\">\n",
              "      <th></th>\n",
              "      <th>Open</th>\n",
              "      <th>High</th>\n",
              "      <th>Low</th>\n",
              "      <th>Close</th>\n",
              "      <th>Adj Close</th>\n",
              "    </tr>\n",
              "  </thead>\n",
              "  <tbody>\n",
              "    <tr>\n",
              "      <th>0</th>\n",
              "      <td>150.949997</td>\n",
              "      <td>154.259995</td>\n",
              "      <td>150.919998</td>\n",
              "      <td>153.850006</td>\n",
              "      <td>153.430313</td>\n",
              "    </tr>\n",
              "    <tr>\n",
              "      <th>1</th>\n",
              "      <td>152.119995</td>\n",
              "      <td>153.770004</td>\n",
              "      <td>150.860001</td>\n",
              "      <td>153.199997</td>\n",
              "      <td>152.782074</td>\n",
              "    </tr>\n",
              "    <tr>\n",
              "      <th>2</th>\n",
              "      <td>153.110001</td>\n",
              "      <td>155.500000</td>\n",
              "      <td>152.880005</td>\n",
              "      <td>155.330002</td>\n",
              "      <td>154.906265</td>\n",
              "    </tr>\n",
              "    <tr>\n",
              "      <th>3</th>\n",
              "      <td>153.509995</td>\n",
              "      <td>156.330002</td>\n",
              "      <td>153.350006</td>\n",
              "      <td>153.710007</td>\n",
              "      <td>153.290680</td>\n",
              "    </tr>\n",
              "    <tr>\n",
              "      <th>4</th>\n",
              "      <td>152.350006</td>\n",
              "      <td>153.000000</td>\n",
              "      <td>150.850006</td>\n",
              "      <td>152.550003</td>\n",
              "      <td>152.133850</td>\n",
              "    </tr>\n",
              "    <tr>\n",
              "      <th>...</th>\n",
              "      <td>...</td>\n",
              "      <td>...</td>\n",
              "      <td>...</td>\n",
              "      <td>...</td>\n",
              "      <td>...</td>\n",
              "    </tr>\n",
              "    <tr>\n",
              "      <th>134</th>\n",
              "      <td>177.380005</td>\n",
              "      <td>179.149994</td>\n",
              "      <td>175.820007</td>\n",
              "      <td>178.610001</td>\n",
              "      <td>178.610001</td>\n",
              "    </tr>\n",
              "    <tr>\n",
              "      <th>135</th>\n",
              "      <td>180.089996</td>\n",
              "      <td>180.589996</td>\n",
              "      <td>178.550003</td>\n",
              "      <td>180.190002</td>\n",
              "      <td>180.190002</td>\n",
              "    </tr>\n",
              "    <tr>\n",
              "      <th>136</th>\n",
              "      <td>179.699997</td>\n",
              "      <td>184.899994</td>\n",
              "      <td>179.500000</td>\n",
              "      <td>184.119995</td>\n",
              "      <td>184.119995</td>\n",
              "    </tr>\n",
              "    <tr>\n",
              "      <th>137</th>\n",
              "      <td>184.940002</td>\n",
              "      <td>187.850006</td>\n",
              "      <td>184.740005</td>\n",
              "      <td>187.649994</td>\n",
              "      <td>187.649994</td>\n",
              "    </tr>\n",
              "    <tr>\n",
              "      <th>138</th>\n",
              "      <td>187.839996</td>\n",
              "      <td>189.119995</td>\n",
              "      <td>187.479996</td>\n",
              "      <td>187.869995</td>\n",
              "      <td>187.869995</td>\n",
              "    </tr>\n",
              "  </tbody>\n",
              "</table>\n",
              "<p>139 rows × 5 columns</p>\n",
              "</div>"
            ],
            "text/plain": [
              "           Open        High         Low       Close   Adj Close\n",
              "0    150.949997  154.259995  150.919998  153.850006  153.430313\n",
              "1    152.119995  153.770004  150.860001  153.199997  152.782074\n",
              "2    153.110001  155.500000  152.880005  155.330002  154.906265\n",
              "3    153.509995  156.330002  153.350006  153.710007  153.290680\n",
              "4    152.350006  153.000000  150.850006  152.550003  152.133850\n",
              "..          ...         ...         ...         ...         ...\n",
              "134  177.380005  179.149994  175.820007  178.610001  178.610001\n",
              "135  180.089996  180.589996  178.550003  180.190002  180.190002\n",
              "136  179.699997  184.899994  179.500000  184.119995  184.119995\n",
              "137  184.940002  187.850006  184.740005  187.649994  187.649994\n",
              "138  187.839996  189.119995  187.479996  187.869995  187.869995\n",
              "\n",
              "[139 rows x 5 columns]"
            ]
          },
          "execution_count": 23,
          "metadata": {},
          "output_type": "execute_result"
        }
      ],
      "source": [
        "df"
      ]
    },
    {
      "cell_type": "code",
      "execution_count": 24,
      "metadata": {
        "colab": {
          "base_uri": "https://localhost:8080/",
          "height": 448
        },
        "id": "914zNMnVwFnC",
        "outputId": "bfaa23df-79f2-4141-d421-0debf7686bd1"
      },
      "outputs": [
        {
          "data": {
            "text/plain": [
              "<Axes: >"
            ]
          },
          "execution_count": 24,
          "metadata": {},
          "output_type": "execute_result"
        },
        {
          "data": {
            "image/png": "[encoded data removed]",
            "text/plain": [
              "<Figure size 640x480 with 1 Axes>"
            ]
          },
          "metadata": {},
          "output_type": "display_data"
        }
      ],
      "source": [
        "df.plot.line(y=\"Close\", use_index = True)"
      ]
    },
    {
      "cell_type": "code",
      "execution_count": 25,
      "metadata": {
        "id": "YqpumDE7wpev"
      },
      "outputs": [],
      "source": [
        "df.reset_index(drop=True, inplace = True)"
      ]
    },
    {
      "cell_type": "code",
      "execution_count": 26,
      "metadata": {
        "colab": {
          "base_uri": "https://localhost:8080/",
          "height": 490
        },
        "id": "OTm7kjyFwyY3",
        "outputId": "50b5fc72-cc76-4a2f-8972-a16d9d7a66a3"
      },
      "outputs": [
        {
          "name": "stdout",
          "output_type": "stream",
          "text": [
            "R-squared (R²) Score: 0.998177821506649\n"
          ]
        },
        {
          "data": {
            "image/png": "[encoded data removed]",
            "text/plain": [
              "<Figure size 640x480 with 1 Axes>"
            ]
          },
          "metadata": {},
          "output_type": "display_data"
        }
      ],
      "source": [
        "from sklearn.ensemble import RandomForestRegressor\n",
        "from sklearn.model_selection import train_test_split\n",
        "from sklearn.metrics import mean_squared_error\n",
        "from sklearn.metrics import r2_score\n",
        "import matplotlib.pyplot as plt\n",
        "\n",
        "# Features\n",
        "X = df[['Open','Close', 'High', 'Low', 'Adj Close']]\n",
        "# Target Values\n",
        "y = df['Close']\n",
        "\n",
        "X_train, X_test , y_train , y_test = train_test_split(X,y,test_size = 0.2, random_state=42)\n",
        "\n",
        "rf = RandomForestRegressor(n_estimators = 100 , random_state = 42)\n",
        "#Training\n",
        "rf.fit(X_train.values, y_train.values)\n",
        "\n",
        "y_pred = rf.predict(X_test.values)\n",
        "\n",
        "# Using R-squared to check accuracy in the model\n",
        "r2 = r2_score(y_test, y_pred)\n",
        "print(\"R-squared (R²) Score:\", r2)\n",
        "\n",
        "# Scatter plot of y_pred and y_test\n",
        "#plt.scatter(y_test, y_pred)\n",
        "#plt.xlabel('Actual Values (y_test)')\n",
        "#plt.ylabel('Predicted Values (y_pred)')\n",
        "#plt.title('Actual vs Predicted Values')\n",
        "#plt.show()\n",
        "\n",
        "plt.scatter(y_test, y_pred, color='blue', label='Predicted')  # Scatter plot for y_pred with blue color\n",
        "plt.scatter(y_test, y_test, color='red', label='Actual')  # Scatter plot for y_test with red color\n",
        "plt.xlabel('Actual Values (y_test)')\n",
        "plt.ylabel('Predicted Values (y_pred)')\n",
        "plt.title('Actual vs Predicted Values')\n",
        "plt.legend()  # Add legend to differentiate the scatter plots\n",
        "plt.show()"
      ]
    },
    {
      "cell_type": "code",
      "execution_count": 27,
      "metadata": {
        "colab": {
          "base_uri": "https://localhost:8080/",
          "height": 206
        },
        "id": "6svz_kJ21ByU",
        "outputId": "31d7cbda-0c3e-4b0f-f58d-40f22646dfd2"
      },
      "outputs": [
        {
          "data": {
            "text/html": [
              "<div>\n",
              "<style scoped>\n",
              "    .dataframe tbody tr th:only-of-type {\n",
              "        vertical-align: middle;\n",
              "    }\n",
              "\n",
              "    .dataframe tbody tr th {\n",
              "        vertical-align: top;\n",
              "    }\n",
              "\n",
              "    .dataframe thead th {\n",
              "        text-align: right;\n",
              "    }\n",
              "</style>\n",
              "<table border=\"1\" class=\"dataframe\">\n",
              "  <thead>\n",
              "    <tr style=\"text-align: right;\">\n",
              "      <th></th>\n",
              "      <th>Open</th>\n",
              "      <th>High</th>\n",
              "      <th>Low</th>\n",
              "      <th>Close</th>\n",
              "      <th>Adj Close</th>\n",
              "    </tr>\n",
              "  </thead>\n",
              "  <tbody>\n",
              "    <tr>\n",
              "      <th>134</th>\n",
              "      <td>177.380005</td>\n",
              "      <td>179.149994</td>\n",
              "      <td>175.820007</td>\n",
              "      <td>178.610001</td>\n",
              "      <td>178.610001</td>\n",
              "    </tr>\n",
              "    <tr>\n",
              "      <th>135</th>\n",
              "      <td>180.089996</td>\n",
              "      <td>180.589996</td>\n",
              "      <td>178.550003</td>\n",
              "      <td>180.190002</td>\n",
              "      <td>180.190002</td>\n",
              "    </tr>\n",
              "    <tr>\n",
              "      <th>136</th>\n",
              "      <td>179.699997</td>\n",
              "      <td>184.899994</td>\n",
              "      <td>179.500000</td>\n",
              "      <td>184.119995</td>\n",
              "      <td>184.119995</td>\n",
              "    </tr>\n",
              "    <tr>\n",
              "      <th>137</th>\n",
              "      <td>184.940002</td>\n",
              "      <td>187.850006</td>\n",
              "      <td>184.740005</td>\n",
              "      <td>187.649994</td>\n",
              "      <td>187.649994</td>\n",
              "    </tr>\n",
              "    <tr>\n",
              "      <th>138</th>\n",
              "      <td>187.839996</td>\n",
              "      <td>189.119995</td>\n",
              "      <td>187.479996</td>\n",
              "      <td>187.869995</td>\n",
              "      <td>187.869995</td>\n",
              "    </tr>\n",
              "  </tbody>\n",
              "</table>\n",
              "</div>"
            ],
            "text/plain": [
              "           Open        High         Low       Close   Adj Close\n",
              "134  177.380005  179.149994  175.820007  178.610001  178.610001\n",
              "135  180.089996  180.589996  178.550003  180.190002  180.190002\n",
              "136  179.699997  184.899994  179.500000  184.119995  184.119995\n",
              "137  184.940002  187.850006  184.740005  187.649994  187.649994\n",
              "138  187.839996  189.119995  187.479996  187.869995  187.869995"
            ]
          },
          "execution_count": 27,
          "metadata": {},
          "output_type": "execute_result"
        }
      ],
      "source": [
        "df.tail()"
      ]
    },
    {
      "cell_type": "code",
      "execution_count": 28,
      "metadata": {
        "colab": {
          "base_uri": "https://localhost:8080/"
        },
        "id": "JemK05njDY_f",
        "outputId": "3c5c23dd-e248-4471-b65c-11c40bedfd9b"
      },
      "outputs": [
        {
          "name": "stdout",
          "output_type": "stream",
          "text": [
            "[['187.83999633789062' '189.1199951171875' '187.47999572753906'\n",
            "  '187.8699951171875' '187.8699951171875']]\n",
            "188.37439819335938\n"
          ]
        }
      ],
      "source": [
        "#Inputting Value of features\n",
        "initial_array = np.array([['x', 'y', 'z', 'a', 'b']])\n",
        "updated_array = np.concatenate((initial_array[:-1], df.tail(1).values))\n",
        "print(updated_array)\n",
        "\n",
        "#Predicting\n",
        "predicted_price = rf.predict(updated_array)\n",
        "\n",
        "print(predicted_price[0])"
      ]
    }
  ],
  "metadata": {
    "colab": {
      "provenance": []
    },
    "kernelspec": {
      "display_name": "Python 3",
      "name": "python3"
    },
    "language_info": {
      "codemirror_mode": {
        "name": "ipython",
        "version": 3
      },
      "file_extension": ".py",
      "mimetype": "text/x-python",
      "name": "python",
      "nbconvert_exporter": "python",
      "pygments_lexer": "ipython3",
      "version": "3.11.4"
    }
  },
  "nbformat": 4,
  "nbformat_minor": 0
}
