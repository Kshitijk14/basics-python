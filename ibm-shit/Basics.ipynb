{
 "cells": [
  {
   "cell_type": "markdown",
   "metadata": {},
   "source": [
    "Hello World"
   ]
  },
  {
   "cell_type": "code",
   "execution_count": 3,
   "metadata": {},
   "outputs": [
    {
     "name": "stdout",
     "output_type": "stream",
     "text": [
      "Hello, World!\n",
      "Hello, \n",
      "World!\n",
      "30\n"
     ]
    }
   ],
   "source": [
    "print(\"Hello, World!\")\n",
    "print(\"Hello, \\nWorld!\")\n",
    "print(12+18)"
   ]
  },
  {
   "cell_type": "markdown",
   "metadata": {},
   "source": [
    "Variables"
   ]
  },
  {
   "cell_type": "code",
   "execution_count": 8,
   "metadata": {},
   "outputs": [
    {
     "name": "stdout",
     "output_type": "stream",
     "text": [
      "Tony    Stark\n",
      "24\n",
      "True\n"
     ]
    }
   ],
   "source": [
    "fName = \"Tony\"\n",
    "lName = \"Stark\"\n",
    "age = 24\n",
    "is_adult = True\n",
    "print(fName + \"    \" + lName)\n",
    "print(age)\n",
    "print(is_adult)"
   ]
  },
  {
   "cell_type": "code",
   "execution_count": 2,
   "metadata": {},
   "outputs": [],
   "source": [
    "# prob 1\n",
    "fName = \"Tony\"\n",
    "lName = \"Stark\"\n",
    "age = 51\n",
    "is_genius = True"
   ]
  },
  {
   "cell_type": "markdown",
   "metadata": {},
   "source": [
    "Inputs"
   ]
  },
  {
   "cell_type": "code",
   "execution_count": 4,
   "metadata": {},
   "outputs": [
    {
     "name": "stdout",
     "output_type": "stream",
     "text": [
      "Your name is: Kshitij\n",
      "Kshitij is secretly Forklman\n"
     ]
    }
   ],
   "source": [
    "name = input(\"What is your name? \")\n",
    "print(\"Your name is: \" + name) #concatenation\n",
    "superhero = input(\"What is your superhero name? \")\n",
    "print(name + \" is secretly \" + superhero)"
   ]
  },
  {
   "cell_type": "markdown",
   "metadata": {},
   "source": [
    "Arithmetic operator"
   ]
  },
  {
   "cell_type": "code",
   "execution_count": 5,
   "metadata": {},
   "outputs": [
    {
     "name": "stdout",
     "output_type": "stream",
     "text": [
      "2.5\n",
      "2\n",
      "1\n",
      "25\n"
     ]
    }
   ],
   "source": [
    "print(5 / 2) # divide\n",
    "print(5 // 2) # divide with neglecting the decimal part\n",
    "print(5 % 2) # remainder\n",
    "print(5 ** 2) # 5 to the power 2"
   ]
  },
  {
   "cell_type": "code",
   "execution_count": null,
   "metadata": {},
   "outputs": [],
   "source": [
    "# shortcuts\n",
    "i = 5\n",
    "i = i + 2\n",
    "i += 2 # 2nd n 3rd line means the same\n",
    "i -= 2\n",
    "i *= 2"
   ]
  },
  {
   "cell_type": "code",
   "execution_count": 7,
   "metadata": {},
   "outputs": [
    {
     "name": "stdout",
     "output_type": "stream",
     "text": [
      "17\n",
      "25\n"
     ]
    }
   ],
   "source": [
    "# operator precedence\n",
    "print(2 + 3 * 5)\n",
    "print((2 + 3) * 5)"
   ]
  },
  {
   "cell_type": "code",
   "execution_count": 6,
   "metadata": {},
   "outputs": [
    {
     "name": "stdout",
     "output_type": "stream",
     "text": [
      "True\n",
      "False\n"
     ]
    }
   ],
   "source": [
    "# comparision operators\n",
    "# <, >, <=, >=, ==, !=\n",
    "\n",
    "\n",
    "# logigal operator\n",
    "# or: if atleast 1 is true it will print tru\n",
    "print(2 > 3 or 2 > 1)\n",
    "# and: if both condi are tru then tru, else false\n",
    "print(2 > 3 and 3 > 1)\n",
    "# not: reverse output, t chnges to f n f changes to t"
   ]
  },
  {
   "cell_type": "markdown",
   "metadata": {},
   "source": [
    "Range"
   ]
  },
  {
   "cell_type": "code",
   "execution_count": 11,
   "metadata": {},
   "outputs": [
    {
     "name": "stdout",
     "output_type": "stream",
     "text": [
      "range(0, 5)\n"
     ]
    }
   ],
   "source": [
    "num = range(5)\n",
    "print(num)"
   ]
  },
  {
   "cell_type": "markdown",
   "metadata": {},
   "source": [
    "Print sunm of 2 numbers"
   ]
  },
  {
   "cell_type": "code",
   "execution_count": 22,
   "metadata": {},
   "outputs": [
    {
     "name": "stdout",
     "output_type": "stream",
     "text": [
      "Sum of 2 numbers is: 11\n"
     ]
    }
   ],
   "source": [
    "first_num = input(\"Enter first number: \")\n",
    "second_num = input(\"Enter second number: \")\n",
    "# as the nums are currently a str so it wont be added\n",
    "sum = int(first_num) + int(second_num)\n",
    "print(\"Sum of 2 numbers is: \" + str(sum))"
   ]
  },
  {
   "cell_type": "markdown",
   "metadata": {},
   "source": [
    "Strings"
   ]
  },
  {
   "cell_type": "code",
   "execution_count": 12,
   "metadata": {},
   "outputs": [
    {
     "name": "stdout",
     "output_type": "stream",
     "text": [
      "TONY STARK\n",
      "tony stark\n",
      "Tony Stark\n",
      "5\n",
      "Tony Iron Man\n",
      "True\n"
     ]
    }
   ],
   "source": [
    "name = \"Tony Stark\"\n",
    "\n",
    "print(name.upper())\n",
    "print(name.lower())\n",
    "print(name)\n",
    "\n",
    "# find operation\n",
    "print(name.find('S')) # it will return the index if it finds it, if not then -1\n",
    "\n",
    "print(name.replace(\"Stark\", \"Iron Man\"))\n",
    "\n",
    "\n",
    "# we dont want index, just need to check if the char or the str exists\n",
    "\n",
    "# keywords\n",
    "print('T' in name)"
   ]
  },
  {
   "cell_type": "markdown",
   "metadata": {},
   "source": [
    "If-else Statements"
   ]
  },
  {
   "cell_type": "code",
   "execution_count": 16,
   "metadata": {},
   "outputs": [
    {
     "name": "stdout",
     "output_type": "stream",
     "text": [
      "You're in school!\n"
     ]
    }
   ],
   "source": [
    "age = input(\"enter age: \")\n",
    "\n",
    "if int(age) >= 18:\n",
    "    print(\"You;re an adult, & you can vote!\")\n",
    "elif int(age) < 18 and int(age) > 4: # elseif\n",
    "    print(\"You're in school!\")\n",
    "else:\n",
    "    print(\"You're a child!\")"
   ]
  },
  {
   "cell_type": "markdown",
   "metadata": {},
   "source": [
    "calculator"
   ]
  },
  {
   "cell_type": "code",
   "execution_count": 23,
   "metadata": {},
   "outputs": [
    {
     "name": "stdout",
     "output_type": "stream",
     "text": [
      "12\n"
     ]
    }
   ],
   "source": [
    "a = input(\"Enter 1st number: \")\n",
    "operator = input(\"Enter the operator (+,-,*,/,%): \")\n",
    "b = input(\"Enter 2nd number: \")\n",
    "\n",
    "a = int(a)\n",
    "b = int(b)\n",
    "\n",
    "if operator == \"+\":\n",
    "    print(a + b)\n",
    "elif operator == \"-\":\n",
    "    print(a - b)\n",
    "elif operator == \"*\":\n",
    "    print(a * b)\n",
    "elif operator == \"/\":\n",
    "    print(a / b)\n",
    "elif operator == \"%\":\n",
    "    print(a % b)\n",
    "else:\n",
    "    print(\"Invalid operator\")"
   ]
  },
  {
   "cell_type": "markdown",
   "metadata": {},
   "source": [
    "Loops"
   ]
  },
  {
   "cell_type": "code",
   "execution_count": 26,
   "metadata": {},
   "outputs": [
    {
     "name": "stdout",
     "output_type": "stream",
     "text": [
      "1\n",
      "2\n",
      "3\n",
      "4\n",
      "5\n"
     ]
    }
   ],
   "source": [
    "for item in range(5):\n",
    "    print(item + 1)"
   ]
  },
  {
   "cell_type": "code",
   "execution_count": 1,
   "metadata": {},
   "outputs": [
    {
     "name": "stdout",
     "output_type": "stream",
     "text": [
      "1\n",
      "2\n",
      "3\n",
      "4\n",
      "5\n"
     ]
    }
   ],
   "source": [
    "i = 1\n",
    "while(i <= 5):\n",
    "   print(i)\n",
    "   i = i + 1"
   ]
  },
  {
   "cell_type": "code",
   "execution_count": 3,
   "metadata": {},
   "outputs": [
    {
     "name": "stdout",
     "output_type": "stream",
     "text": [
      "* \n",
      "* * \n",
      "* * * \n",
      "* * * * \n",
      "* * * * * \n"
     ]
    }
   ],
   "source": [
    "i = 1\n",
    "while(i <= 5):\n",
    "   print(i * \"* \")\n",
    "   i = i + 1"
   ]
  },
  {
   "cell_type": "code",
   "execution_count": 5,
   "metadata": {},
   "outputs": [
    {
     "name": "stdout",
     "output_type": "stream",
     "text": [
      "* * * * * \n",
      "* * * * \n",
      "* * * \n",
      "* * \n",
      "* \n"
     ]
    }
   ],
   "source": [
    "i = 5\n",
    "while(i >= 1):\n",
    "   print(i * \"* \")\n",
    "   i = i - 1"
   ]
  },
  {
   "cell_type": "code",
   "execution_count": 7,
   "metadata": {},
   "outputs": [
    {
     "name": "stdout",
     "output_type": "stream",
     "text": [
      "* * * * * \n",
      "* * * * \n",
      "* * * \n",
      "* * \n",
      "* \n",
      "\n"
     ]
    }
   ],
   "source": [
    "i = input(\"Enter number: \")\n",
    "i = int(i)\n",
    "\n",
    "while i >= 0:\n",
    "    print(i * \"* \")\n",
    "    i = i - 1"
   ]
  },
  {
   "cell_type": "code",
   "execution_count": 6,
   "metadata": {},
   "outputs": [
    {
     "name": "stdout",
     "output_type": "stream",
     "text": [
      "\n",
      "* \n",
      "* * \n",
      "* * * \n",
      "* * * * \n"
     ]
    }
   ],
   "source": [
    "for i in range(5):\n",
    "   print(i * \"* \")\n",
    "   i = i + 1"
   ]
  },
  {
   "cell_type": "markdown",
   "metadata": {},
   "source": [
    "Break & Continue"
   ]
  },
  {
   "cell_type": "code",
   "execution_count": 8,
   "metadata": {},
   "outputs": [
    {
     "name": "stdout",
     "output_type": "stream",
     "text": [
      "ram\n",
      "shyam\n",
      "radha\n",
      "radhika\n"
     ]
    }
   ],
   "source": [
    "students = [\"ram\", \"shyam\", \"kishan\", \"radha\", \"radhika\"]\n",
    "\n",
    "for student in students:\n",
    "   if(student == \"kishan\"):\n",
    "       continue\n",
    "   print(student)"
   ]
  },
  {
   "cell_type": "code",
   "execution_count": 9,
   "metadata": {},
   "outputs": [
    {
     "name": "stdout",
     "output_type": "stream",
     "text": [
      "ram\n",
      "shyam\n",
      "kishan\n"
     ]
    }
   ],
   "source": [
    "students = [\"ram\", \"shyam\", \"kishan\", \"radha\", \"radhika\"]\n",
    "\n",
    "for student in students:\n",
    "   if(student == \"radha\"):\n",
    "       break\n",
    "   print(student)"
   ]
  },
  {
   "cell_type": "markdown",
   "metadata": {},
   "source": [
    "Lists"
   ]
  },
  {
   "cell_type": "code",
   "execution_count": 13,
   "metadata": {},
   "outputs": [
    {
     "name": "stdout",
     "output_type": "stream",
     "text": [
      "amar\n",
      "akbar\n",
      "anthony\n",
      "akbar\n",
      "['aman', 'akbar', 'anthony']\n",
      "['aman', 'akbar']\n",
      "aman\n",
      "akbar\n",
      "anthony\n"
     ]
    }
   ],
   "source": [
    "# similar to array\n",
    "friends = [\"amar\", \"akbar\", \"anthony\"]\n",
    "print(friends[0])\n",
    "print(friends[1])\n",
    "print(friends[-1])\n",
    "print(friends[-2])\n",
    "\n",
    "friends[0] = \"aman\"\n",
    "print(friends)\n",
    "\n",
    "print(friends[0:2]) # returns a new list\n",
    "\n",
    "for friend in friends:\n",
    "   print(friend)"
   ]
  },
  {
   "cell_type": "markdown",
   "metadata": {},
   "source": [
    "List methods"
   ]
  },
  {
   "cell_type": "code",
   "execution_count": 15,
   "metadata": {},
   "outputs": [
    {
     "name": "stdout",
     "output_type": "stream",
     "text": [
      "['english', 95, 'chemistry', 98, 'physics', 97]\n",
      "['math', 99, 'english', 95, 'chemistry', 98, 'physics', 97]\n",
      "True\n",
      "4.0\n",
      "math\n",
      "99\n",
      "english\n",
      "95\n",
      "chemistry\n",
      "98\n",
      "physics\n",
      "97\n"
     ]
    }
   ],
   "source": [
    "marks = [\"english\", 95, \"chemistry\", 98]\n",
    "marks.append(\"physics\")\n",
    "marks.append(97)\n",
    "print(marks)\n",
    "\n",
    "marks.insert(0, \"math\")\n",
    "marks.insert(1, 99)\n",
    "print(marks)\n",
    "\n",
    "print(\"math\" in marks)\n",
    "\n",
    "print(len(marks)/2)\n",
    "\n",
    "# marks.clear()\n",
    "# print(marks)\n",
    "\n",
    "i = 0\n",
    "while i < len(marks):\n",
    "   print(marks[i])\n",
    "   print(marks[i + 1])\n",
    "   i = i + 2"
   ]
  },
  {
   "cell_type": "markdown",
   "metadata": {},
   "source": [
    "Tuples\n",
    "    similar to lists (sequence of objects) but are immutable\n",
    "    once been defined can't be changes"
   ]
  },
  {
   "cell_type": "code",
   "execution_count": 11,
   "metadata": {},
   "outputs": [
    {
     "name": "stdout",
     "output_type": "stream",
     "text": [
      "2\n",
      "2\n"
     ]
    }
   ],
   "source": [
    "marks = (95, 98, 97, 97)\n",
    "# marks[0] = 98 # we can't edit tuple\n",
    "\n",
    "print(marks.count(97))\n",
    "print(marks.index(97))"
   ]
  },
  {
   "cell_type": "markdown",
   "metadata": {},
   "source": [
    "Set\n",
    "    Sets are a collection of all unique elements.\n",
    "    Indexing is not supported in sets thus called unordered"
   ]
  },
  {
   "cell_type": "code",
   "execution_count": 10,
   "metadata": {},
   "outputs": [
    {
     "name": "stdout",
     "output_type": "stream",
     "text": [
      "{97, 98, 95}\n",
      "97\n",
      "98\n",
      "95\n"
     ]
    }
   ],
   "source": [
    "marks = {98, 97, 95, 95}\n",
    "print(marks)\n",
    "\n",
    "for score in marks:\n",
    "   print(score)"
   ]
  },
  {
   "cell_type": "markdown",
   "metadata": {},
   "source": [
    "Dictonary\n",
    "    unordered collection of items, similar to sets\n",
    "    stores a (key, value) pair"
   ]
  },
  {
   "cell_type": "code",
   "execution_count": 12,
   "metadata": {},
   "outputs": [
    {
     "name": "stdout",
     "output_type": "stream",
     "text": [
      "{'math': 99, 'chemistry': 98, 'physics': 97}\n",
      "98\n",
      "{'math': 99, 'chemistry': 98, 'physics': 97, 'english': 95}\n",
      "{'math': 96, 'chemistry': 98, 'physics': 97, 'english': 95}\n"
     ]
    }
   ],
   "source": [
    "marks = {\"math\" : 99, \"chemistry\" : 98, \"physics\" : 97}\n",
    "print(marks)\n",
    "print(marks[\"chemistry\"])\n",
    "\n",
    "marks[\"english\"] = 95\n",
    "print(marks)\n",
    "\n",
    "marks[\"math\"] = 96\n",
    "print(marks)"
   ]
  },
  {
   "cell_type": "markdown",
   "metadata": {},
   "source": [
    "# lists n dictionary are mutable, only"
   ]
  },
  {
   "cell_type": "markdown",
   "metadata": {},
   "source": [
    "Type Conversion"
   ]
  },
  {
   "cell_type": "code",
   "execution_count": 8,
   "metadata": {},
   "outputs": [
    {
     "name": "stdout",
     "output_type": "stream",
     "text": [
      "20\n"
     ]
    }
   ],
   "source": [
    "old_age = input(\"What's your age 5 years ago: \")\n",
    "# type conversion as before this old age was a string\n",
    "new_age = int(old_age) + 5\n",
    "print(new_age)"
   ]
  },
  {
   "cell_type": "code",
   "execution_count": null,
   "metadata": {},
   "outputs": [],
   "source": [
    "# valid values can be converted into \n",
    "int()\n",
    "float()\n",
    "str()\n",
    "bool() #boolean"
   ]
  },
  {
   "cell_type": "code",
   "execution_count": 10,
   "metadata": {},
   "outputs": [
    {
     "name": "stdout",
     "output_type": "stream",
     "text": [
      "<class 'int'>\n",
      "18.0\n"
     ]
    }
   ],
   "source": [
    "num = 18\n",
    "print(type(num))\n",
    "print(float(num))"
   ]
  },
  {
   "cell_type": "markdown",
   "metadata": {},
   "source": [
    "FUNCTIONS"
   ]
  },
  {
   "cell_type": "markdown",
   "metadata": {},
   "source": [
    "Function is a piece of code that performs some task. (In a tv remote, each button performs a functions, so a function is like that button in code)\n",
    "\n",
    "There are 3 types of functions: 1. In-build 2. Module 3. User-defined"
   ]
  },
  {
   "cell_type": "markdown",
   "metadata": {},
   "source": [
    "In-Build Func"
   ]
  },
  {
   "cell_type": "code",
   "execution_count": null,
   "metadata": {},
   "outputs": [],
   "source": [
    "int() str() float() bool() min() range() max()"
   ]
  },
  {
   "cell_type": "markdown",
   "metadata": {},
   "source": [
    "Module Func\n",
    "\n",
    "    Module is a file that contains some functions & variables which can be imported for use in other files.\n",
    "    Each module should contain some related tasks\n",
    "    Ex: math, random, string"
   ]
  },
  {
   "cell_type": "code",
   "execution_count": 13,
   "metadata": {},
   "outputs": [
    {
     "name": "stdout",
     "output_type": "stream",
     "text": [
      "['__doc__', '__loader__', '__name__', '__package__', '__spec__', 'acos', 'acosh', 'asin', 'asinh', 'atan', 'atan2', 'atanh', 'cbrt', 'ceil', 'comb', 'copysign', 'cos', 'cosh', 'degrees', 'dist', 'e', 'erf', 'erfc', 'exp', 'exp2', 'expm1', 'fabs', 'factorial', 'floor', 'fmod', 'frexp', 'fsum', 'gamma', 'gcd', 'hypot', 'inf', 'isclose', 'isfinite', 'isinf', 'isnan', 'isqrt', 'lcm', 'ldexp', 'lgamma', 'log', 'log10', 'log1p', 'log2', 'modf', 'nan', 'nextafter', 'perm', 'pi', 'pow', 'prod', 'radians', 'remainder', 'sin', 'sinh', 'sqrt', 'tan', 'tanh', 'tau', 'trunc', 'ulp']\n"
     ]
    }
   ],
   "source": [
    "import math\n",
    "print(dir(math))"
   ]
  },
  {
   "cell_type": "code",
   "execution_count": 14,
   "metadata": {},
   "outputs": [
    {
     "name": "stdout",
     "output_type": "stream",
     "text": [
      "['BPF', 'LOG4', 'NV_MAGICCONST', 'RECIP_BPF', 'Random', 'SG_MAGICCONST', 'SystemRandom', 'TWOPI', '_ONE', '_Sequence', '_Set', '__all__', '__builtins__', '__cached__', '__doc__', '__file__', '__loader__', '__name__', '__package__', '__spec__', '_accumulate', '_acos', '_bisect', '_ceil', '_cos', '_e', '_exp', '_floor', '_index', '_inst', '_isfinite', '_log', '_os', '_pi', '_random', '_repeat', '_sha512', '_sin', '_sqrt', '_test', '_test_generator', '_urandom', '_warn', 'betavariate', 'choice', 'choices', 'expovariate', 'gammavariate', 'gauss', 'getrandbits', 'getstate', 'lognormvariate', 'normalvariate', 'paretovariate', 'randbytes', 'randint', 'random', 'randrange', 'sample', 'seed', 'setstate', 'shuffle', 'triangular', 'uniform', 'vonmisesvariate', 'weibullvariate']\n"
     ]
    }
   ],
   "source": [
    "import random\n",
    "print(dir(random))"
   ]
  },
  {
   "cell_type": "code",
   "execution_count": 15,
   "metadata": {},
   "outputs": [
    {
     "name": "stdout",
     "output_type": "stream",
     "text": [
      "['Formatter', 'Template', '_ChainMap', '__all__', '__builtins__', '__cached__', '__doc__', '__file__', '__loader__', '__name__', '__package__', '__spec__', '_re', '_sentinel_dict', '_string', 'ascii_letters', 'ascii_lowercase', 'ascii_uppercase', 'capwords', 'digits', 'hexdigits', 'octdigits', 'printable', 'punctuation', 'whitespace']\n"
     ]
    }
   ],
   "source": [
    "import string\n",
    "print(dir(string))"
   ]
  },
  {
   "cell_type": "code",
   "execution_count": 16,
   "metadata": {},
   "outputs": [
    {
     "name": "stdout",
     "output_type": "stream",
     "text": [
      "2.0\n"
     ]
    }
   ],
   "source": [
    "from math import sqrt\n",
    "# from math import * # for importing all func\n",
    "print(sqrt(4))"
   ]
  },
  {
   "cell_type": "markdown",
   "metadata": {},
   "source": [
    "User-Defined Func"
   ]
  },
  {
   "cell_type": "code",
   "execution_count": 17,
   "metadata": {},
   "outputs": [
    {
     "name": "stdout",
     "output_type": "stream",
     "text": [
      "3\n",
      "5\n"
     ]
    }
   ],
   "source": [
    "# def function_name(parameters):\n",
    "\n",
    "def sum(a, b=4):\n",
    "   print(a + b)\n",
    "\n",
    "sum(1, 2)\n",
    "sum(1)"
   ]
  }
 ],
 "metadata": {
  "kernelspec": {
   "display_name": "Python 3",
   "language": "python",
   "name": "python3"
  },
  "language_info": {
   "codemirror_mode": {
    "name": "ipython",
    "version": 3
   },
   "file_extension": ".py",
   "mimetype": "text/x-python",
   "name": "python",
   "nbconvert_exporter": "python",
   "pygments_lexer": "ipython3",
   "version": "3.11.4"
  },
  "orig_nbformat": 4
 },
 "nbformat": 4,
 "nbformat_minor": 2
}
