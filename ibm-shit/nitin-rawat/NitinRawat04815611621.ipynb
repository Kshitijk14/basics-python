{
 "cells": [
  {
   "cell_type": "code",
   "execution_count": 15,
   "id": "c0f74138",
   "metadata": {
    "id": "c0f74138"
   },
   "outputs": [
    {
     "name": "stdout",
     "output_type": "stream",
     "text": [
      "don't worry \n"
     ]
    }
   ],
   "source": [
    "def yowai_mo():\n",
    "    print(\"don't worry \")\n",
    "\n",
    "yowai_mo()"
   ]
  },
  {
   "cell_type": "code",
   "execution_count": 6,
   "id": "8fa45d67",
   "metadata": {
    "id": "8fa45d67"
   },
   "outputs": [
    {
     "name": "stdout",
     "output_type": "stream",
     "text": [
      "Enter your age : 23\n",
      "Eligible for voting\n"
     ]
    }
   ],
   "source": [
    "age = int(input(\"Enter your age : \"))\n",
    "if age < 18 :\n",
    "    print(\"Not eligible for voting\")\n",
    "else :\n",
    "    print(\"Eligible for voting\")"
   ]
  },
  {
   "cell_type": "code",
   "execution_count": 7,
   "id": "4aded056",
   "metadata": {
    "id": "4aded056"
   },
   "outputs": [
    {
     "name": "stdout",
     "output_type": "stream",
     "text": [
      "Enter day : monday\n",
      "It is Monday\n"
     ]
    }
   ],
   "source": [
    "day = input(\"Enter day : \")\n",
    "day = day.lower()\n",
    "\n",
    "if day == \"monday\" :\n",
    "    print(\"It is Monday\")\n",
    "elif day == \"tuesday\" :\n",
    "    print(\"It is Tuesday\")\n",
    "elif day == \"wednesday\" :\n",
    "    print(\"It is Wednesday\")\n",
    "elif day == \"thursday\" :\n",
    "    print(\"It is Thursday\")\n",
    "elif day == \"friday\" :\n",
    "    print(\"It is Friday\")\n",
    "else :\n",
    "    print(\"It is weekend\")"
   ]
  },
  {
   "cell_type": "code",
   "execution_count": 8,
   "id": "a53351bc",
   "metadata": {
    "id": "a53351bc"
   },
   "outputs": [
    {
     "name": "stdout",
     "output_type": "stream",
     "text": [
      "20\n",
      "12\n",
      "A can go\n"
     ]
    }
   ],
   "source": [
    "A = int(input())\n",
    "B = int(input())\n",
    "\n",
    "if A >= 13 and B >= 13:\n",
    "    print(\"Both A and B can go\")\n",
    "elif A >= 13 or B >= 13 :\n",
    "    if A >= 13 :\n",
    "        print(\"A can go\")\n",
    "    elif B >= 13 :\n",
    "        print(\"B can go\")\n",
    "else :\n",
    "    print(\"Both A and B cannot go\")"
   ]
  },
  {
   "cell_type": "code",
   "execution_count": 9,
   "id": "02b3c686",
   "metadata": {
    "id": "02b3c686"
   },
   "outputs": [
    {
     "name": "stdout",
     "output_type": "stream",
     "text": [
      "0 -3\n",
      "1 -2\n",
      "2 -1\n",
      "3 0\n",
      "4 1\n",
      "5 2\n"
     ]
    }
   ],
   "source": [
    "for idx, i in enumerate(range(-3,3)) :\n",
    "    print(idx, i)"
   ]
  },
  {
   "cell_type": "code",
   "execution_count": 16,
   "id": "8366c78c",
   "metadata": {
    "id": "8366c78c"
   },
   "outputs": [
    {
     "name": "stdout",
     "output_type": "stream",
     "text": [
      "[1, 2, 3]\n",
      "Command okay\n",
      "\n",
      "\n",
      "list assignment index out of range\n",
      "[1, 3, 3]\n"
     ]
    }
   ],
   "source": [
    "a = [1, 2, 3]\n",
    "print(a)\n",
    "\n",
    "try :\n",
    "    a[1] = 3\n",
    "    print(\"Command okay\")\n",
    "except Exception as error :\n",
    "    print(error)\n",
    "\n",
    "print(\"\\n\")\n",
    "\n",
    "try :\n",
    "    a[6] = 3\n",
    "    print(\"Command okay\")\n",
    "except Exception as error :\n",
    "    print(error)\n",
    "\n",
    "print(a)"
   ]
  },
  {
   "cell_type": "code",
   "execution_count": 11,
   "id": "cf6fc2a2",
   "metadata": {
    "id": "cf6fc2a2"
   },
   "outputs": [
    {
     "name": "stdout",
     "output_type": "stream",
     "text": [
      "* \n",
      "* * \n",
      "* * * \n",
      "* * * * \n",
      "* * * * * \n"
     ]
    }
   ],
   "source": [
    "for i in range(5, 0, -1) :\n",
    "    for j in range(i, 6) :\n",
    "        print(end = \"* \")\n",
    "    print()"
   ]
  },
  {
   "cell_type": "markdown",
   "id": "ae96afc1",
   "metadata": {},
   "source": [
    "# Sliced elements just like in list => l[::]"
   ]
  },
  {
   "cell_type": "code",
   "execution_count": 13,
   "id": "00d88334",
   "metadata": {
    "id": "00d88334"
   },
   "outputs": [
    {
     "name": "stdout",
     "output_type": "stream",
     "text": [
      "tnR\n"
     ]
    }
   ],
   "source": [
    "s = \"Nitin Rawat\"\n",
    "x = slice(2, 7, 2)\n",
    "print(s[x]) "
   ]
  },
  {
   "cell_type": "code",
   "execution_count": 17,
   "id": "a18f0c6d",
   "metadata": {
    "id": "a18f0c6d"
   },
   "outputs": [
    {
     "name": "stdout",
     "output_type": "stream",
     "text": [
      "Enter num1 : 21\n",
      "Enter num2 : 23\n",
      "Addition (num1 + num2) :  44\n",
      "Subtraction (num1 - num2) :  -2\n"
     ]
    }
   ],
   "source": [
    "def add_sub() :\n",
    "    a = eval(input(\"Enter num1 : \"))\n",
    "    b = eval(input(\"Enter num2 : \"))\n",
    "\n",
    "    add = a + b\n",
    "    sub = a - b\n",
    "\n",
    "    print(\"Addition (num1 + num2) : \", add)\n",
    "    print(\"Subtraction (num1 - num2) : \", sub)\n",
    "\n",
    "add_sub()"
   ]
  },
  {
   "cell_type": "code",
   "execution_count": 18,
   "id": "8119934f",
   "metadata": {
    "id": "8119934f",
    "scrolled": true
   },
   "outputs": [
    {
     "name": "stdout",
     "output_type": "stream",
     "text": [
      "Enter you age : 21\n",
      "Help on function eligibility in module __main__:\n",
      "\n",
      "eligibility(z)\n",
      "\n"
     ]
    }
   ],
   "source": [
    "def eligibility(z) :\n",
    "    v = \"voting\"\n",
    "    a = f\"You are eligible for {v}\"\n",
    "    b = f\"You are not eligible for {v}\"\n",
    "    if (z >= 18) :\n",
    "        return a\n",
    "    else :\n",
    "        return b\n",
    "\n",
    "y = eval(input(\"Enter you age : \"))\n",
    "\n",
    "# eligibility(y)\n",
    "\n",
    "help(eligibility)"
   ]
  },
  {
   "cell_type": "code",
   "execution_count": 21,
   "id": "884223a9",
   "metadata": {
    "id": "884223a9"
   },
   "outputs": [
    {
     "name": "stdout",
     "output_type": "stream",
     "text": [
      "Animals have 4 legs\n"
     ]
    }
   ],
   "source": [
    "class animals() :\n",
    "    def legs(self) :\n",
    "        print(\"Animals have 4 legs\")\n",
    "    def tail(self) :\n",
    "        print(\"Animals have tail\")\n",
    "\n",
    "class dog(animals) :\n",
    "    def faith(self) :\n",
    "        print(\"Dogs are faithful\")\n",
    "    def bark() :\n",
    "        print(\"Dogs can bark\")\n",
    "\n",
    "class cat(animals) :\n",
    "    def whisker(self) :\n",
    "        print(\"Cats have whiskers\")\n",
    "    def meow(self) :\n",
    "        print(\"Cats meows\")\n",
    "\n",
    "a = animals()\n",
    "b = dog()\n",
    "c = cat()\n",
    "b.legs()"
   ]
  },
  {
   "cell_type": "code",
   "execution_count": 23,
   "id": "61c17f1f",
   "metadata": {
    "id": "61c17f1f"
   },
   "outputs": [
    {
     "data": {
      "text/plain": [
       "5"
      ]
     },
     "execution_count": 23,
     "metadata": {},
     "output_type": "execute_result"
    }
   ],
   "source": [
    "class varc() :\n",
    "    def take(self, x, y):\n",
    "        self.x = x\n",
    "        self.y = y\n",
    "class summ(varc) :\n",
    "    def s(self) :\n",
    "        return (self.x + self.y)\n",
    "class subb(varc) :\n",
    "    def q(self) :\n",
    "        return (self.x - self.y)\n",
    "\n",
    "# abf = varc(2,3)\n",
    "d = summ()\n",
    "e = subb()\n",
    "d.take(2,3)\n",
    "d.s()"
   ]
  },
  {
   "cell_type": "code",
   "execution_count": 24,
   "id": "9349287a",
   "metadata": {
    "id": "9349287a"
   },
   "outputs": [
    {
     "name": "stdout",
     "output_type": "stream",
     "text": [
      "Enter the number of rows to be printed : 21\n",
      "\n",
      "1\n",
      "12\n",
      "123\n",
      "1234\n",
      "12345\n",
      "123456\n",
      "1234567\n",
      "12345678\n",
      "123456789\n",
      "12345678910\n",
      "1234567891011\n",
      "123456789101112\n",
      "12345678910111213\n",
      "1234567891011121314\n",
      "123456789101112131415\n",
      "12345678910111213141516\n",
      "1234567891011121314151617\n",
      "123456789101112131415161718\n",
      "12345678910111213141516171819\n",
      "1234567891011121314151617181920\n"
     ]
    }
   ],
   "source": [
    "n = eval(input(\"Enter the number of rows to be printed : \"))\n",
    "for i in range (1, n+1) :\n",
    "    for j in range (1, i) :\n",
    "        print(j, end = \"\")\n",
    "    print()"
   ]
  },
  {
   "cell_type": "code",
   "execution_count": 26,
   "id": "ab210e85",
   "metadata": {
    "id": "ab210e85"
   },
   "outputs": [
    {
     "name": "stdout",
     "output_type": "stream",
     "text": [
      "1\n",
      "2\n",
      "3\n",
      "4\n",
      "6\n",
      "7\n",
      "9\n"
     ]
    }
   ],
   "source": [
    "for i in range (1, 10) :\n",
    "    if i == 5 or i == 8 :\n",
    "        continue\n",
    "    else :\n",
    "        print(i)"
   ]
  },
  {
   "cell_type": "code",
   "execution_count": 27,
   "id": "8655508d",
   "metadata": {
    "id": "8655508d"
   },
   "outputs": [
    {
     "name": "stdout",
     "output_type": "stream",
     "text": [
      "Enter the year to know whether it is leap year or not : 2002\n",
      "It is not a leap year.\n"
     ]
    }
   ],
   "source": [
    "year = eval(input(\"Enter the year to know whether it is leap year or not : \"))\n",
    "y = str(year)\n",
    "if y[-1] == '0' and y[-2] == '0' :\n",
    "    if year % 400 == 0 :\n",
    "        print(\"It is a leap year\")\n",
    "    else :\n",
    "        print(\"It is not a leap year\")\n",
    "elif ((year % 100 != 0) and (year % 4 == 0)) :\n",
    "    print(\"It is a leap year.\")\n",
    "else :\n",
    "    print(\"It is not a leap year.\")"
   ]
  },
  {
   "cell_type": "markdown",
   "id": "65934d78",
   "metadata": {},
   "source": [
    "# Identifying Triangle "
   ]
  },
  {
   "cell_type": "code",
   "execution_count": 28,
   "id": "8e356257",
   "metadata": {
    "id": "8e356257"
   },
   "outputs": [
    {
     "name": "stdout",
     "output_type": "stream",
     "text": [
      "Enter the type of triangle you want to check for(Equilateral/Scalene/Isoceles/Right-angled) : equilateral\n",
      "Enter first side : 21\n",
      "Enter second side : 23\n",
      "Enter third side : 12\n",
      "No, It is not an equilateral triangle.\n"
     ]
    }
   ],
   "source": [
    "class triangle() :\n",
    "    def take(self, x, y, z) :\n",
    "        self.x = x\n",
    "        self.y = y\n",
    "        self.z = z\n",
    "\n",
    "class equilateraltri(triangle) :\n",
    "    def equi(self) :\n",
    "        if ((self.x == self.y) and (self.y == self.z) and (self.x == self.z)) :\n",
    "            print(\"Yes, It is an equilateral triangle.\\n\")\n",
    "        else :\n",
    "            print(\"No, It is not an equilateral triangle.\")\n",
    "\n",
    "class scalenetri(triangle) :\n",
    "    def scal(self) :\n",
    "        if ((self.x != self.y) and (self.y != self.z) and (self.x != self.z)) :\n",
    "            print(\"Yes, It is a scalene triangle.\\n\")\n",
    "        else :\n",
    "            print(\"No, It is not a scalene triangle.\")\n",
    "\n",
    "class isocelestri(triangle) :\n",
    "    def isoc(self) :\n",
    "        if (((self.x == self.y) and ((self.x != self.z) or (self.y != self.z))) or ((self.x == self.z) and ((self.x != self.y) or (self.z != self.y))) or ((self.y == self.z) and ((self.y != self.x) or (self.z != self.x)))) :\n",
    "            print(\"Yes, It is an isoceles triangle.\\n\")\n",
    "        else :\n",
    "            print(\"No, It is not an isoceles triangle.\")\n",
    "\n",
    "class rightangtri(triangle) :\n",
    "    def rangtri(self) :\n",
    "        if ((self.x)**2 + (self.y)**2 == (self.z)**2) or ((self.y)**2 + (self.z)**2 == (self.x)**2) or ((self.x)**2 + (self.z)**2 == (self.y)**2) :\n",
    "            print(\"Yes, It is a right-angled triangle.\")\n",
    "        else :\n",
    "            print(\"No, It is not a right-angled triangle.\")\n",
    "\n",
    "a = equilateraltri()\n",
    "b = scalenetri()\n",
    "c = isocelestri()\n",
    "d = rightangtri()\n",
    "\n",
    "op = input(\"Enter the type of triangle you want to check for(Equilateral/Scalene/Isoceles/Right-angled) : \")\n",
    "\n",
    "p = eval(input(\"Enter first side : \"))\n",
    "q = eval(input(\"Enter second side : \"))\n",
    "r = eval(input(\"Enter third side : \"))\n",
    "\n",
    "\n",
    "if op.lower() == 'equilateral' :\n",
    "    a.take(p,q,r)\n",
    "    a.equi()\n",
    "\n",
    "elif op.lower() == 'scalene' :\n",
    "    b.take(p,q,r)\n",
    "    b.scal()\n",
    "\n",
    "elif op.lower() == 'isoceles' :\n",
    "    c.take(p,q,r)\n",
    "    c.isoc()\n",
    "\n",
    "elif op.lower() == 'right-angled' :\n",
    "    d.take(p,q,r)\n",
    "    d.rangtri()"
   ]
  },
  {
   "cell_type": "code",
   "execution_count": 2,
   "id": "f776cee6",
   "metadata": {
    "id": "f776cee6"
   },
   "outputs": [
    {
     "name": "stdout",
     "output_type": "stream",
     "text": [
      "Enter a number:45\n",
      "four five "
     ]
    }
   ],
   "source": [
    "num=input(\"Enter a number:\")\n",
    "l=len(num)\n",
    "for i in range(l):\n",
    "    if num[i]==\"0\":\n",
    "        print(\"zero\",end=' ')\n",
    "    elif num[i]== \"1\":\n",
    "        print(\"one\",end=' ')\n",
    "    elif num[i]==\"2\":\n",
    "        print(\"two\",end=' ')\n",
    "    elif num[i]==\"3\":\n",
    "         print(\"three\",end=' ')\n",
    "    elif num[i]==\"4\":\n",
    "        print(\"four\",end=' ')\n",
    "    elif num[i]==\"5\":\n",
    "        print(\"five\",end=' ')\n",
    "    elif num[i]==\"6\":\n",
    "        print(\"six\",end=' ')\n",
    "    elif num[i]==\"7\":\n",
    "        print(\"seven\",end=' ')\n",
    "    elif num[i]==\"8\":\n",
    "        print(\"eight\",end=' ')\n",
    "    elif num[i]==\"9\":\n",
    "        print(\"nine\",end=' ')\n",
    "        "
   ]
  },
  {
   "cell_type": "markdown",
   "id": "69ad7470",
   "metadata": {},
   "source": [
    "#  Write a Python program to create a class representing a Circle. Include methods to calculate its area and perimeter."
   ]
  },
  {
   "cell_type": "code",
   "execution_count": 3,
   "id": "6fee695e",
   "metadata": {
    "id": "6fee695e"
   },
   "outputs": [
    {
     "name": "stdout",
     "output_type": "stream",
     "text": [
      "Enter the radius : 23\n",
      "Area =  1661.0600000000002\n",
      "Perimeter =  144.44\n"
     ]
    }
   ],
   "source": [
    "class circle() :\n",
    "    def take(self, x) :\n",
    "        self.x = x\n",
    "    def area(self, x) :\n",
    "        area = 3.14 * (self.x ** 2)\n",
    "        print(\"Area = \", area)\n",
    "    def perimeter(self, x) :\n",
    "        perimeter = 2 * 3.14 * self.x\n",
    "        print(\"Perimeter = \", perimeter)\n",
    "\n",
    "r = eval(input(\"Enter the radius : \"))\n",
    "\n",
    "a = circle()\n",
    "a.take(r)\n",
    "a.area(r)\n",
    "a.perimeter(r)\n"
   ]
  },
  {
   "cell_type": "markdown",
   "id": "05f33327",
   "metadata": {},
   "source": [
    "# Write a Python program to create a class representing a shopping cart. Include methods for adding and removing items, and calculating the total price."
   ]
  },
  {
   "cell_type": "code",
   "execution_count": 7,
   "id": "ed450329",
   "metadata": {
    "id": "ed450329"
   },
   "outputs": [
    {
     "name": "stdout",
     "output_type": "stream",
     "text": [
      "Enter item name:apple\n",
      "Enter no. of items:1\n",
      "Do you want to enter more items?(yes/no):yes\n",
      "Enter item name:reyna\n",
      "Enter no. of items:1\n",
      "Do you want to enter more items?(yes/no):yes\n",
      "Enter item name:purple\n",
      "Enter no. of items:2\n",
      "Do you want to enter more items?(yes/no):no\n",
      "{'apple': 1, 'reyna': 1, 'purple': 2}\n",
      "Total number of items: 4\n",
      "Do you want to remove item?(yes/no):no\n",
      "{'apple': 1, 'reyna': 1, 'purple': 2}\n"
     ]
    }
   ],
   "source": [
    "cart={}\n",
    "exit='yes'\n",
    "total_item=0\n",
    "while(exit!='no'):\n",
    "    item=input(\"Enter item name:\")\n",
    "    num=int(input(\"Enter no. of items:\"))\n",
    "    cart[item]=num\n",
    "    total_item=total_item+num\n",
    "    exit=input(\"Do you want to enter more items?(yes/no):\")\n",
    "print(cart)\n",
    "print(\"Total number of items:\",total_item)\n",
    "exit=input(\"Do you want to remove item?(yes/no):\")\n",
    "while(exit!='no'):\n",
    "    item=input(\"Enter item you want to remove:\")\n",
    "    del cart[item]\n",
    "    exit=input(\"Do you want to remove item?(yes/no):\")\n",
    "print(cart)"
   ]
  },
  {
   "cell_type": "markdown",
   "id": "aa068611",
   "metadata": {},
   "source": [
    "# Write a Python program to create a calculator class. Include methods for basic arithmetic operations."
   ]
  },
  {
   "cell_type": "code",
   "execution_count": 9,
   "id": "1b8ffb60",
   "metadata": {},
   "outputs": [
    {
     "name": "stdout",
     "output_type": "stream",
     "text": [
      "Enter 1 number:34\n",
      "Enter the operator:+\n",
      "Enter 2 number:90\n",
      "Enter the operator:*\n",
      "Enter 3 number:100\n",
      "Enter the operator:=\n",
      "answer= 12400\n"
     ]
    }
   ],
   "source": [
    "i=1\n",
    "num=int(input(f\"Enter {i} number:\"))\n",
    "op=input(\"Enter the operator:\")\n",
    "i=i+1\n",
    "num1=int(input(f\"Enter {i} number:\"))\n",
    "total=0\n",
    "if op=='+':\n",
    "    total=num+num1\n",
    "elif op=='-':\n",
    "    total=num-num1\n",
    "elif op=='*':\n",
    "    total=num*num1\n",
    "elif op=='/':\n",
    "        total=num/num1\n",
    "else:\n",
    "    print(\"wrong operator\")\n",
    "while(op!='='):\n",
    "    i=i+1\n",
    "    op=input(\"Enter the operator:\")\n",
    "    if op=='=':\n",
    "        break\n",
    "    num1=int(input(f\"Enter {i} number:\"))\n",
    "    if op=='+':\n",
    "        total=total+num1\n",
    "    elif op=='-':\n",
    "        total=total-num1\n",
    "    elif op=='*':\n",
    "        total=total*num1\n",
    "    elif op=='/':\n",
    "        total=total/num1\n",
    "    else:\n",
    "        print(\"wrong operator\")\n",
    "print(\"answer=\",total)\n"
   ]
  },
  {
   "cell_type": "code",
   "execution_count": 12,
   "id": "0eac01b5",
   "metadata": {
    "id": "0eac01b5"
   },
   "outputs": [
    {
     "name": "stdout",
     "output_type": "stream",
     "text": [
      "0\n",
      "1\n",
      "2\n",
      "3\n",
      "4\n",
      "This is ok :5\n",
      "6\n",
      "7\n",
      "8\n"
     ]
    }
   ],
   "source": [
    "for ok in range(0, 9) :\n",
    "    if ok == 5 :\n",
    "        print(\"This is ok :5\")\n",
    "        continue\n",
    "        print(90)\n",
    "    else :\n",
    "        print(ok)"
   ]
  },
  {
   "cell_type": "code",
   "execution_count": 13,
   "id": "beea06d2",
   "metadata": {
    "id": "beea06d2"
   },
   "outputs": [
    {
     "name": "stdout",
     "output_type": "stream",
     "text": [
      "False\n",
      "True\n"
     ]
    }
   ],
   "source": [
    "s = 0\n",
    "print(bool(s))\n",
    "s = 90\n",
    "print(bool(s))"
   ]
  },
  {
   "cell_type": "code",
   "execution_count": null,
   "id": "9586a27a",
   "metadata": {},
   "outputs": [],
   "source": []
  }
 ],
 "metadata": {
  "colab": {
   "provenance": []
  },
  "kernelspec": {
   "display_name": "Python 3 (ipykernel)",
   "language": "python",
   "name": "python3"
  },
  "language_info": {
   "codemirror_mode": {
    "name": "ipython",
    "version": 3
   },
   "file_extension": ".py",
   "mimetype": "text/x-python",
   "name": "python",
   "nbconvert_exporter": "python",
   "pygments_lexer": "ipython3",
   "version": "3.9.13"
  }
 },
 "nbformat": 4,
 "nbformat_minor": 5
}
