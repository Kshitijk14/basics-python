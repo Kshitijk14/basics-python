{
 "cells": [
  {
   "cell_type": "markdown",
   "metadata": {},
   "source": [
    "## Restaurant information"
   ]
  },
  {
   "cell_type": "markdown",
   "metadata": {},
   "source": [
    "#### Location: \n",
    "\n",
    "* What area you are located in? \n",
    "* What is your complete addresss? \n",
    "* What is the nearest metro station to your restaurant? \n",
    "* What is the nearest bus stand?\n",
    "* What is the closest landmark to the restaurant?"
   ]
  },
  {
   "cell_type": "markdown",
   "metadata": {},
   "source": [
    "\n",
    "#### Operating:\n",
    "\n",
    "* What are your hours?\n",
    "* For how long does the restaurant opens at night?\n",
    "* What are the operating days?\n",
    "* Are you guys close today?\n",
    "* Do you guys close any day in the week?"
   ]
  },
  {
   "cell_type": "markdown",
   "metadata": {},
   "source": [
    "#### menu enquiry:\n",
    "\n",
    "* What are the type of dishes you serve? \n",
    "* What are the types of cuisine served? \n",
    "* Do you guys also serve non-veg?\n",
    "* Are you guys a pure veg restaurant?\n",
    "* Do you serve both veg and non-veg options?\n",
    "* What are the choices in appetizers\n",
    "* What is the Prize range"
   ]
  },
  {
   "cell_type": "markdown",
   "metadata": {},
   "source": [
    "#### reservation:\n",
    "* What is the availability of table for reservation? \n",
    "* Can I make reservation for a group/party? \n",
    "* Can I make reservaions for private events?"
   ]
  },
  {
   "cell_type": "markdown",
   "metadata": {},
   "source": [
    "### parking:\n",
    "\n",
    "* Is there parking availability for my car/bike/cycle?\n",
    "* Will I have a booked parking, if I make a reservation for a table?"
   ]
  },
  {
   "cell_type": "markdown",
   "metadata": {},
   "source": [
    "### seating:\n",
    "\n",
    "* Is there availability of outdoor/terrace seating?\n",
    "* Can I book a table outdoor?"
   ]
  },
  {
   "cell_type": "markdown",
   "metadata": {},
   "source": [
    "#### delivery:\n",
    "\n",
    "* Is their take out option?\n",
    "* Do you guys home deliver?\n",
    "* Is their a take out option along with the dine out?"
   ]
  },
  {
   "cell_type": "markdown",
   "metadata": {},
   "source": [
    "#### alcohol:\n",
    "\n",
    "* Do you guys server alcohol?\n",
    "* How many types of alcohols arew served?"
   ]
  },
  {
   "cell_type": "markdown",
   "metadata": {},
   "source": [
    "#### customizations:\n",
    "\n",
    "* Is their any options for customizations in the dishes, as I'm allergic to some veggies?\n",
    "* Can I make changes in the dishes?"
   ]
  },
  {
   "cell_type": "markdown",
   "metadata": {},
   "source": [
    "#### environment:\n",
    "\n",
    "* Is their live music for the ambionce?\n",
    "* Do you guys take bookings for gigs for artists/bands?\n",
    "* I want to perform at your restaurant, is this possible?\n",
    "* I am a musician/ artist, do you guys book open artists?"
   ]
  },
  {
   "cell_type": "markdown",
   "metadata": {},
   "source": [
    "#### payment: \n",
    "\n",
    "* Do you accept cash?\n",
    "* Do you accept cards for paymets?\n",
    "* Do you accept credit cards?\n",
    "* Do you accept debit cards?\n",
    "* Can I pay through my international card?\n",
    "* Do you take online payments at the time of billing? \n",
    "* Is upi accepted?\n",
    "* Can I pay through my paytm/ phonepay/ googlepay/ amazonpay\n",
    "* Can I pay through bitcoin/ eth?\n"
   ]
  },
  {
   "cell_type": "markdown",
   "metadata": {},
   "source": [
    "#### feedback & complaints:\n",
    "\n",
    "* "
   ]
  },
  {
   "cell_type": "markdown",
   "metadata": {},
   "source": [
    "#### job opennings:\n",
    "\n",
    "* "
   ]
  }
 ],
 "metadata": {
  "language_info": {
   "name": "python"
  },
  "orig_nbformat": 4
 },
 "nbformat": 4,
 "nbformat_minor": 2
}
