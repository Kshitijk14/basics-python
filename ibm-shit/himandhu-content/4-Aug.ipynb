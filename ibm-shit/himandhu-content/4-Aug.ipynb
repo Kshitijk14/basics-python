{
 "cells": [
  {
   "cell_type": "markdown",
   "metadata": {},
   "source": [
    "# python programming"
   ]
  },
  {
   "cell_type": "markdown",
   "metadata": {},
   "source": [
    "[Python](https://fr.wikipedia.org/wiki/Python_(langage)) is a programming language that is widely spread nowadays. It is used in many different domains thanks to its versatility. \n",
    "\n",
    "\n",
    "It is an interpreted language meaning that the code is not compiled but *translated* by a running Python engine."
   ]
  },
  {
   "cell_type": "markdown",
   "metadata": {},
   "source": [
    "## Installation\n",
    "\n",
    "See https://www.python.org/about/gettingstarted/ for how to install Python (but it is probably already installed).\n",
    "\n",
    "\n",
    "In Data Science, it is common to use [Anaconda](https://www.anaconda.com/products/individual-d) to download and install Python and its environment. (see also the [quickstart](https://docs.anaconda.com/anaconda/user-guide/getting-started/).\n"
   ]
  },
  {
   "cell_type": "markdown",
   "metadata": {},
   "source": [
    "### In the python shell \n",
    "\n",
    "\n",
    "The python shell can be launched by typing the command `python` in a terminal (this works on Linux, Mac, and Windows with PowerShell). To exit it, type `exit()`.\n",
    "\n",
    "\n",
    "\n",
    "\n"
   ]
  },
  {
   "cell_type": "markdown",
   "metadata": {},
   "source": [
    "# 1- Numbers and Variables\n",
    "\n",
    "\n",
    "## Variables\n"
   ]
  },
  {
   "cell_type": "code",
   "execution_count": 31,
   "metadata": {
    "collapsed": true
   },
   "outputs": [
    {
     "data": {
      "text/plain": [
       "5"
      ]
     },
     "execution_count": 31,
     "metadata": {},
     "output_type": "execute_result"
    }
   ],
   "source": [
    "2 + 2 + 1 # comment"
   ]
  },
  {
   "cell_type": "code",
   "execution_count": null,
   "metadata": {},
   "outputs": [],
   "source": [
    "a = 4\n",
    "print(a)\n",
    "print(type(a))"
   ]
  },
  {
   "cell_type": "code",
   "execution_count": null,
   "metadata": {},
   "outputs": [],
   "source": [
    "a,x = 4, 9000\n",
    "print(a)\n",
    "print(x)"
   ]
  },
  {
   "cell_type": "markdown",
   "metadata": {},
   "source": [
    "Variables names can contain `a-z`, `A-Z`, `0-9` and some special character as `_` but must always begin by a letter. By convention, variables names are smallcase. \n",
    "\n",
    "\n",
    "## Types\n",
    "\n",
    "Variables are *weakly typed* in python which means that their type is deduced from the context: the initialization or the types of the variables used for its computation. Observe the following example."
   ]
  },
  {
   "cell_type": "code",
   "execution_count": 1,
   "metadata": {},
   "outputs": [
    {
     "name": "stdout",
     "output_type": "stream",
     "text": [
      "Integer\n",
      "5 <class 'int'>\n",
      "\n",
      "Float\n",
      "17.2 <class 'float'>\n",
      "\n",
      "Complex\n",
      "(3.14+2j) <class 'complex'>\n",
      "3.14 <class 'float'>\n",
      "2.0 <class 'float'>\n"
     ]
    }
   ],
   "source": [
    "print(\"Integer\")\n",
    "a = 5\n",
    "print(a,type(a))\n",
    "\n",
    "print(\"\\nFloat\")\n",
    "b = 17.2\n",
    "print(b,type(b))\n",
    "\n",
    "print(\"\\nComplex\")\n",
    "c = 3.14 + 2j\n",
    "print(c,type(c))\n",
    "print(c.real,type(c.real))\n",
    "print(c.imag,type(c.imag))"
   ]
  },
  {
   "cell_type": "markdown",
   "metadata": {},
   "source": [
    "## Operation on numbers\n",
    "\n",
    "The usual operations are \n",
    "* Multiplication and Division with respecively `*` and `/`\n",
    "* Modulo with(for remainder) `%`"
   ]
  },
  {
   "cell_type": "code",
   "execution_count": 2,
   "metadata": {},
   "outputs": [
    {
     "name": "stdout",
     "output_type": "stream",
     "text": [
      "24.0 <class 'float'>\n"
     ]
    }
   ],
   "source": [
    "print(8 * 3., type(8 * 3.))  "
   ]
  },
  {
   "cell_type": "code",
   "execution_count": null,
   "metadata": {},
   "outputs": [],
   "source": [
    "print(5/2, type(5/2))  "
   ]
  },
  {
   "cell_type": "code",
   "execution_count": 3,
   "metadata": {},
   "outputs": [
    {
     "name": "stdout",
     "output_type": "stream",
     "text": [
      "1024 <class 'int'>\n"
     ]
    }
   ],
   "source": [
    "print(2**10, type(2**10))  "
   ]
  },
  {
   "cell_type": "code",
   "execution_count": null,
   "metadata": {},
   "outputs": [],
   "source": [
    "print(8%2, type(8%2))  "
   ]
  },
  {
   "cell_type": "markdown",
   "metadata": {},
   "source": [
    "## Booleans \n",
    "\n",
    "Boolean is the type of a variable `True` or `False` and thus are extremely useful when coding. \n",
    "* They can be obtained by comparisons  `>`, `>=` (greater, greater or égal), `<`, `<=` (smaller, smaller or equal) or membership `==` , `!=` (equality, different).\n",
    "* They can be manipulated by the logical operations `and`, `not`, `or`. "
   ]
  },
  {
   "cell_type": "code",
   "execution_count": null,
   "metadata": {},
   "outputs": [],
   "source": [
    "print('2 > 1\\t', 2 > 1)   \n",
    "print('2 > 2\\t', 2 > 2) \n",
    "print('2 >= 2\\t',2 >= 2) \n",
    "print('2 == 2\\t',2 == 2) \n",
    "print('2 == 2.0',2 == 2.0) \n",
    "print('2 != 1.9',2 != 1.9) "
   ]
  },
  {
   "cell_type": "markdown",
   "metadata": {},
   "source": [
    "## Lists \n",
    "\n",
    "Lists are the base element for sequences of variables in python, they are themselves a variable type. \n",
    "* The syntax to write them is `[ ... , ... ]`\n",
    "* The types of the elements may not be all the same\n",
    "* The indices begin at $0$ (`l[0]` is the first element of `l`)\n",
    "* Lists can be nested (lists of lists of ...)\n",
    "\n",
    "\n",
    "Another type called *tuple* with the syntax `( ... , ... )` exists in Python. It has almost the same structure than list to the notable exceptions that one cannot add or remove elements from a tuple. We will see them briefly later "
   ]
  },
  {
   "cell_type": "code",
   "execution_count": 2,
   "metadata": {},
   "outputs": [
    {
     "name": "stdout",
     "output_type": "stream",
     "text": [
      "[1, 2, 3, [4, 8], True, 2.3] <class 'list'>\n"
     ]
    }
   ],
   "source": [
    "l = [1, 2, 3, [4,8] , True , 2.3]\n",
    "print(l, type(l))"
   ]
  },
  {
   "cell_type": "code",
   "execution_count": null,
   "metadata": {},
   "outputs": [],
   "source": [
    "print(l[0],type(l[0]))\n",
    "print(l[3],type(l[3]))\n",
    "print(l[3][1],type(l[3][1]))"
   ]
  },
  {
   "cell_type": "code",
   "execution_count": null,
   "metadata": {},
   "outputs": [],
   "source": [
    "print(l)\n",
    "print(l[4:]) # l[4:] is l from the position 4 (included)\n",
    "print(l[:5]) # l[:5] is l up to position 5 (excluded)\n",
    "print(l[4:5]) # l[4:5] is l between 4 (included) and 5 (excluded) so just 4\n",
    "print(l[1:6:2])  # l[1:6:2] is l between 1 (included) and 6 (excluded) by steps of 2 thus 1,3,5\n",
    "print(l[::-1]) # reversed order\n",
    "print(l[-1]) # last element"
   ]
  },
  {
   "cell_type": "markdown",
   "metadata": {},
   "source": [
    "### Operations on lists \n",
    "\n",
    "One can add, insert, remove, count, or test if a element is in a list easily"
   ]
  },
  {
   "cell_type": "code",
   "execution_count": null,
   "metadata": {},
   "outputs": [],
   "source": [
    "l.append(10)   # Add an element to l (the list is not copied, it is actually l that is modified)\n",
    "print(l)"
   ]
  },
  {
   "cell_type": "code",
   "execution_count": null,
   "metadata": {},
   "outputs": [],
   "source": [
    "l.insert(1,'u')   # Insert an element at position 1 in l "
   ]
  },
  {
   "cell_type": "code",
   "execution_count": null,
   "metadata": {},
   "outputs": [],
   "source": [
    "l.remove(10) # Remove the first element 10 of l \n",
    "print(l)"
   ]
  },
  {
   "cell_type": "code",
   "execution_count": null,
   "metadata": {},
   "outputs": [],
   "source": [
    "print(len(l)) # length of a list"
   ]
  },
  {
   "cell_type": "markdown",
   "metadata": {},
   "source": [
    "### Handling lists\n",
    "\n",
    "Lists are *pointer*-like types. Meaning that if you write `l2=l`, you *do not copy* `l` to `l2` but rather copy the pointer so modifying one, will modify the other.\n",
    "\n",
    "The proper way to copy list is to use the dedicated `copy` method for list variables. "
   ]
  },
  {
   "cell_type": "code",
   "execution_count": 3,
   "metadata": {},
   "outputs": [
    {
     "name": "stdout",
     "output_type": "stream",
     "text": [
      "[1, 2, 3, [4, 8], True, 2.3, 'Something'] [1, 2, 3, [4, 8], True, 2.3, 'Something']\n"
     ]
    }
   ],
   "source": [
    "l2 = l \n",
    "l.append('Something')\n",
    "print(l,l2)"
   ]
  },
  {
   "cell_type": "code",
   "execution_count": null,
   "metadata": {},
   "outputs": [],
   "source": [
    "l3 = list(l) # l.copy() works in Python 3 \n",
    "l.remove('Something')\n",
    "print(l,l3)"
   ]
  },
  {
   "cell_type": "markdown",
   "metadata": {},
   "source": [
    "## Tuples, Dictionaries [*]\n",
    "\n",
    "\n",
    "* Tuples are similar to list but are created with `(...,...)` or simply comas. They cannot be changed once created.\n"
   ]
  },
  {
   "cell_type": "code",
   "execution_count": null,
   "metadata": {},
   "outputs": [],
   "source": [
    "t = (1,'b',876876.908)\n",
    "print(t,type(t))\n",
    "print(t[0])"
   ]
  },
  {
   "cell_type": "code",
   "execution_count": null,
   "metadata": {},
   "outputs": [],
   "source": [
    "a,b = 12,[987,98987]\n",
    "u = a,b\n",
    "print(a,b,u)"
   ]
  },
  {
   "cell_type": "markdown",
   "metadata": {},
   "source": [
    "##Dictionaries[*]\n",
    "* Dictionaries are aimed at storing values of the form *key-value* with the syntax `{key1 : value1, ...}`\n",
    "\n",
    "This type is often used as a return type in librairies."
   ]
  },
  {
   "cell_type": "code",
   "execution_count": 1,
   "metadata": {},
   "outputs": [
    {
     "name": "stdout",
     "output_type": "stream",
     "text": [
      "{'param1': 1.0, 'param2': True, 'param3': 'red'} <class 'dict'>\n"
     ]
    }
   ],
   "source": [
    "d = {\"param1\" : 1.0, \"param2\" : True, \"param3\" : \"red\"}\n",
    "print(d,type(d))"
   ]
  },
  {
   "cell_type": "code",
   "execution_count": 2,
   "metadata": {},
   "outputs": [
    {
     "name": "stdout",
     "output_type": "stream",
     "text": [
      "1.0\n",
      "{'param1': 2.4, 'param2': True, 'param3': 'red'}\n"
     ]
    }
   ],
   "source": [
    "print(d[\"param1\"])\n",
    "d[\"param1\"] = 2.4\n",
    "print(d)"
   ]
  },
  {
   "cell_type": "markdown",
   "metadata": {},
   "source": [
    "## Strings and text formatting\n",
    "\n",
    "\n",
    "* Strings are delimited with (double) quotes. They can be handled globally the same way as lists (see above).\n",
    "* <tt>print</tt> displays (tuples of) variables (not necessarily strings).\n",
    "* To include variable into string, it is preferable to use the <tt>format</tt> method.\n",
    "\n"
   ]
  },
  {
   "cell_type": "code",
   "execution_count": null,
   "metadata": {},
   "outputs": [],
   "source": [
    "s = \"test\"\n",
    "print(s,type(s))"
   ]
  },
  {
   "cell_type": "code",
   "execution_count": null,
   "metadata": {},
   "outputs": [],
   "source": [
    "print(s[0])\n",
    "print(s + \"42\")"
   ]
  },
  {
   "cell_type": "code",
   "execution_count": null,
   "metadata": {},
   "outputs": [],
   "source": [
    "print(s,42)\n",
    "print(s+\"42\")"
   ]
  },
  {
   "cell_type": "markdown",
   "metadata": {},
   "source": [
    "The `format` method"
   ]
  },
  {
   "cell_type": "code",
   "execution_count": null,
   "metadata": {},
   "outputs": [],
   "source": [
    "print( \"test {}\".format(42) )"
   ]
  },
  {
   "cell_type": "markdown",
   "metadata": {},
   "source": [
    "# 2- Branching and Loops\n",
    "\n",
    "\n",
    "## If, Elif, Else \n",
    "\n",
    "In Python, the formulation for branching is the  `if:` condition (mind the `:`) followed by an indentation of *one tab* that represents what is executed if the condition is true. **The indentation is primordial and at the core of Python.**  \n",
    "\n"
   ]
  },
  {
   "cell_type": "code",
   "execution_count": null,
   "metadata": {},
   "outputs": [],
   "source": [
    "# if :- It is use for decsion making.\n",
    "\n",
    "a = 5\n",
    "\n",
    "if a>3:\n",
    "    print(\"okay\")\n"
   ]
  },
  {
   "cell_type": "code",
   "execution_count": null,
   "metadata": {},
   "outputs": [],
   "source": [
    "# else \n",
    "\n",
    "a = 5\n",
    "b = 13\n",
    "\n",
    "if a>b:\n",
    "    print(\"A is largest\")\n",
    "else:\n",
    "    print(\"B is largest\")"
   ]
  },
  {
   "cell_type": "code",
   "execution_count": null,
   "metadata": {},
   "outputs": [],
   "source": [
    "#elif is else and  if branchinng\n",
    "weekday = int(input('enter days number'))\n",
    "\n",
    "if weekday == 1:\n",
    "    print(\"Monday\")\n",
    "elif weekday == 2:\n",
    "    print(\"Tuesday\")\n",
    "elif weekday == 3:\n",
    "    print(\"Wednesday\")\n",
    "elif weekday == 4:\n",
    "    print(\"Thrusday\")\n",
    "elif weekday == 5:\n",
    "    print('friday')\n",
    "else:\n",
    "    print('Wrong entry')"
   ]
  },
  {
   "cell_type": "markdown",
   "metadata": {},
   "source": [
    "## For loop\n",
    "\n",
    "The syntax of `for` loops is `for x in something:` followed by an indentation of one tab which represents what will be executed. \n",
    "\n",
    "The `something` above can be of different nature: list, dictionary, etc."
   ]
  },
  {
   "cell_type": "code",
   "execution_count": null,
   "metadata": {},
   "outputs": [],
   "source": [
    "for x in [1, 2, 3]:\n",
    "    print(x)"
   ]
  },
  {
   "cell_type": "code",
   "execution_count": null,
   "metadata": {},
   "outputs": [],
   "source": [
    "sentence = \"\"\n",
    "for word in [\"Python\", \"for\", \"data\", \"Science\"]:\n",
    "    sentence = sentence + word + \" \"\n",
    "print(sentence)"
   ]
  },
  {
   "cell_type": "markdown",
   "metadata": {},
   "source": [
    "A useful function is <tt>range</tt> which generated sequences of numbers that can be used in loops."
   ]
  },
  {
   "cell_type": "code",
   "execution_count": null,
   "metadata": {},
   "outputs": [],
   "source": [
    "print(\"Range (from 0) to 4 (excluded) \")\n",
    "for x in range(4): \n",
    "    print(x)   \n",
    "\n",
    "print(\"Range from 2 (included) to 6 (excluded) \")\n",
    "for x in range(2,6): \n",
    "    print(x)\n",
    "\n",
    "print(\"Range from 1 (included) to 12 (excluded) by steps of 3 \")\n",
    "for x in range(1,12,3): \n",
    "    print(x)"
   ]
  },
  {
   "cell_type": "markdown",
   "metadata": {},
   "source": [
    "If the index is needed along with the value, the function `enumerate` is useful."
   ]
  },
  {
   "cell_type": "code",
   "execution_count": 4,
   "metadata": {},
   "outputs": [
    {
     "name": "stdout",
     "output_type": "stream",
     "text": [
      "0 -3\n",
      "1 -2\n",
      "2 -1\n",
      "3 0\n",
      "4 1\n",
      "5 2\n"
     ]
    }
   ],
   "source": [
    "for idx, x in enumerate(range(-3,3)):\n",
    "    print(idx, x)"
   ]
  },
  {
   "cell_type": "markdown",
   "metadata": {},
   "source": [
    "## While loop\n",
    "\n",
    "Similarly to `for` loops, the syntax is`while condition:` followed by an indentation of one tab which represents what will be executed. "
   ]
  },
  {
   "cell_type": "code",
   "execution_count": null,
   "metadata": {},
   "outputs": [],
   "source": [
    "i = 0\n",
    "\n",
    "while i<5:\n",
    "    print(i)\n",
    "    i+=1"
   ]
  },
  {
   "cell_type": "markdown",
   "metadata": {},
   "source": [
    "## Try [*]\n",
    "\n",
    "When a command may fail, you can `try` to execute it and optionally catch the `Exception` (i.e. the error).\n",
    "\n"
   ]
  },
  {
   "cell_type": "code",
   "execution_count": null,
   "metadata": {},
   "outputs": [],
   "source": [
    "a = [1,2,3]\n",
    "print(a)\n",
    "\n",
    "try:\n",
    "    a[1] = 3\n",
    "    print(\"command ok\")\n",
    "except Exception as error: \n",
    "    print(error)\n",
    "    \n",
    "print(a) # The command went through\n",
    "\n",
    "try:\n",
    "    a[6] = 3\n",
    "    print(\"command ok\")\n",
    "except Exception as error: \n",
    "    print(error)\n",
    "    \n",
    "print(a) # The command failed"
   ]
  },
  {
   "cell_type": "markdown",
   "metadata": {},
   "source": [
    "# 3- Functions\n",
    "\n",
    "\n",
    "In Python, a function is defined as  `def function_name(function_arguments):` followed by an indentation representing what is inside the function. \n",
    "\n"
   ]
  },
  {
   "cell_type": "code",
   "execution_count": null,
   "metadata": {},
   "outputs": [],
   "source": [
    "def fun0():\n",
    "    print(\"\\\"fun0\\\" just prints\")\n",
    "\n",
    "fun0()"
   ]
  },
  {
   "cell_type": "markdown",
   "metadata": {},
   "source": [
    "Docstring can be added to document the function, which will appear when calling `help`"
   ]
  },
  {
   "cell_type": "code",
   "execution_count": null,
   "metadata": {},
   "outputs": [],
   "source": [
    "def fun1(l):\n",
    "   \n",
    "    print(l, \" is of length \", len(l))\n",
    "    \n",
    "fun1([1,'iuoiu',True])"
   ]
  },
  {
   "cell_type": "code",
   "execution_count": null,
   "metadata": {},
   "outputs": [],
   "source": [
    "help(fun1)"
   ]
  },
  {
   "cell_type": "markdown",
   "metadata": {},
   "source": [
    "## Outputs\n",
    "\n",
    "`return` outputs a variable, tuple, dictionary, ..."
   ]
  },
  {
   "cell_type": "code",
   "execution_count": null,
   "metadata": {},
   "outputs": [],
   "source": [
    "def square(x):\n",
    "    \n",
    "    return(x ** 2)\n",
    "\n",
    "res = square(12)\n",
    "print(res)"
   ]
  },
  {
   "cell_type": "code",
   "execution_count": null,
   "metadata": {},
   "outputs": [],
   "source": [
    "def powers(x):\n",
    "    \n",
    "    return(x ** 2, x ** 3, x ** 4)\n"
   ]
  },
  {
   "cell_type": "code",
   "execution_count": null,
   "metadata": {},
   "outputs": [],
   "source": [
    "res = powers(12)\n",
    "print(res, type(res))"
   ]
  },
  {
   "cell_type": "code",
   "execution_count": null,
   "metadata": {},
   "outputs": [],
   "source": [
    "def powers_dict(x):\n",
    "    \n",
    "    return{\"two\": x ** 2, \"three\": x ** 3,  \"four\": x ** 4}\n",
    "\n",
    "\n",
    "res = powers_dict(12)\n",
    "print(res, type(res))\n",
    "print(res[\"two\"],type(res[\"two\"]))"
   ]
  },
  {
   "cell_type": "markdown",
   "metadata": {},
   "source": [
    "## Arguments\n",
    "\n",
    "It is possible to \n",
    "* Give the arguments in any order provided that you write the corresponding argument variable name\n",
    "* Set defaults values to variables so that they become optional"
   ]
  },
  {
   "cell_type": "code",
   "execution_count": 5,
   "metadata": {},
   "outputs": [],
   "source": [
    "def fancy_power(x, p=2, debug=False):\n",
    "    \n",
    "    if debug:\n",
    "        print( \"\\\"fancy_power\\\" is called with x =\", x, \" and p =\", p)\n",
    "    return(x**p)"
   ]
  },
  {
   "cell_type": "code",
   "execution_count": 6,
   "metadata": {},
   "outputs": [
    {
     "name": "stdout",
     "output_type": "stream",
     "text": [
      "25\n",
      "125\n"
     ]
    }
   ],
   "source": [
    "print(fancy_power(5))\n",
    "print(fancy_power(5,p=3))"
   ]
  },
  {
   "cell_type": "code",
   "execution_count": 7,
   "metadata": {},
   "outputs": [
    {
     "name": "stdout",
     "output_type": "stream",
     "text": [
      "\"fancy_power\" is called with x = 2  and p = 8\n",
      "256\n"
     ]
    }
   ],
   "source": [
    "res = fancy_power(p=8,x=2,debug=True)\n",
    "print(res)"
   ]
  },
  {
   "cell_type": "markdown",
   "metadata": {},
   "source": [
    "# 4- Classes [*]\n",
    "\n",
    "\n",
    "Classes are at the core of *object-oriented* programming, they are used to represent an object with related *attribues* (variables) and *methods* (functions). \n",
    "\n",
    "They are defined as functions but with the keyword class `class my_class(object):` followed by an indentation. The definition of a class usually contains some methods:\n",
    "* The first argument of a method must be `self` in auto-reference.\n",
    "* Some method names have a specific meaning: \n",
    "   * `__init__`: method executed at the creation of the object\n",
    "   * `__str__` : method executed to represent the object as a string for instance when the object is passed to the function `print`\n",
    "   "
   ]
  },
  {
   "cell_type": "code",
   "execution_count": null,
   "metadata": {},
   "outputs": [],
   "source": [
    "class Point(object):\n",
    "    \n",
    "    def __init__(self, x=0.0, y=0.0):\n",
    "        \"\"\"\n",
    "        Creation of a new point at position (x, y).\n",
    "        \"\"\"\n",
    "        self.x = x\n",
    "        self.y = y\n",
    "        \n",
    "    def translate(self, dx, dy):\n",
    "        \"\"\"\n",
    "        Translate the point by (dx , dy).\n",
    "        \"\"\"\n",
    "        self.x += dx\n",
    "        self.y += dy\n",
    "        \n",
    "    def __str__(self):\n",
    "        return(\"Point: ({:.2f}, {:.2f})\".format(self.x, self.y))"
   ]
  },
  {
   "cell_type": "code",
   "execution_count": null,
   "metadata": {},
   "outputs": [],
   "source": [
    "p1 = Point()\n",
    "print(p1)\n",
    "\n",
    "p1.translate(3,2)\n",
    "print(p1)\n",
    "\n",
    "p2 = Point(1.2,3)\n",
    "print(p2)"
   ]
  },
  {
   "cell_type": "markdown",
   "metadata": {},
   "source": [
    "# 5- Reading and writing files\n",
    "\n",
    "\n",
    "\n",
    "`open` returns a file object, and is most commonly used with two arguments: `open(filename, mode)`.\n",
    "\n",
    "The first argument is a string containing the filename. The second argument is another string containing a few characters describing the way in which the file will be used (optional, 'r' will be assumed if it’s omitted.):\n",
    "* 'r' when the file will only be read\n",
    "* 'w' for only writing (an existing file with the same name will be erased)\n",
    "* 'a' opens the file for appending; any data written to the file is automatically added to the end"
   ]
  },
  {
   "cell_type": "code",
   "execution_count": null,
   "metadata": {},
   "outputs": [],
   "source": [
    "f = open('./data/test.txt', 'w')\n",
    "print(f)"
   ]
  },
  {
   "cell_type": "markdown",
   "metadata": {},
   "source": [
    "`f.write(string)` writes the contents of string to the file."
   ]
  },
  {
   "cell_type": "code",
   "execution_count": null,
   "metadata": {},
   "outputs": [],
   "source": [
    "f.write(\"This is a test\\n\")"
   ]
  },
  {
   "cell_type": "code",
   "execution_count": null,
   "metadata": {},
   "outputs": [],
   "source": [
    "f.close()"
   ]
  },
  {
   "cell_type": "markdown",
   "metadata": {},
   "source": [
    "*Warning:* For the file to be actually written and being able to be opened and modified again without mistakes, it is primordial to close the file handle with `f.close()`\n",
    "\n",
    "\n",
    "`f.read()` will read an entire file and put the pointer at the end."
   ]
  },
  {
   "cell_type": "code",
   "execution_count": null,
   "metadata": {},
   "outputs": [],
   "source": [
    "f = open('./data/text.txt', 'r')\n",
    "f.read()"
   ]
  },
  {
   "cell_type": "code",
   "execution_count": null,
   "metadata": {},
   "outputs": [],
   "source": [
    "f.read()"
   ]
  },
  {
   "cell_type": "markdown",
   "metadata": {},
   "source": [
    "The end of the file has be reached so the command returns ''. \n",
    "\n",
    "To get to the top, use  `f.seek(offset, from_what)`. The position is computed from adding `offset` to a reference point; the reference point is selected by the `from_what` argument. A `from_what` value of 0 measures from the beginning of the file, 1 uses the current file position, and 2 uses the end of the file as the reference point. from_what can be omitted and defaults to 0, using the beginning of the file as the reference point. Thus `f.seek(0)` goes to the top."
   ]
  },
  {
   "cell_type": "code",
   "execution_count": null,
   "metadata": {},
   "outputs": [],
   "source": [
    "f.seek(0)"
   ]
  },
  {
   "cell_type": "markdown",
   "metadata": {},
   "source": [
    "`f.readline()` reads a single line from the file; a newline character (\\n) is left at the end of the string"
   ]
  },
  {
   "cell_type": "code",
   "execution_count": null,
   "metadata": {},
   "outputs": [],
   "source": [
    "f.readline()"
   ]
  },
  {
   "cell_type": "code",
   "execution_count": null,
   "metadata": {},
   "outputs": [],
   "source": [
    "f.readline()"
   ]
  },
  {
   "cell_type": "markdown",
   "metadata": {},
   "source": [
    "For reading lines from a file, you can loop over the file object. This is memory efficient, fast, and leads to simple code:"
   ]
  },
  {
   "cell_type": "code",
   "execution_count": null,
   "metadata": {},
   "outputs": [],
   "source": [
    "f.seek(0)\n",
    "for line in f:\n",
    "    print(line)\n",
    "\n",
    "f.close()"
   ]
  },
  {
   "cell_type": "markdown",
   "metadata": {},
   "source": [
    "# 6- Exercises\n"
   ]
  },
  {
   "cell_type": "markdown",
   "metadata": {},
   "source": [
    "\n",
    "\n",
    "> **Exercise 1:** Odd or Even\n",
    "> \n",
    "> The code snippet below enable the user to enter a number. Check if this number is odd or even. Optionnaly, handle bad inputs (character, float, signs, etc)\n"
   ]
  },
  {
   "cell_type": "code",
   "execution_count": null,
   "metadata": {},
   "outputs": [],
   "source": [
    "num = int(input(\"Enter a number: \"))\n",
    "print(num)\n",
    "if num%2 == 0:\n",
    "    print('even number')\n",
    "else:\n",
    "    print('odd')"
   ]
  },
  {
   "cell_type": "markdown",
   "metadata": {},
   "source": [
    "---"
   ]
  },
  {
   "cell_type": "markdown",
   "metadata": {},
   "source": [
    "> **Exercise 2:**  Fibonacci \n",
    ">\n",
    "> The Fibonacci seqence is a sequence of numbers where the next number in the sequence is the sum of the previous two numbers in the sequence. The sequence looks like this: 1, 1, 2, 3, 5, 8, 13. Write a function that generate a given number of elements of the Fibonacci sequence.\n"
   ]
  },
  {
   "cell_type": "code",
   "execution_count": null,
   "metadata": {
    "scrolled": true
   },
   "outputs": [],
   "source": [
    "l=[1 ,1 ,2, 3, 5, 8, 13]\n",
    "res=0\n",
    "for x in l:\n",
    "    res = res + x\n",
    "    \n",
    "print(res)"
   ]
  },
  {
   "cell_type": "markdown",
   "metadata": {},
   "source": [
    "---"
   ]
  },
  {
   "cell_type": "markdown",
   "metadata": {},
   "source": [
    "##encapsulation and abstraction\n",
    "\n",
    "Encapsulation is one of the most fundamental concepts in object-oriented programming (OOP). This is the concept of wrapping data and methods that work with data in one unit. This prevents data modification accidentally by limiting access to variables and methods. An object's method can change a variable's value to prevent accidental changes. These variables are called private variables.\n",
    "\n",
    "Abstraction is used to hide the internal functionality of the function from the users. The users only interact with the basic implementation of the function, but inner working is hidden. User is familiar with that \"what function does\" but they don't know \"how it does.\""
   ]
  },
  {
   "cell_type": "code",
   "execution_count": 7,
   "metadata": {},
   "outputs": [
    {
     "name": "stdout",
     "output_type": "stream",
     "text": [
      "boys are talking\n",
      "humans can speak\n",
      "girls are singing\n",
      "humans can speak\n"
     ]
    }
   ],
   "source": [
    "##inheritence\n",
    "class human(object):\n",
    "    def speak(self):\n",
    "        print('humans can speak')\n",
    "    \n",
    "    def write(self):\n",
    "        print('humans can write')\n",
    "        \n",
    "class boy(human):\n",
    "    def talk(self):\n",
    "        print('boys are talking')\n",
    "        \n",
    "class girl(human):\n",
    "    def sing(self):\n",
    "        print('girls are singing')\n",
    "        \n",
    "h=boy()\n",
    "g=girl()\n",
    "h.talk()\n",
    "h.speak()\n",
    "g.sing()\n",
    "g.speak()"
   ]
  },
  {
   "cell_type": "code",
   "execution_count": 8,
   "metadata": {},
   "outputs": [
    {
     "name": "stdout",
     "output_type": "stream",
     "text": [
      "There are multiple types of birds in the world.\n",
      "Many of these birds can fly but some cannot.\n",
      "There are multiple types of birds in the world.\n",
      "Sparrows are the bird which can fly.\n",
      "There are multiple types of birds in the world.\n",
      "Ostriches are the birds which cannot fly.\n"
     ]
    }
   ],
   "source": [
    "##polymorphism and inheritence example\n",
    "class Birds:  \n",
    "    def intro1(self):  \n",
    "        print(\"There are multiple types of birds in the world.\")  \n",
    "    def flight1(self):  \n",
    "        print(\"Many of these birds can fly but some cannot.\")  \n",
    "  \n",
    "class sparrow1(Birds):  \n",
    "    def flight1(self):  \n",
    "        print(\"Sparrows are the bird which can fly.\")  \n",
    "      \n",
    "class ostrich1(Birds):  \n",
    "    def flight1(self):  \n",
    "        print(\"Ostriches are the birds which cannot fly.\")  \n",
    "      \n",
    "b = Birds()  \n",
    "s = sparrow1()  \n",
    "o = ostrich1()  \n",
    "  \n",
    "b.intro1()  \n",
    "b.flight1()  \n",
    "  \n",
    "s.intro1()  \n",
    "s.flight1()  \n",
    "  \n",
    "o.intro1()  \n",
    "o.flight1()  "
   ]
  },
  {
   "cell_type": "markdown",
   "metadata": {},
   "source": [
    "## Downloading modules and packages in  python\n",
    " For installing any package or module in python you should have pip installed  in your system.\n",
    " #open your command prompt or any terminal window\n",
    " and write\n",
    " \"pip install package name\"\n",
    " example=`'pip install numpy'`\n",
    " \n",
    " if youre using jupyter notebook\n",
    " write\n",
    " `!pip install package name`\n",
    " "
   ]
  },
  {
   "cell_type": "markdown",
   "metadata": {},
   "source": [
    "## Errors and exceptions handling\n",
    " There are various types of errors faced in python such as "
   ]
  },
  {
   "cell_type": "code",
   "execution_count": 9,
   "metadata": {},
   "outputs": [
    {
     "ename": "SyntaxError",
     "evalue": "incomplete input (3879016313.py, line 3)",
     "output_type": "error",
     "traceback": [
      "\u001b[1;36m  Cell \u001b[1;32mIn[9], line 3\u001b[1;36m\u001b[0m\n\u001b[1;33m    print(h\u001b[0m\n\u001b[1;37m           ^\u001b[0m\n\u001b[1;31mSyntaxError\u001b[0m\u001b[1;31m:\u001b[0m incomplete input\n"
     ]
    }
   ],
   "source": [
    "##syntax error\n",
    "h=\"hi how are you\"\n",
    "print(h\n",
    "#any missing character or wrong syntax"
   ]
  },
  {
   "cell_type": "code",
   "execution_count": 2,
   "metadata": {},
   "outputs": [
    {
     "ename": "ZeroDivisionError",
     "evalue": "division by zero",
     "output_type": "error",
     "traceback": [
      "\u001b[1;31m---------------------------------------------------------------------------\u001b[0m",
      "\u001b[1;31mZeroDivisionError\u001b[0m                         Traceback (most recent call last)",
      "Cell \u001b[1;32mIn[2], line 3\u001b[0m\n\u001b[0;32m      1\u001b[0m \u001b[38;5;66;03m##logical error (errors afced after errors in logics of the programe)\u001b[39;00m\n\u001b[0;32m      2\u001b[0m m\u001b[38;5;241m=\u001b[39m\u001b[38;5;241m100\u001b[39m\n\u001b[1;32m----> 3\u001b[0m \u001b[38;5;28mprint\u001b[39m(\u001b[43mm\u001b[49m\u001b[38;5;241;43m/\u001b[39;49m\u001b[38;5;241;43m0\u001b[39;49m)\n",
      "\u001b[1;31mZeroDivisionError\u001b[0m: division by zero"
     ]
    }
   ],
   "source": [
    "##logical error (errors afced after errors in logics of the programe)\n",
    "m=100\n",
    "print(m/0)"
   ]
  },
  {
   "cell_type": "code",
   "execution_count": 3,
   "metadata": {},
   "outputs": [
    {
     "ename": "IndentationError",
     "evalue": "expected an indented block after 'if' statement on line 3 (1229263839.py, line 4)",
     "output_type": "error",
     "traceback": [
      "\u001b[1;36m  Cell \u001b[1;32mIn[3], line 4\u001b[1;36m\u001b[0m\n\u001b[1;33m    p   rint(x)\u001b[0m\n\u001b[1;37m    ^\u001b[0m\n\u001b[1;31mIndentationError\u001b[0m\u001b[1;31m:\u001b[0m expected an indented block after 'if' statement on line 3\n"
     ]
    }
   ],
   "source": [
    "##indentation error\n",
    "x=10\n",
    "if x==10:\n",
    "print(x)"
   ]
  },
  {
   "cell_type": "markdown",
   "metadata": {},
   "source": [
    "## Try except and  finally\n",
    "for error handling we use try except and fnally method\n"
   ]
  },
  {
   "cell_type": "code",
   "execution_count": 27,
   "metadata": {},
   "outputs": [
    {
     "name": "stdout",
     "output_type": "stream",
     "text": [
      "code start\n",
      "an error occurs\n",
      "GeeksForGeeks\n"
     ]
    }
   ],
   "source": [
    "\n",
    "try:\n",
    "     print(\"code start\")\n",
    "          \n",
    "     print(1 / 0)\n",
    "except:\n",
    "     print(\"an error occurs\")\n",
    "\n",
    "finally:\n",
    "     print(\"done\")"
   ]
  },
  {
   "cell_type": "code",
   "execution_count": 30,
   "metadata": {},
   "outputs": [
    {
     "name": "stdout",
     "output_type": "stream",
     "text": [
      "enter money:ifg\n",
      "invalid literal for int() with base 10: 'ifg'\n"
     ]
    }
   ],
   "source": [
    "try:\n",
    "    amount = int(input('enter money:'))\n",
    "    if amount < 2999:\n",
    "          \n",
    "        # raise the ValueError\n",
    "        raise ValueError(\"please add money in your account\")\n",
    "    else:\n",
    "        print(\"You are eligible to purchase\")\n",
    "              \n",
    "# if false then raise the value error\n",
    "except ValueError as e:\n",
    "        print(e)"
   ]
  },
  {
   "cell_type": "code",
   "execution_count": 30,
   "metadata": {},
   "outputs": [
    {
     "name": "stdout",
     "output_type": "stream",
     "text": [
      "* * * * * \n",
      "* * * * \n",
      "* * * \n",
      "* * \n",
      "* \n"
     ]
    }
   ],
   "source": [
    "for i in range(5):\n",
    "    for j in range(i,5):\n",
    "        print(end=\"* \")\n",
    "    print()\n",
    "\n",
    "        "
   ]
  },
  {
   "cell_type": "code",
   "execution_count": 6,
   "metadata": {},
   "outputs": [
    {
     "name": "stdout",
     "output_type": "stream",
     "text": [
      "enter nunmber4\n",
      "24\n"
     ]
    }
   ],
   "source": [
    "f=1\n",
    "n=int(input(\"enter nunmber\"))\n",
    "for x in range(1,n+1):\n",
    "    f=f*x\n",
    "print(f)"
   ]
  },
  {
   "cell_type": "code",
   "execution_count": 8,
   "metadata": {},
   "outputs": [
    {
     "name": "stdout",
     "output_type": "stream",
     "text": [
      "enter number:6\n",
      "-1\n",
      "1\n",
      "3\n",
      "5\n",
      "7\n",
      "9\n",
      "11\n"
     ]
    }
   ],
   "source": []
  },
  {
   "cell_type": "code",
   "execution_count": 9,
   "metadata": {},
   "outputs": [
    {
     "name": "stderr",
     "output_type": "stream",
     "text": [
      "WARNING: Retrying (Retry(total=4, connect=None, read=None, redirect=None, status=None)) after connection broken by 'NewConnectionError('<pip._vendor.urllib3.connection.HTTPSConnection object at 0x00000233021DBB50>: Failed to establish a new connection: [Errno 11001] getaddrinfo failed')': /simple/beautifulsoup/\n",
      "WARNING: Retrying (Retry(total=3, connect=None, read=None, redirect=None, status=None)) after connection broken by 'NewConnectionError('<pip._vendor.urllib3.connection.HTTPSConnection object at 0x00000233021F0510>: Failed to establish a new connection: [Errno 11001] getaddrinfo failed')': /simple/beautifulsoup/\n",
      "WARNING: Retrying (Retry(total=2, connect=None, read=None, redirect=None, status=None)) after connection broken by 'NewConnectionError('<pip._vendor.urllib3.connection.HTTPSConnection object at 0x00000233021F1110>: Failed to establish a new connection: [Errno 11001] getaddrinfo failed')': /simple/beautifulsoup/\n",
      "WARNING: Retrying (Retry(total=1, connect=None, read=None, redirect=None, status=None)) after connection broken by 'NewConnectionError('<pip._vendor.urllib3.connection.HTTPSConnection object at 0x00000233021F1A50>: Failed to establish a new connection: [Errno 11001] getaddrinfo failed')': /simple/beautifulsoup/\n",
      "WARNING: Retrying (Retry(total=0, connect=None, read=None, redirect=None, status=None)) after connection broken by 'NewConnectionError('<pip._vendor.urllib3.connection.HTTPSConnection object at 0x00000233021F2450>: Failed to establish a new connection: [Errno 11001] getaddrinfo failed')': /simple/beautifulsoup/\n",
      "ERROR: Could not find a version that satisfies the requirement beautifulsoup (from versions: none)\n",
      "ERROR: No matching distribution found for beautifulsoup\n"
     ]
    }
   ],
   "source": [
    "!pip install beautifulsoup\n"
   ]
  },
  {
   "cell_type": "code",
   "execution_count": null,
   "metadata": {},
   "outputs": [],
   "source": []
  }
 ],
 "metadata": {
  "kernelspec": {
   "display_name": "Python 3 (ipykernel)",
   "language": "python",
   "name": "python3"
  },
  "language_info": {
   "codemirror_mode": {
    "name": "ipython",
    "version": 3
   },
   "file_extension": ".py",
   "mimetype": "text/x-python",
   "name": "python",
   "nbconvert_exporter": "python",
   "pygments_lexer": "ipython3",
   "version": "3.11.4"
  },
  "varInspector": {
   "cols": {
    "lenName": 16,
    "lenType": 16,
    "lenVar": 40
   },
   "kernels_config": {
    "python": {
     "delete_cmd_postfix": "",
     "delete_cmd_prefix": "del ",
     "library": "var_list.py",
     "varRefreshCmd": "print(var_dic_list())"
    },
    "r": {
     "delete_cmd_postfix": ") ",
     "delete_cmd_prefix": "rm(",
     "library": "var_list.r",
     "varRefreshCmd": "cat(var_dic_list()) "
    }
   },
   "types_to_exclude": [
    "module",
    "function",
    "builtin_function_or_method",
    "instance",
    "_Feature"
   ],
   "window_display": false
  }
 },
 "nbformat": 4,
 "nbformat_minor": 2
}
